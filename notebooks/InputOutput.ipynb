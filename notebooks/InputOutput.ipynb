{
 "cells": [
  {
   "cell_type": "markdown",
   "metadata": {},
   "source": [
    "# Input and Output"
   ]
  },
  {
   "cell_type": "markdown",
   "metadata": {},
   "source": [
    "In the end, people write computer programs because they are, they hope, useful in some way or another *to humans*. That means that we must, somehow, be able to \"tell\" the computer what we want it to compute: that is our *input* to the computer. And we must, somehow, get the computer to \"tell\" us about the result of its computation: that is the computer's *output* to us.\n",
    "\n",
    "In modern cloud architectures, the chain of inputs and outputs may be long and convoluted: your input of an order at amazon.com may pass through many computers before the order is actually placed, and the confirmation may also have to progress from one computer to another... as Hamlet says, \"a king may go a progress through the guts of a beggar.\"\n",
    "\n",
    "But this course is an *introduction* to programming, so we don't want to involve you in such complex chains of input and output! Instead, we will be looking at how you can get input *directly* into the program upon which you are working, and how you can *directly* see the output of your program."
   ]
  },
  {
   "cell_type": "markdown",
   "metadata": {},
   "source": [
    "## Output"
   ]
  },
  {
   "cell_type": "markdown",
   "metadata": {},
   "source": [
    "In Python, the simplest way of outputting something from your program is the `print` function. And the simplest form of `print` just takes a single value you wish to output. So, to write the traditional first program that outputs \"Hello world!\" we just write:"
   ]
  },
  {
   "cell_type": "code",
   "execution_count": 1,
   "metadata": {},
   "outputs": [
    {
     "name": "stdout",
     "output_type": "stream",
     "text": [
      "Hello world!\n"
     ]
    }
   ],
   "source": [
    "print(\"Hello world!\")"
   ]
  },
  {
   "cell_type": "markdown",
   "metadata": {},
   "source": [
    "We can put *any* Python object between the parentheses and we will get *some* output:"
   ]
  },
  {
   "cell_type": "code",
   "execution_count": 2,
   "metadata": {},
   "outputs": [
    {
     "name": "stdout",
     "output_type": "stream",
     "text": [
      "7\n"
     ]
    }
   ],
   "source": [
    "print(7)"
   ]
  },
  {
   "cell_type": "code",
   "execution_count": 3,
   "metadata": {},
   "outputs": [
    {
     "name": "stdout",
     "output_type": "stream",
     "text": [
      "7.77\n"
     ]
    }
   ],
   "source": [
    "x = 7.77\n",
    "print(x)"
   ]
  },
  {
   "cell_type": "code",
   "execution_count": 5,
   "metadata": {},
   "outputs": [
    {
     "name": "stdout",
     "output_type": "stream",
     "text": [
      "<function f at 0x110739b70>\n"
     ]
    }
   ],
   "source": [
    "def f(n):\n",
    "    return n ** 2\n",
    "\n",
    "print(f)"
   ]
  },
  {
   "cell_type": "markdown",
   "metadata": {},
   "source": [
    "(The part after \"at\" is the memory address of the function, in *hexadecimal*, or *base-16*. We will learn about different number representations later in this course.)\n",
    "\n",
    "`print()` can do far fancier things than we have seen so far, as we will learn later in the course!"
   ]
  },
  {
   "cell_type": "markdown",
   "metadata": {},
   "source": [
    "## Input"
   ]
  },
  {
   "cell_type": "markdown",
   "metadata": {},
   "source": [
    "There are many ways a program can get input... from cameras, from microphones, from sensors, from other programs... but the simplest if just to ask the user to type something. Python gives us a very direct way to get such input: the built-in `input()` function. The input function takes a single argument, which is a *prompt* asking the user for a value, and it returns that value as a string:"
   ]
  },
  {
   "cell_type": "code",
   "execution_count": 6,
   "metadata": {},
   "outputs": [
    {
     "name": "stdout",
     "output_type": "stream",
     "text": [
      "Who are you?Callahan\n"
     ]
    },
    {
     "data": {
      "text/plain": [
       "'Callahan'"
      ]
     },
     "execution_count": 6,
     "metadata": {},
     "output_type": "execute_result"
    }
   ],
   "source": [
    "answer = input(\"Who are you?\")\n",
    "answer"
   ]
  },
  {
   "cell_type": "markdown",
   "metadata": {},
   "source": [
    "A common pattern is that we want the user's input as a number, so we must use type conversion:"
   ]
  },
  {
   "cell_type": "code",
   "execution_count": 7,
   "metadata": {},
   "outputs": [
    {
     "name": "stdout",
     "output_type": "stream",
     "text": [
      "What is your age?100\n",
      "100100100100 400\n"
     ]
    }
   ],
   "source": [
    "age_str = input(\"What is your age?\")\n",
    "age_int = int(age_str)\n",
    "age_str *= 4\n",
    "age_int *= 4\n",
    "print(age_str, age_int)"
   ]
  },
  {
   "cell_type": "code",
   "execution_count": 8,
   "metadata": {},
   "outputs": [
    {
     "name": "stdout",
     "output_type": "stream",
     "text": [
      "****************************************\n",
      "2020 Earnings Report\n",
      "****************************************\n"
     ]
    }
   ],
   "source": [
    "print(\"*\" * 40)\n",
    "print(\"2020 Earnings Report\")\n",
    "print(\"*\" * 40)"
   ]
  },
  {
   "cell_type": "code",
   "execution_count": 9,
   "metadata": {},
   "outputs": [
    {
     "name": "stdout",
     "output_type": "stream",
     "text": [
      "Your age please?30\n"
     ]
    },
    {
     "data": {
      "text/plain": [
       "30"
      ]
     },
     "execution_count": 9,
     "metadata": {},
     "output_type": "execute_result"
    }
   ],
   "source": [
    "age = int(input(\"Your age please?\"))\n",
    "age"
   ]
  },
  {
   "cell_type": "code",
   "execution_count": null,
   "metadata": {},
   "outputs": [],
   "source": []
  }
 ],
 "metadata": {
  "kernelspec": {
   "display_name": "Python 3",
   "language": "python",
   "name": "python3"
  },
  "language_info": {
   "codemirror_mode": {
    "name": "ipython",
    "version": 3
   },
   "file_extension": ".py",
   "mimetype": "text/x-python",
   "name": "python",
   "nbconvert_exporter": "python",
   "pygments_lexer": "ipython3",
   "version": "3.6.2"
  }
 },
 "nbformat": 4,
 "nbformat_minor": 4
}
