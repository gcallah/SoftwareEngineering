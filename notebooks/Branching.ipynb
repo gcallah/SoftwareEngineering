{
 "cells": [
  {
   "cell_type": "markdown",
   "metadata": {},
   "source": [
    "## Branching\n",
    "\n",
    "Branches are how programs select different sections of code to execute. A typical example would be a payroll program that, *if* the employee is hourly, calculates hourly pay, *else* calculates salaried pay.\n",
    "\n",
    "Let's look at a simple if:"
   ]
  },
  {
   "cell_type": "code",
   "execution_count": 2,
   "metadata": {},
   "outputs": [
    {
     "name": "stdout",
     "output_type": "stream",
     "text": [
      "i is less than 7\n"
     ]
    }
   ],
   "source": [
    "i = 6\n",
    "if i < 7:\n",
    "    print(\"i is less than 7\")\n",
    "else:\n",
    "    print(\"i is greater than or equal to 7\")"
   ]
  },
  {
   "cell_type": "markdown",
   "metadata": {},
   "source": [
    "Python also has an `elif` construct:"
   ]
  },
  {
   "cell_type": "code",
   "execution_count": 6,
   "metadata": {},
   "outputs": [
    {
     "name": "stdout",
     "output_type": "stream",
     "text": [
      "credits > 3 You must matriculate to register.\n"
     ]
    }
   ],
   "source": [
    "# Imagine we are writing a course registration program...\n",
    "CREDIT_CUTOFF = 3\n",
    "student_credits = 6\n",
    "if student_credits < CREDIT_CUTOFF:\n",
    "    print(\"credits <\", CREDIT_CUTOFF, \"You may register!\")\n",
    "elif student_credits == CREDIT_CUTOFF:\n",
    "    print(\"credits ==\", CREDIT_CUTOFF, \"Please see an advisor.\")\n",
    "else:\n",
    "    print(\"credits >\", CREDIT_CUTOFF, \"You must matriculate to register.\")"
   ]
  },
  {
   "cell_type": "markdown",
   "metadata": {},
   "source": [
    "Here is something *not* to do with `elif`:"
   ]
  },
  {
   "cell_type": "code",
   "execution_count": 11,
   "metadata": {},
   "outputs": [
    {
     "name": "stdout",
     "output_type": "stream",
     "text": [
      "n is even\n"
     ]
    }
   ],
   "source": [
    "n = 1243786712\n",
    "if n % 2 == 0:\n",
    "    print(\"n is even\")\n",
    "elif n % 2 == 1:\n",
    "    print(\"n is odd\")"
   ]
  },
  {
   "cell_type": "markdown",
   "metadata": {},
   "source": [
    "What is wrong? Can anyone explain?\n",
    "\n",
    "Note: the problem is *not* chiefly efficiency! It is puzzling your readers!\n",
    "\n",
    "**Principle**: If there are *only two possibilities*, and you test for one, the *other must be true*. **Don't** test it. \n",
    "\n",
    "The correct way to write the above is:"
   ]
  },
  {
   "cell_type": "code",
   "execution_count": null,
   "metadata": {},
   "outputs": [],
   "source": [
    "i = 5\n",
    "if i % 2 == 0:\n",
    "    print(\"i is even\")\n",
    "else:\n",
    "    print(\"i is odd\")"
   ]
  },
  {
   "cell_type": "markdown",
   "metadata": {},
   "source": [
    "### Controlling a Multiway Branch\n",
    "\n",
    "Let's look at a more complex decision."
   ]
  },
  {
   "cell_type": "code",
   "execution_count": 13,
   "metadata": {},
   "outputs": [
    {
     "name": "stdout",
     "output_type": "stream",
     "text": [
      "Please enter the outdoor temperature: 1530\n",
      "Temperature is 1530\n",
      "You are probably melting.\n"
     ]
    }
   ],
   "source": [
    "temp = int(input(\"Please enter the outdoor temperature: \"))\n",
    "\n",
    "print(\"Temperature is\", temp)\n",
    "\n",
    "# here is our branch!\n",
    "if temp < 10:\n",
    "    print(\"Stay inside!\")\n",
    "elif temp < 30:\n",
    "    print(\"Wear a winter coat.\")\n",
    "elif temp < 50:\n",
    "    print(\"Wear a sweater.\")\n",
    "elif temp < 70:\n",
    "    print(\"Wear a windbreaker.\")\n",
    "elif temp < 100:\n",
    "    print(\"Wear shorts.\")\n",
    "elif temp < 200:\n",
    "    print(\"Stay inside!\")\n",
    "else:\n",
    "    print(\"You are probably melting.\")"
   ]
  },
  {
   "cell_type": "markdown",
   "metadata": {},
   "source": [
    "### What Is True?\n",
    "\n",
    "![Image of Socrates](https://upload.wikimedia.org/wikipedia/commons/thumb/8/8d/Σωκράτης%2C_Ακαδημία_Αθηνών_6616.jpg/220px-Σωκράτης%2C_Ακαδημία_Αθηνών_6616.jpg)\n",
    "\n",
    "No, we're not going all Socratic here!\n",
    "\n",
    "We want to know what *Python* considers to be true, in an `if` or `elif` clause.\n",
    "\n",
    "Let's experiment!"
   ]
  },
  {
   "cell_type": "code",
   "execution_count": 1,
   "metadata": {},
   "outputs": [
    {
     "name": "stdout",
     "output_type": "stream",
     "text": [
      "i is False\n"
     ]
    }
   ],
   "source": [
    "i = 0\n",
    "if i:\n",
    "    print(\"i is True!\")\n",
    "else:\n",
    "    print(\"i is False\")"
   ]
  },
  {
   "cell_type": "code",
   "execution_count": 2,
   "metadata": {},
   "outputs": [
    {
     "name": "stdout",
     "output_type": "stream",
     "text": [
      "i is True!\n"
     ]
    }
   ],
   "source": [
    "i = -34\n",
    "if i:\n",
    "    print(\"i is True!\")\n",
    "else:\n",
    "    print(\"i is False\")"
   ]
  },
  {
   "cell_type": "code",
   "execution_count": null,
   "metadata": {},
   "outputs": [],
   "source": [
    "f = 0.0\n",
    "if f:\n",
    "    print(\"f is True!\")\n",
    "else:\n",
    "    print(\"f is False\")"
   ]
  },
  {
   "cell_type": "code",
   "execution_count": 3,
   "metadata": {},
   "outputs": [
    {
     "name": "stdout",
     "output_type": "stream",
     "text": [
      "s is False\n"
     ]
    }
   ],
   "source": [
    "s = \"\"\n",
    "if s:\n",
    "    print(\"s is True!\")\n",
    "else:\n",
    "    print(\"s is False\")"
   ]
  },
  {
   "cell_type": "code",
   "execution_count": 4,
   "metadata": {},
   "outputs": [
    {
     "name": "stdout",
     "output_type": "stream",
     "text": [
      "s is True!\n"
     ]
    }
   ],
   "source": [
    "s = \"Can you guess?\"\n",
    "if s:\n",
    "    print(\"s is True!\")\n",
    "else:\n",
    "    print(\"s is False\")"
   ]
  },
  {
   "cell_type": "code",
   "execution_count": null,
   "metadata": {},
   "outputs": [],
   "source": [
    "l = []\n",
    "if l:\n",
    "    print(\"l is True!\")\n",
    "else:\n",
    "    print(\"l is False\")"
   ]
  },
  {
   "cell_type": "code",
   "execution_count": null,
   "metadata": {},
   "outputs": [],
   "source": [
    "l.append(\"Item1\")\n",
    "if l:\n",
    "    print(\"l is True!\")\n",
    "else:\n",
    "    print(\"l is False\")"
   ]
  }
 ],
 "metadata": {
  "kernelspec": {
   "display_name": "Python 3",
   "language": "python",
   "name": "python3"
  },
  "language_info": {
   "codemirror_mode": {
    "name": "ipython",
    "version": 3
   },
   "file_extension": ".py",
   "mimetype": "text/x-python",
   "name": "python",
   "nbconvert_exporter": "python",
   "pygments_lexer": "ipython3",
   "version": "3.6.2"
  }
 },
 "nbformat": 4,
 "nbformat_minor": 2
}
