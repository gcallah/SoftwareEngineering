{
 "cells": [
  {
   "cell_type": "markdown",
   "metadata": {},
   "source": [
    "## Manipulating Strings"
   ]
  },
  {
   "cell_type": "markdown",
   "metadata": {},
   "source": [
    "### A string object\n",
    "\n",
    "Almost everything in Python is an [*object*](https://en.wikipedia.org/wiki/Object_%28computer_science%29). In this notebook, we will begin learning what that means.\n",
    "\n",
    "An object has *attributes*: both *data* and *methods* (functions attached to the object). Let's look at what those are for a string."
   ]
  },
  {
   "cell_type": "markdown",
   "metadata": {},
   "source": [
    "We access the data and methods of a Python object with the *dot operator*: `.`"
   ]
  },
  {
   "cell_type": "code",
   "execution_count": null,
   "metadata": {},
   "outputs": [],
   "source": [
    "i = 7\n",
    "i.__class__"
   ]
  },
  {
   "cell_type": "code",
   "execution_count": null,
   "metadata": {},
   "outputs": [],
   "source": [
    "s = \"A String\""
   ]
  },
  {
   "cell_type": "markdown",
   "metadata": {},
   "source": [
    "Some attributes of `s`:"
   ]
  },
  {
   "cell_type": "code",
   "execution_count": null,
   "metadata": {},
   "outputs": [],
   "source": [
    "print(s.__doc__)"
   ]
  },
  {
   "cell_type": "code",
   "execution_count": null,
   "metadata": {},
   "outputs": [],
   "source": [
    "print(s.__class__)"
   ]
  },
  {
   "cell_type": "markdown",
   "metadata": {},
   "source": [
    "A string object also has *methods*: functions attached to the object:"
   ]
  },
  {
   "cell_type": "code",
   "execution_count": null,
   "metadata": {},
   "outputs": [],
   "source": [
    "s.lower()"
   ]
  },
  {
   "cell_type": "code",
   "execution_count": null,
   "metadata": {},
   "outputs": [],
   "source": [
    "print(s)"
   ]
  },
  {
   "cell_type": "code",
   "execution_count": null,
   "metadata": {},
   "outputs": [],
   "source": [
    "s.upper()"
   ]
  },
  {
   "cell_type": "markdown",
   "metadata": {},
   "source": [
    "We can get all of an objects attributes and methods with the built-in function `dir()`:"
   ]
  },
  {
   "cell_type": "code",
   "execution_count": null,
   "metadata": {},
   "outputs": [],
   "source": [
    "dir(i)"
   ]
  },
  {
   "cell_type": "code",
   "execution_count": null,
   "metadata": {},
   "outputs": [],
   "source": [
    "print(i >= 7)\n",
    "print(i.__ge__(7))\n",
    "print(i + 10)\n",
    "print(i.__add__(10))"
   ]
  },
  {
   "cell_type": "code",
   "execution_count": null,
   "metadata": {},
   "outputs": [],
   "source": [
    "len(s)"
   ]
  },
  {
   "cell_type": "code",
   "execution_count": null,
   "metadata": {},
   "outputs": [],
   "source": [
    "s.__len__()"
   ]
  },
  {
   "cell_type": "markdown",
   "metadata": {},
   "source": [
    "We can see all string attributes by running:"
   ]
  },
  {
   "cell_type": "code",
   "execution_count": null,
   "metadata": {},
   "outputs": [],
   "source": [
    "dir(s)"
   ]
  },
  {
   "cell_type": "code",
   "execution_count": null,
   "metadata": {},
   "outputs": [],
   "source": [
    "s2 = \"ZZZZZ!\"\n",
    "s < s2"
   ]
  },
  {
   "cell_type": "code",
   "execution_count": null,
   "metadata": {},
   "outputs": [],
   "source": [
    "s.__lt__(s2)"
   ]
  },
  {
   "cell_type": "code",
   "execution_count": null,
   "metadata": {},
   "outputs": [],
   "source": [
    "\"Is This Formatted Like A Title?\".istitle()"
   ]
  },
  {
   "cell_type": "markdown",
   "metadata": {},
   "source": [
    "We are going to focus on the following string methods:\n",
    "\n",
    "- `upper()`: returns string in uppercase\n",
    "- `lower()`: returns string in lowercase\n",
    "- `capitalize()`: returns capitalized string\n",
    "- `strip()`: returns string stripped of leading and trailing whitespace\n",
    "- `count(item)`: returns the number of times `item` occurs in a string\n",
    "- `replace(old, new)`: returns a string with each occurence of `old` replaced by `new`\n",
    "- `find(item)`: returns the first index in a string where `item` is found, or `-1` if it is not found\n",
    "- `format(substitutions)`: returns a string formatted according to `substitutions` \n",
    "\n",
    "We've already looked at `upper()` and `lower()`. Let's try the rest:"
   ]
  },
  {
   "cell_type": "code",
   "execution_count": null,
   "metadata": {},
   "outputs": [],
   "source": [
    "s = \"porgie tirebiter\"\n",
    "print(s.capitalize())\n",
    "print(s)  # original is unchanged"
   ]
  },
  {
   "cell_type": "code",
   "execution_count": null,
   "metadata": {},
   "outputs": [],
   "source": [
    "s = \"   lot's o' whitespace   \"\n",
    "print(s)\n",
    "s_stripped = s.strip()\n",
    "print(s_stripped)\n",
    "print(\"len s = \", len(s), \"; len s_stripped =\", len(s_stripped))"
   ]
  },
  {
   "cell_type": "code",
   "execution_count": null,
   "metadata": {},
   "outputs": [],
   "source": [
    "s = \"Beeeeeeeeeeeer\"\n",
    "print(s.count(\"eee\"))"
   ]
  },
  {
   "cell_type": "code",
   "execution_count": null,
   "metadata": {},
   "outputs": [],
   "source": [
    "s2 = \"846-902-3474\".replace(\"-\", \"\")\n",
    "print(s2)"
   ]
  },
  {
   "cell_type": "markdown",
   "metadata": {},
   "source": [
    "Notice we **have not** changed `s`:"
   ]
  },
  {
   "cell_type": "code",
   "execution_count": null,
   "metadata": {},
   "outputs": [],
   "source": [
    "print(s)"
   ]
  },
  {
   "cell_type": "markdown",
   "metadata": {},
   "source": [
    "`find()` returns the index of the substring of a string if the substring is found, or -1 if not."
   ]
  },
  {
   "cell_type": "code",
   "execution_count": null,
   "metadata": {},
   "outputs": [],
   "source": [
    "s2.find(\"234\")"
   ]
  },
  {
   "cell_type": "code",
   "execution_count": null,
   "metadata": {},
   "outputs": [],
   "source": [
    "s2.find(\"432\")"
   ]
  },
  {
   "cell_type": "markdown",
   "metadata": {},
   "source": [
    "Let's find repeated instances of a substring in a string:"
   ]
  },
  {
   "cell_type": "code",
   "execution_count": 3,
   "metadata": {
    "scrolled": true
   },
   "outputs": [
    {
     "name": "stdout",
     "output_type": "stream",
     "text": [
      "Looking for -\n",
      "found - at index 3\n",
      "found - at index 7\n",
      "found - at index 12\n"
     ]
    }
   ],
   "source": [
    "s = \"812-921-4535-12345\"\n",
    "i = 0\n",
    "print(\"Looking for -\")\n",
    "while i != -1:\n",
    "    i = s.find(\"-\", i)\n",
    "    if i >= 0:\n",
    "        print(\"found - at index\", i)\n",
    "        i += 1"
   ]
  },
  {
   "cell_type": "markdown",
   "metadata": {},
   "source": [
    "Given the possibility the string is not there, we need to check:"
   ]
  },
  {
   "cell_type": "code",
   "execution_count": null,
   "metadata": {},
   "outputs": [],
   "source": [
    "name = \"Duke Reginald Balderdash\"\n",
    "index = name.find(\"Sir\")\n",
    "print(\"index =\", index)\n",
    "if index != -1:\n",
    "    # the next line uses slicing, described below\n",
    "    s3 = name[index+4:]\n",
    "    print(s3)\n",
    "else:\n",
    "    print(\"No 'Sir' found.\")"
   ]
  },
  {
   "cell_type": "markdown",
   "metadata": {},
   "source": [
    "### String Operators\n",
    "\n",
    "String *concatenation* (pasting two strings together):"
   ]
  },
  {
   "cell_type": "code",
   "execution_count": null,
   "metadata": {},
   "outputs": [],
   "source": [
    "s1 = \"foo\"\n",
    "s2 = \"bar\"\n",
    "s3 = s1 + s2\n",
    "print(s3)"
   ]
  },
  {
   "cell_type": "markdown",
   "metadata": {},
   "source": [
    "String multiplication:"
   ]
  },
  {
   "cell_type": "code",
   "execution_count": null,
   "metadata": {},
   "outputs": [],
   "source": [
    "s = \"-\" * 20\n",
    "print(s)\n",
    "print(\"Hello class!\")\n",
    "print(s)"
   ]
  },
  {
   "cell_type": "markdown",
   "metadata": {},
   "source": [
    "### String Slicing\n",
    "\n",
    "*Slicing* a string allows us to \"slice\" out parts of it:"
   ]
  },
  {
   "cell_type": "code",
   "execution_count": null,
   "metadata": {},
   "outputs": [],
   "source": [
    "s = \"--History, Stephen said, is a nightmare from which I am trying to awaken.\"\n",
    "print(s[1:4])\n",
    "print(\"\", s[11:19], \"\", sep=\"|\")\n",
    "print(s[19])"
   ]
  },
  {
   "cell_type": "markdown",
   "metadata": {},
   "source": [
    "What indices did we get by doing `s[0:4]`?\n",
    "\n",
    "a) 1, 2, 3, 4  \n",
    "b) 0, 1, 2, 3, 4  \n",
    "c) 0, 1, 2, 3"
   ]
  },
  {
   "cell_type": "markdown",
   "metadata": {},
   "source": [
    "We can also use negative numbers to slice from the end of the string. To get the last three characters, for instance, use:"
   ]
  },
  {
   "cell_type": "code",
   "execution_count": null,
   "metadata": {},
   "outputs": [],
   "source": [
    "print(s[-3:None])\n",
    "print(s[-1])"
   ]
  },
  {
   "cell_type": "markdown",
   "metadata": {},
   "source": [
    "(Why do we need `None` or a blank as the second index?)"
   ]
  },
  {
   "cell_type": "code",
   "execution_count": null,
   "metadata": {},
   "outputs": [],
   "source": [
    "-0"
   ]
  },
  {
   "cell_type": "markdown",
   "metadata": {},
   "source": [
    "### `format()`"
   ]
  },
  {
   "cell_type": "markdown",
   "metadata": {},
   "source": [
    "The [`format()`](https://docs.python.org/3/library/stdtypes.html#str.format) method allows us to do fancy string formatting; for instance, we can place variables into our string:"
   ]
  },
  {
   "cell_type": "code",
   "execution_count": null,
   "metadata": {},
   "outputs": [],
   "source": [
    "i = 8192\n",
    "print(\"s = {}; s2 = {}; i = {:>8x} end\".format(s, s2, i))"
   ]
  },
  {
   "cell_type": "markdown",
   "metadata": {},
   "source": [
    "## Some string manipulating programs"
   ]
  },
  {
   "cell_type": "markdown",
   "metadata": {},
   "source": [
    "### Letter frequency program"
   ]
  },
  {
   "cell_type": "code",
   "execution_count": null,
   "metadata": {},
   "outputs": [],
   "source": [
    "address = '''Four score and seven years ago our fathers brought forth on this\n",
    "continent, a new nation, conceived in Liberty, and dedicated to the proposition\n",
    "all men are created equal.\n",
    "\n",
    "Now we are engaged in a great civil war, testing whether that nation, or any\n",
    "nation so conceived and dedicated, can long endure. We are met on a great\n",
    "battle-field of that war. We have come to dedicate a portion of that field, as\n",
    "a final resting place for those who here gave their lives that that nation\n",
    "might live. It is altogether fitting and proper that we should do this.\n",
    "\n",
    "But, in a larger sense, we can not dedicate — we can not consecrate — we can\n",
    "not hallow — this ground. The brave men, living and dead, who struggled here,\n",
    "have consecrated it, far above our poor power to add or detract. The world\n",
    "will little note, nor long remember what we say here, but it can never forget\n",
    "what they did here. It is for us the living, rather, to be dedicated here to\n",
    "the unfinished work which they who fought here have thus far so nobly advanced.\n",
    "It is rather for us to be here dedicated to the great task remaining before us\n",
    "— that from these honored dead we take increased devotion to that cause for\n",
    "which they gave the last full measure of devotion — that we here highly\n",
    "resolve that these dead shall not have died in vain — that this nation, under\n",
    "God, shall have a new birth of freedom — and that government of the people, by\n",
    "the people, for the people, shall not perish from the earth.\n",
    "'''\n",
    "num_of_a = 0\n",
    "num_of_b = 0\n",
    "num_of_periods = 0\n",
    "\n",
    "print (\"Processing the Gettysburg Address:\", end=\"\")\n",
    "for letter in address:\n",
    "    letter = letter.lower()\n",
    "    print(\".\", end=\"\")\n",
    "    if letter == 'a':\n",
    "        num_of_a += 1\n",
    "    elif letter == 'b':\n",
    "        num_of_b += 1\n",
    "    elif letter == '.':\n",
    "        num_of_periods += 1\n",
    "\n",
    "print(\"\\nThere are {:>10d} periods, {:<12d} occurrences of the letter a, and {} of the letter b.\".format( \\\n",
    "    num_of_periods, num_of_a, num_of_b))\n",
    "print(\"\\nThere are\", num_of_periods, \"periods,\", num_of_a, \"occurrences of the letter a, and\",\n",
    "      num_of_b, \"of the letter b.\")"
   ]
  },
  {
   "cell_type": "markdown",
   "metadata": {},
   "source": [
    "### Counting Words"
   ]
  },
  {
   "cell_type": "code",
   "execution_count": null,
   "metadata": {},
   "outputs": [],
   "source": [
    "user_input = input(\"Enter a string or phrase: \")\n",
    "count = user_input.strip().count(\" \") + 1\n",
    "print (\"There are {} words in the string you entered.\".format(count))"
   ]
  },
  {
   "cell_type": "markdown",
   "metadata": {},
   "source": [
    "### Reordering Words"
   ]
  },
  {
   "cell_type": "code",
   "execution_count": null,
   "metadata": {},
   "outputs": [],
   "source": [
    "# Program given the name as \"firstname middlename lastname\", reorder the string\n",
    "# and print it as \"lastname, firstname middlename\"\n",
    "\n",
    "name = \"Eugene J. Callahan\"\n",
    "\n",
    "firstname, middlename, lastname = name.split() # splits on ' ' by default\n",
    "firstmiddle, lastname = name.split('.') # splits on ' ' by default\n",
    "print(\"Firstmiddle = \", firstmiddle, \"lastname = \", lastname)\n",
    "transformed = \"{}, {} {}\".format(lastname, firstname, middlename)\n",
    "print(transformed)\n",
    "print(\"name = {}\".format(name)) # name is unchanged"
   ]
  },
  {
   "cell_type": "code",
   "execution_count": null,
   "metadata": {},
   "outputs": [],
   "source": [
    "# Common data format is a CSV file (comma separated values) - set split(\",\")\n",
    "#\n",
    "# lname,fname,year,gpa\n",
    "name = \"Goodman,Saul,sophomore,2.88\"\n",
    "\n",
    "lastname, firstname, grade, gpa = name.split(\",\")\n",
    "transformed = \"{0} {1} ({3:<10.8f}): {2}\".format(firstname,\n",
    "                                                lastname,\n",
    "                                                grade,\n",
    "                                                float(gpa))\n",
    "print(transformed)"
   ]
  },
  {
   "cell_type": "markdown",
   "metadata": {},
   "source": [
    "### Palindrome Checker"
   ]
  },
  {
   "cell_type": "markdown",
   "metadata": {},
   "source": [
    "Checks a simple palindrome:"
   ]
  },
  {
   "cell_type": "code",
   "execution_count": null,
   "metadata": {},
   "outputs": [],
   "source": [
    "original = \"kayak\"\n",
    "backward = original[::-1]\n",
    "print(\"backward = \", backward)\n",
    "print(\"{} vs {}: {}\\n\".format(original, backward,\n",
    "                              original == backward))"
   ]
  },
  {
   "cell_type": "markdown",
   "metadata": {},
   "source": [
    "This palindrome fails the test, since case of first and last 'm' don't match case, as well as 4th 'a' and 4th to last 'a':"
   ]
  },
  {
   "cell_type": "code",
   "execution_count": null,
   "metadata": {},
   "outputs": [],
   "source": [
    "# nonsense palindrome:\n",
    "s = \"aoxomoxoa\"\n",
    "backward = s[::-1]\n",
    "s == backward"
   ]
  },
  {
   "cell_type": "code",
   "execution_count": null,
   "metadata": {},
   "outputs": [],
   "source": [
    "original = \"Madam I'm Adam\"\n",
    "backward = original[::-1]\n",
    "print(\"{} vs {}: {}\\n\".format(original, backward,\n",
    "                              original == backward))"
   ]
  },
  {
   "cell_type": "markdown",
   "metadata": {},
   "source": [
    "This palindrome will work:"
   ]
  },
  {
   "cell_type": "code",
   "execution_count": null,
   "metadata": {},
   "outputs": [],
   "source": [
    "original = \"Able was I ere I saw elba\"\n",
    "backward = original[::-1]\n",
    "print(\"{} VS. {}: {}\\n\".format(original, backward,\n",
    "                              original == backward))"
   ]
  },
  {
   "cell_type": "markdown",
   "metadata": {},
   "source": [
    "We'll use the string module to get access to:\n",
    "\n",
    "- `string.punctutation`\n",
    "- `string.digits`\n",
    "- `string.ascii_lowercase`\n",
    "- `string.whitespace`"
   ]
  },
  {
   "cell_type": "code",
   "execution_count": null,
   "metadata": {},
   "outputs": [],
   "source": [
    "import string\n",
    "\n",
    "original = \"Madam I'm Adam\"\n",
    "original = original.lower()\n",
    "print(\"{}: {}\\n\".format(original, original == original[::-1]))\n",
    "\n",
    "bad_chars = string.whitespace + string.punctuation\n",
    "for char in bad_chars:\n",
    "    original = original.replace(char, \"\")\n",
    "\n",
    "print(\"{}: {}\\n\".format(original,\n",
    "                        original == original[::-1]))"
   ]
  },
  {
   "cell_type": "code",
   "execution_count": null,
   "metadata": {},
   "outputs": [],
   "source": []
  }
 ],
 "metadata": {
  "kernelspec": {
   "display_name": "Python 3",
   "language": "python",
   "name": "python3"
  },
  "language_info": {
   "codemirror_mode": {
    "name": "ipython",
    "version": 3
   },
   "file_extension": ".py",
   "mimetype": "text/x-python",
   "name": "python",
   "nbconvert_exporter": "python",
   "pygments_lexer": "ipython3",
   "version": "3.6.9"
  }
 },
 "nbformat": 4,
 "nbformat_minor": 2
}
