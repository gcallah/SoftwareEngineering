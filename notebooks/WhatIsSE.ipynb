{
 "cells": [
  {
   "cell_type": "markdown",
   "metadata": {},
   "source": [
    "# What Is Software Engineering?"
   ]
  },
  {
   "cell_type": "markdown",
   "metadata": {},
   "source": [
    "**Software engineering** is the discipline that deals with how software can be developed reliably, efficiently, and rapidly, and in a way that it can be easily fixed and enhanced in the future.\n",
    "\n",
    "#### A definition\n",
    "\n",
    "The work of fixing and enhancing a \"finished\" program is often called **software maintenance**.\n",
    "\n",
    "Software can do amazing things. But it rapidly becomes very complex. In fact, it rapidly becomes so complex that it becomes incomprehensible and impossible to maintain, unless serious effort is devoted to controlling that complexity. So another way to define software engineering is \"the set of techniques and practices used to manage software complexity.\""
   ]
  },
  {
   "cell_type": "markdown",
   "metadata": {},
   "source": [
    "### How complex does software get?"
   ]
  },
  {
   "cell_type": "markdown",
   "metadata": {},
   "source": [
    "*Very* complex! Some examples:\n",
    "\n",
    "- The Firefox web browser contains about 10 million lines of code.\n",
    "- An F35 fighter jet contains about 25 million lines.\n",
    "- Facebook consists of roughly 60 million lines.\n",
    "- A modern high-end car runs on around 100 million lines of code.\n",
    "- Google's Internet services are, in total, about 2 *billion* lines of code.\n",
    "\n",
    "Source of software line counts: (https://www.freecodecamp.org/news/the-biggest-codebases-in-history-a128bb3eea73/)\n",
    "\n",
    "Let's put that last number in perspective.\n",
    "\n",
    "<img src=\"https://upload.wikimedia.org/wikipedia/commons/thumb/4/4b/Long_Room_Interior%2C_Trinity_College_Dublin%2C_Ireland_-_Diliff.jpg/440px-Long_Room_Interior%2C_Trinity_College_Dublin%2C_Ireland_-_Diliff.jpg\" width=\"25%\">\n",
    "\n",
    "You have all seen books, and libraries. An average book has something like 40 lines per page. (We are doing a [back-of-the-envelope calculation](https://en.wikipedia.org/wiki/Back-of-the-envelope_calculation) so the precise number is not so important.) Let us further stipulate an average book page count of 250. That yields us:"
   ]
  },
  {
   "cell_type": "code",
   "execution_count": 8,
   "metadata": {},
   "outputs": [
    {
     "data": {
      "text/plain": [
       "10000"
      ]
     },
     "execution_count": 8,
     "metadata": {},
     "output_type": "execute_result"
    }
   ],
   "source": [
    "lines_per_book = 250 * 40\n",
    "lines_per_book"
   ]
  },
  {
   "cell_type": "markdown",
   "metadata": {},
   "source": [
    "So, at 10,000 lines per book, how many books would it take to store Google's code base?"
   ]
  },
  {
   "cell_type": "code",
   "execution_count": 10,
   "metadata": {},
   "outputs": [
    {
     "data": {
      "text/plain": [
       "200000.0"
      ]
     },
     "execution_count": 10,
     "metadata": {},
     "output_type": "execute_result"
    }
   ],
   "source": [
    "google_code_lines = 2000000000\n",
    "google_books = google_code_lines / lines_per_book\n",
    "google_books"
   ]
  },
  {
   "cell_type": "markdown",
   "metadata": {},
   "source": [
    "Our own enormous Bobst Library has about four million volumes: that means that Google's code base would comprise about 5% of that total. Since many of Bobst's books are stored offsite, we might estimate that, to read through Google's codebase would be roughly equivalent to reading every book on every shelf on an entire floor of Bobst!\n",
    "\n",
    "To look at this another way, let's say you set out to \"understand how Google works\" by reading through all of the company's code. Imagine you could read (and understand!) one \"book\" of code per day. (How many of you can finish a book a day?) Even at that pace, it would take you:"
   ]
  },
  {
   "cell_type": "code",
   "execution_count": 5,
   "metadata": {},
   "outputs": [
    {
     "data": {
      "text/plain": [
       "547.945205479452"
      ]
     },
     "execution_count": 5,
     "metadata": {},
     "output_type": "execute_result"
    }
   ],
   "source": [
    "books_per_year = 365\n",
    "google_books / books_per_year"
   ]
  },
  {
   "cell_type": "markdown",
   "metadata": {},
   "source": [
    "Well over 500 years to read all of the code! Even if you wear a mask and practice social distancing, I suspect you will never finish. If you spent the next 20 years reading Google code, at the fantastic pace of a book of code per day, you would get through:"
   ]
  },
  {
   "cell_type": "code",
   "execution_count": 6,
   "metadata": {},
   "outputs": [
    {
     "data": {
      "text/plain": [
       "0.0365"
      ]
     },
     "execution_count": 6,
     "metadata": {},
     "output_type": "execute_result"
    }
   ],
   "source": [
    "your_books = 20 * books_per_year\n",
    "your_books / google_books"
   ]
  },
  {
   "cell_type": "markdown",
   "metadata": {},
   "source": [
    "So, in 20 years of devoting every single day to reading Google code, you would have read less than 4% of the total... but it's even much worse than that, because during those 20 years, Google engineers will probably have written another 2 billion lines of code, and you'll be further from understanding all of their code than you were when you started!\n",
    "\n",
    "<img src=\"https://upload.wikimedia.org/wikipedia/commons/thumb/c/c0/Crying-girl.jpg/440px-Crying-girl.jpg\" width=\"20%\">\n",
    "\n",
    "\n",
    "OK then, how can human beings possibly keep order in a code base when they could not, realistically, read even a tiny portion of it in their lifetime?\n",
    "\n",
    "The answer? *Software engineering*!\n",
    "\n",
    "Without software engineering, modern software is impossible to comprehend or maintain.\n",
    "\n",
    "And to really understand modern software engineering, it is necessary to understand the history of software development (how software was actually built), and of software engineering (the attempts to control the increasing complexity of the software being developed)."
   ]
  },
  {
   "cell_type": "markdown",
   "metadata": {},
   "source": [
    "## A Brief History of Software Development"
   ]
  },
  {
   "cell_type": "markdown",
   "metadata": {},
   "source": [
    "Our history here will focus on the history of *types of languages* used to develop software."
   ]
  },
  {
   "cell_type": "markdown",
   "metadata": {},
   "source": [
    "### Machine Language"
   ]
  },
  {
   "cell_type": "markdown",
   "metadata": {},
   "source": [
    "<img src=\"https://upload.wikimedia.org/wikipedia/commons/thumb/5/58/Nova1200.agr.jpg/440px-Nova1200.agr.jpg\" width=\"33%\">\n",
    "\n",
    "People used to just toggle the binary code for the computer instructions in with little switches. The program looked like:\n",
    "\n",
    "`10100100110010101001110010101010110010100101000110010101010010010101001010101010101001010101010101010101001010101001010100101100010101010101011101001010100011010100`\n",
    "\n",
    "Really!"
   ]
  },
  {
   "cell_type": "markdown",
   "metadata": {},
   "source": [
    "### Assembly Language"
   ]
  },
  {
   "cell_type": "markdown",
   "metadata": {},
   "source": [
    "An example of assembly language:\n",
    "\n",
    "`MOV EAX, [EBX]   ; Move the 4 bytes in memory at the address contained in EBX into EAX\n",
    "MOV [ESI+EAX], CL ; Move the contents of CL into the byte at address ESI+EAX\n",
    "MOV DS, DX        ; Move the contents of DX into segment register DS`\n",
    "\n",
    "This level of code, although higher level than machine language, still deals specifically with instructions aimed at the \"machine.\""
   ]
  },
  {
   "cell_type": "markdown",
   "metadata": {},
   "source": [
    "### Procedural Languages"
   ]
  },
  {
   "cell_type": "markdown",
   "metadata": {},
   "source": [
    "<img src=\"https://upload.wikimedia.org/wikipedia/commons/e/ec/Structured_program_patterns.png\" width=\"50%\">\n",
    "\n",
    "Code began to look like something humans could read. The idea of [structured programming](https://en.wikipedia.org/wiki/Structured_programming) became popular.\n",
    "\n",
    "Examples of procedural languages include:\n",
    "\n",
    "- Algol\n",
    "- C\n",
    "- Pascal\n",
    "- Fortran\n",
    "- COBOL\n",
    "- Basic\n",
    "\n",
    "Here are some examples of structured code in [Pascal](https://en.wikipedia.org/wiki/Pascal_(programming_language):\n",
    "\n",
    "```\n",
    "while a <> b do  WriteLn('Waiting');\n",
    "\n",
    "if a > b then WriteLn('Condition met')   {no semicolon allowed before else}\n",
    "    else WriteLn('Condition not met');\n",
    "\n",
    "for i := 1 to 10 do  {no semicolon here as it would detach the next statement}\n",
    "    WriteLn('Iteration: ', i);\n",
    "\n",
    "repeat\n",
    "    a := a + 1\n",
    "until a = 10;\n",
    "\n",
    "case i of\n",
    "    0 : Write('zero');\n",
    "    1 : Write('one');\n",
    "    2 : Write('two');\n",
    "    3,4,5,6,7,8,9,10: Write('?')\n",
    "end;\n",
    "```"
   ]
  },
  {
   "cell_type": "markdown",
   "metadata": {},
   "source": [
    "### Functional Languages"
   ]
  },
  {
   "cell_type": "markdown",
   "metadata": {},
   "source": [
    "[*Functional programming*](https://en.wikipedia.org/wiki/Functional_programming) is a style that relies heavily on the use of [pure functions](https://en.wikipedia.org/wiki/Pure_function) and that treats functions as first-class objects that can be passed to other functions.\n",
    "\n",
    "The idea here is to make programming more reliable by introducing mathematical rigor into programming languages:\n",
    "\n",
    "\"Proponents of purely functional programming claim that by restricting side effects, programs can have fewer bugs, be easier to debug and test, and be more suited to formal verification.\" (From Wikipedia article linked above.)\n",
    "\n",
    "Examples of functional programming languages include:\n",
    "\n",
    "- Lisp\n",
    "- Scheme\n",
    "- Clojure\n",
    "- Erlang\n",
    "- Haskell\n",
    "\n",
    "Many other languages, such as C++, Python, Go, and Java, can be used in a functional style.\n",
    "\n",
    "The `React` framework for Javascript programming relies heavily on functional programming concepts.\n",
    "\n",
    "Here is the \"same\" algorithm written in both a procedural and a functional style (in JavaScript):\n",
    "\n",
    "Procedural:\n",
    "\n",
    "```\n",
    "const numList = [1, 2, 3, 4, 5, 6, 7, 8, 9, 10];\n",
    "let result = 0;\n",
    "for (let i = 0; i < numList.length; i++) {\n",
    "  if (numList[i] % 2 === 0) {\n",
    "    result += numList[i] * 10;\n",
    "  }\n",
    "}\n",
    "```\n",
    "\n",
    "Functional:\n",
    "\n",
    "```\n",
    "const result = [1, 2, 3, 4, 5, 6, 7, 8, 9, 10]\n",
    "               .filter(n => n % 2 === 0)\n",
    "               .map(a => a * 10)\n",
    "               .reduce((a, b) => a + b);\n",
    "```\n",
    "\n",
    "(Source: the Wikipedia article cited above.)\n",
    "\n",
    "**Note 1**: the functional version is a *single* JavaScript statement, with no side effects, such as assignments.\n",
    "\n",
    "**How to do the `filter` and `map` of the functional version in Python with a list comprehension** and the `reduce` portion with `sum()`:\n",
    "\n",
    "`result = sum([a * 10 for a in [1, 2, 3, 4, 5, 6, 7, 8, 9, 10] if a % 2 == 0])`\n",
    "\n",
    "Another example:\n",
    "\n",
    "*Procedural, with assignments*:\n",
    "\n",
    "`x = 9  \n",
    "y = sin(x)  \n",
    "z = zeta(y)  \n",
    "a = cos(z)  \n",
    "return a`\n",
    "\n",
    "**Note 2**: this could be put on one line:\n",
    "\n",
    "`x = 9; y = sin(x); z = zeta(y); a = cos(z); return a`\n",
    "\n",
    "*Functional version*:\n",
    "\n",
    "`return cos(zeta(sin(9)))`\n",
    "\n",
    "**Note 3**: The functional version can be put on multiple lines:\n",
    "\n",
    "`return   \n",
    "    cos(  \n",
    "        zeta(  \n",
    "            sin(9)  \n",
    "        )  \n",
    "    )\n",
    " `"
   ]
  },
  {
   "cell_type": "markdown",
   "metadata": {},
   "source": [
    "### Object-Oriented Languages"
   ]
  },
  {
   "cell_type": "markdown",
   "metadata": {},
   "source": [
    "[Object-oriented languages](https://en.wikipedia.org/wiki/Object-oriented_programming) introduce the idea of *objects*, that are \"chunks\" of data and functions that act on that data, bound together. They typically include:\n",
    "\n",
    "- *data hiding*: data internal to an object can be *hidden* to code not defined as part of the object. This promotes *narrow interfaces* between different parts of a program.\n",
    "- *inheritance*: the programmer can define new *types* (classes) of objects that *inherit* some features from a previously defined type, but can add other, new features to the new type. This promotes code re-use.\n",
    "\n",
    "\"Pure\" object-oriented programming (OOP) languages, where *everything* in the language must be an object, include:\n",
    "\n",
    "- Ruby\n",
    "- Scala\n",
    "- Smalltalk\n",
    "\n",
    "Languages that are largely OOP include:\n",
    "\n",
    "- C++\n",
    "- Java\n",
    "- Python\n"
   ]
  },
  {
   "cell_type": "markdown",
   "metadata": {},
   "source": [
    "### Domain-Specific Languages"
   ]
  },
  {
   "cell_type": "markdown",
   "metadata": {},
   "source": [
    "If we understand what a [Turing Machine](https://en.wikipedia.org/wiki/Turing_machine) is, we know that any computable problem can be solved by any general purpose programming language. (*Structured programming* was built on the insight that a program consisting only of *sequences*, *branches*, and *loops* could implement all possible Turing machines.)\n",
    "\n",
    "However, we can often create much simpler programs for specific tasks with a language that is **not** general purpose, but is tailored to that task.\n",
    "\n",
    "For instance, [`make`](https://en.wikipedia.org/wiki/Make_(software)) is a tool that recognizes instructions on how to build a *target* from a *source*, something that often needs to be done in software projects of even moderate complexity.\n",
    "\n",
    "An example -- to state that the program `towers` depends only on compiling the file `towers.cpp`, a makefile only needs to contain the line:\n",
    "\n",
    "`towers: towers.cpp`\n",
    "\n",
    "The commands of the `git` system constitute a domain-specific langauge for dealing with different versions of a software system.\n",
    "\n",
    "`SQL` is a domain-specific language for querying and updating relational database systems.\n",
    "\n",
    "Spreadsheet programs typically include a domain-specific language for modifying tables of data that work on row and column identifiers for the data to be modified.\n",
    "\n",
    "The use of an appropriate domain-specific language for some task can result in a great increase in programmer productivity and software maintainability."
   ]
  },
  {
   "cell_type": "markdown",
   "metadata": {},
   "source": [
    "### Scripting Languages"
   ]
  },
  {
   "cell_type": "markdown",
   "metadata": {},
   "source": [
    "- UNIX shell\n",
    "- Windows PowerShell\n",
    "\n",
    "Shell languages are a great choice when what you mostly need to do is *run already written programs*, in some order, and perhaps use them in a [*data pipeline*](https://en.wikipedia.org/wiki/Pipeline_(computing)).\n",
    "\n",
    "<img src=\"https://upload.wikimedia.org/wikipedia/commons/thumb/f/f6/Pipeline.svg/560px-Pipeline.svg.png\" width=\"28%\">\n",
    "\n",
    "**A story**: In 1986, [Donald Knuth](https://en.wikipedia.org/wiki/Donald_Knuth) and [Doug McIlroy](https://en.wikipedia.org/wiki/Douglas_McIlroy) were asked to write a program that would \"Read a file of text, determine the *n* most frequently used words, and print out a sorted list of those words along with their frequencies.\" ([Source](https://leancrew.com/all-this/2011/12/more-shell-less-egg/))\n",
    "\n",
    "Knuth wrote a very elegant Pascal program of several hundred lines.\n",
    "\n",
    "UNIX pipeline creator McIlroy wrote:\n",
    "\n",
    "`tr -cs A-Za-z '\\n' |\n",
    "tr A-Z a-z |\n",
    "sort |\n",
    "uniq -c |\n",
    "sort -rn\n",
    "`\n",
    "\n",
    "**What is of note here?**\n",
    "\n",
    "- Knuth's version is certainly \"more efficient\" in terms of using computing resources, as, for instance, McIlroy sorts the data twice.\n",
    "- But McIlroy's solution is more efficient in using human's time.\n",
    "\n",
    "The upshot: well, unless this is a program you need to run repeatedly on huge texts, you should prefer McIlroy's version.\n",
    "\n",
    "But a key thing to note here: *software engineering* is about is *evaluating tradeoffs*!"
   ]
  },
  {
   "cell_type": "markdown",
   "metadata": {},
   "source": [
    "## A Brief History of Software Process Management"
   ]
  },
  {
   "cell_type": "markdown",
   "metadata": {},
   "source": [
    "<img src=\"https://upload.wikimedia.org/wikipedia/commons/d/d6/Uml_diagram2.png\" width=\"33%\">\n",
    "\n",
    "The above material on programming languages was presented not because I forgot we weren't doing a programming languages course, but because *every new programming language is an attempt to do software engineering a little bit better*.\n",
    "\n",
    "But besides engineering at the level of code, there is also engineering at the level of *software development process*. And ideas here have evolved as well, sometimes, even, intertwined with the development of new techniques at the code level.\n",
    "\n",
    "Here we are going to look at two major \"methodologies\" (methods: Fritz Machlup) for approaching the process of developing software.\n"
   ]
  },
  {
   "cell_type": "markdown",
   "metadata": {},
   "source": [
    "### The Waterfall Model"
   ]
  },
  {
   "cell_type": "markdown",
   "metadata": {},
   "source": [
    "<img src=\"https://upload.wikimedia.org/wikipedia/commons/thumb/e/e2/Waterfall_model.svg/700px-Waterfall_model.svg.png\" width=\"25%\">\n",
    "\n",
    "In this model, everything there is to know about how a piece of software is supposed to function is known when the first phase of the project is completed.\n",
    "\n",
    "The Waterfall Model *can* work well, when used in developing a software system of a well-known type... but often, in such a case, the question arises, \"Why not just buy existing software that does this job?\"\n",
    "\n",
    "In trying to develop innovative software, the model has these shortcomings:\n",
    "\n",
    "- The users don't really know how they want the software to behave without trying it out.\n",
    "- The analysis and design phases ignore the difficulties that might be faced in actually implementing this innovative idea.\n",
    "- The implementation phase proceeds without testing all along the way, so problems aren't detected until after it is completed.\n",
    "- The \"environment\" the software was designed for will be changing while this long process, with major decisions locked-in at the start, is proceeding. Examples:\n",
    "    - The laws regarding the real-world activity the software is meant to enhance can (will?) change.\n",
    "    - The competitive environment of the real-world activity can (will?) change.\n",
    "    - The technological landscape assumed by the analysis phase can (will?) change.\n",
    "    \n",
    "Ignoring these many dynamic factors led to [major software project failures](https://en.wikipedia.org/wiki/List_of_failed_and_overbudget_custom_software_projects)."
   ]
  },
  {
   "cell_type": "markdown",
   "metadata": {},
   "source": [
    "### Agile / Lean / DevOps"
   ]
  },
  {
   "cell_type": "markdown",
   "metadata": {},
   "source": [
    "\"TEX would have been a complete failure if I had merely specified it and not participated fully in its initial implementation. The process of implementation constantly led me to unanticipated questions and to new insights about how the original specifications could be improved.\" -- Donald Knuth\n",
    "\n",
    "See [\"Software Development as a Discovery Procedure\"](http://www.thedevopscourse.com/devops/work) in the web page just linked to."
   ]
  },
  {
   "cell_type": "markdown",
   "metadata": {},
   "source": [
    "The UNIX way of developing software was already used and disseminated as early as the 1970s. But it was only after the failure of many Waterfall-managed projects, and especially the rise of Web applications, that the news of this alternate style really began to penetrate IT departments.\n",
    "\n",
    "The recognition that the Waterfall Model was useful only in special cases led to naming alternatives:\n",
    "\n",
    "- [Agile Development](https://en.wikipedia.org/wiki/Agile_software_development)\n",
    "- [Lean Development](https://en.wikipedia.org/wiki/Lean_software_development)\n",
    "\n",
    "It was soon recognized that Lean and Agile were (mostly) saying the same thing, so that the Poppendieck's, for instance, published a book titled *Lean Software Development: An Agile Toolkit*.\n",
    "\n",
    "The adoption of lean and agile techniques enabled software developers to rapidly produce new versions of a software system. But there remained a barrier to getting those new versions out to the user: **Operations**!\n",
    "\n",
    "\"Operations\" is the name for the IT role in an organization that is concerned with keeping the organization's systems up and *operating*. And operations had learned, from hard experience, that new releases meant new problems, perhaps, indeed, weeks of support calls and system crashes. And since it was operations that had to answer those calls and recover from those crashes, operations wanted as few new releases of software as possible. But these darned new agile/lean programmers wanted to release more and more often.\n",
    "\n",
    "Luckily, there were some forward-thinking operations people who thought, \"Well, rather than trying to hold the developers back, why don't we make operations agile as well?\"\n",
    "\n",
    "One of those people was Patrick Debois, who organized a conference to bring developers and operations people together. He happened to call it a \"DevOps\" conference... and the term caught on, and became the name for \"bringing lean and agile to operations.\"\n",
    "\n",
    "I often tell the students in my DevOps class that a better name than \"DevOps\" might be: \"Modern Software Engineering.\"\n",
    "\n",
    "And thus, we will try to \"DevOps\" our projects as we work on them."
   ]
  },
  {
   "cell_type": "code",
   "execution_count": null,
   "metadata": {},
   "outputs": [],
   "source": []
  }
 ],
 "metadata": {
  "kernelspec": {
   "display_name": "Python 3",
   "language": "python",
   "name": "python3"
  },
  "language_info": {
   "codemirror_mode": {
    "name": "ipython",
    "version": 3
   },
   "file_extension": ".py",
   "mimetype": "text/x-python",
   "name": "python",
   "nbconvert_exporter": "python",
   "pygments_lexer": "ipython3",
   "version": "3.9.0"
  }
 },
 "nbformat": 4,
 "nbformat_minor": 4
}
