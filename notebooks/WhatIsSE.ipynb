{
 "cells": [
  {
   "cell_type": "markdown",
   "metadata": {},
   "source": [
    "# What Is Software Engineering?"
   ]
  },
  {
   "cell_type": "markdown",
   "metadata": {},
   "source": [
    "**Software engineering** is the discipline that deals with how software can be developed reliably, efficiently, and rapidly, and in a way that it can be easily fixed and enhanced in the future.\n",
    "\n",
    "#### A definition\n",
    "\n",
    "The work of fixing and enhancing a \"finished\" program is often called **software maintenance**.\n",
    "\n",
    "Software can do amazing things. But it rapidly becomes very complex. In fact, it rapidly becomes so complex that it becomes incomprehensible and impossible to maintain, unless serious effort is devoted to controlling that complexity. So another way to define software engineering is \"the set of techniques and practices used to manage software complexity.\""
   ]
  },
  {
   "cell_type": "markdown",
   "metadata": {},
   "source": [
    "### How complex does software get?"
   ]
  },
  {
   "cell_type": "markdown",
   "metadata": {},
   "source": [
    "*Very* complex! Some examples:\n",
    "\n",
    "- The Firefox web browser contains about 10 million lines of code.\n",
    "- An F35 fighter jet contains about 25 million lines.\n",
    "- Facebook consists of roughly 60 million lines.\n",
    "- A modern high-end car runs on around 100 million lines of code.\n",
    "- Google's Internet services are, in total, about 2 *billion* lines of code.\n",
    "\n",
    "Source of software line counts: (https://www.freecodecamp.org/news/the-biggest-codebases-in-history-a128bb3eea73/)\n",
    "\n",
    "Let's put that last number in perspective.\n",
    "\n",
    "<img src=\"https://upload.wikimedia.org/wikipedia/commons/thumb/4/4b/Long_Room_Interior%2C_Trinity_College_Dublin%2C_Ireland_-_Diliff.jpg/440px-Long_Room_Interior%2C_Trinity_College_Dublin%2C_Ireland_-_Diliff.jpg\" width=\"25%\">\n",
    "\n",
    "You have all seen books, and libraries. An average book has something like 40 lines per page. (We are doing a [back-of-the-envelope calculation](https://en.wikipedia.org/wiki/Back-of-the-envelope_calculation) so the precise number is not so important.) Let us further stipulate an average book page count of 250. That yields us:"
   ]
  },
  {
   "cell_type": "code",
   "execution_count": 8,
   "metadata": {},
   "outputs": [
    {
     "data": {
      "text/plain": [
       "10000"
      ]
     },
     "execution_count": 8,
     "metadata": {},
     "output_type": "execute_result"
    }
   ],
   "source": [
    "lines_per_book = 250 * 40\n",
    "lines_per_book"
   ]
  },
  {
   "cell_type": "markdown",
   "metadata": {},
   "source": [
    "So, at 10,000 lines per book, how many books would it take to store Google's code base?"
   ]
  },
  {
   "cell_type": "code",
   "execution_count": 10,
   "metadata": {},
   "outputs": [
    {
     "data": {
      "text/plain": [
       "200000.0"
      ]
     },
     "execution_count": 10,
     "metadata": {},
     "output_type": "execute_result"
    }
   ],
   "source": [
    "google_code_lines = 2000000000\n",
    "google_books = google_code_lines / lines_per_book\n",
    "google_books"
   ]
  },
  {
   "cell_type": "markdown",
   "metadata": {},
   "source": [
    "Our own enormous Bobst Library has about four million volumes: that means that Google's code base would comprise about 5% of that total. Since many of Bobst's books are stored offsite, we might estimate that, to read through Google's codebase would be roughly equivalent to reading every book on every shelf on an entire floor of Bobst!\n",
    "\n",
    "To look at this another way, let's say you set out to \"understand how Google works\" by reading through all of the company's code. Imagine you could read (and understand!) one \"book\" of code per day. (How many of you can finish a book a day?) Even at that pace, it would take you:"
   ]
  },
  {
   "cell_type": "code",
   "execution_count": 5,
   "metadata": {},
   "outputs": [
    {
     "data": {
      "text/plain": [
       "547.945205479452"
      ]
     },
     "execution_count": 5,
     "metadata": {},
     "output_type": "execute_result"
    }
   ],
   "source": [
    "books_per_year = 365\n",
    "google_books / books_per_year"
   ]
  },
  {
   "cell_type": "markdown",
   "metadata": {},
   "source": [
    "Well over 500 years to read all of the code! Even if you wear a mask and practice social distancing, I suspect you will never finish. If you spent the next 20 years reading Google code, at the fantastic pace of a book of code per day, you would get through:"
   ]
  },
  {
   "cell_type": "code",
   "execution_count": 6,
   "metadata": {},
   "outputs": [
    {
     "data": {
      "text/plain": [
       "0.0365"
      ]
     },
     "execution_count": 6,
     "metadata": {},
     "output_type": "execute_result"
    }
   ],
   "source": [
    "your_books = 20 * books_per_year\n",
    "your_books / google_books"
   ]
  },
  {
   "cell_type": "markdown",
   "metadata": {},
   "source": [
    "So, in 20 years of devoting every single day to reading Google code, you would have read less than 4% of the total... but it's even much worse than that, because during those 20 years, Google engineers will probably have written another 2 billion lines of code, and you'll be further from understanding all of their code than you were when you started!\n",
    "\n",
    "<img src=\"https://upload.wikimedia.org/wikipedia/commons/thumb/c/c0/Crying-girl.jpg/440px-Crying-girl.jpg\" width=\"20%\">\n",
    "\n",
    "\n",
    "OK then, how can human beings possibly keep order in a code base when they could not, realistically, read even a tiny portion of it in their lifetime?\n",
    "\n",
    "The answer? *Software engineering*!\n",
    "\n",
    "Without software engineering, modern software is impossible to comprehend or maintain.\n",
    "\n",
    "And to really understand modern software engineering, it is necessary to understand the history of software development (how software was actually built), and of software engineering (the attempts to control the increasing complexity of the software being developed)."
   ]
  },
  {
   "cell_type": "markdown",
   "metadata": {},
   "source": [
    "## A Brief History of Software Development"
   ]
  },
  {
   "cell_type": "markdown",
   "metadata": {},
   "source": [
    "Our history here will focus on the history of *types of languages* used to develop software."
   ]
  },
  {
   "cell_type": "markdown",
   "metadata": {},
   "source": [
    "### Machine Language"
   ]
  },
  {
   "cell_type": "markdown",
   "metadata": {},
   "source": [
    "\n",
    "\n",
    "<img src=\"https://upload.wikimedia.org/wikipedia/commons/thumb/5/58/Nova1200.agr.jpg/440px-Nova1200.agr.jpg\" width=\"33%\">\n"
   ]
  },
  {
   "cell_type": "markdown",
   "metadata": {},
   "source": [
    "### Assembly Language"
   ]
  },
  {
   "cell_type": "markdown",
   "metadata": {},
   "source": [
    "An example of assembly language:\n",
    "\n",
    "`MOV EAX, [EBX]   ; Move the 4 bytes in memory at the address contained in EBX into EAX\n",
    "MOV [ESI+EAX], CL ; Move the contents of CL into the byte at address ESI+EAX\n",
    "MOV DS, DX        ; Move the contents of DX into segment register DS`\n",
    "\n",
    "This level of code, although higher level than machine language, still deals specifically with instructions aimed at the \"machine.\""
   ]
  },
  {
   "cell_type": "markdown",
   "metadata": {},
   "source": [
    "### Procedural Languages"
   ]
  },
  {
   "cell_type": "markdown",
   "metadata": {},
   "source": []
  },
  {
   "cell_type": "markdown",
   "metadata": {},
   "source": [
    "### Functional Languages"
   ]
  },
  {
   "cell_type": "markdown",
   "metadata": {},
   "source": []
  },
  {
   "cell_type": "markdown",
   "metadata": {},
   "source": [
    "### Object-Oriented Languages"
   ]
  },
  {
   "cell_type": "markdown",
   "metadata": {},
   "source": []
  },
  {
   "cell_type": "markdown",
   "metadata": {},
   "source": [
    "### Domain-Specific Languages"
   ]
  },
  {
   "cell_type": "markdown",
   "metadata": {},
   "source": []
  },
  {
   "cell_type": "markdown",
   "metadata": {},
   "source": [
    "### High-level, Multi-Paradigm Languages"
   ]
  },
  {
   "cell_type": "markdown",
   "metadata": {},
   "source": []
  },
  {
   "cell_type": "markdown",
   "metadata": {},
   "source": [
    "## A Brief History of Software Engineering"
   ]
  },
  {
   "cell_type": "markdown",
   "metadata": {},
   "source": [
    "<img src=\"https://upload.wikimedia.org/wikipedia/commons/d/d6/Uml_diagram2.png\" width=\"33%\">"
   ]
  },
  {
   "cell_type": "markdown",
   "metadata": {},
   "source": [
    "### The Waterfall Model"
   ]
  },
  {
   "cell_type": "markdown",
   "metadata": {},
   "source": [
    "<img src=\"https://upload.wikimedia.org/wikipedia/commons/thumb/e/e2/Waterfall_model.svg/700px-Waterfall_model.svg.png\" width=\"25%\">\n"
   ]
  },
  {
   "cell_type": "code",
   "execution_count": null,
   "metadata": {},
   "outputs": [],
   "source": []
  },
  {
   "cell_type": "markdown",
   "metadata": {},
   "source": [
    "### Agile / Lean / DevOps"
   ]
  },
  {
   "cell_type": "code",
   "execution_count": null,
   "metadata": {},
   "outputs": [],
   "source": []
  },
  {
   "cell_type": "markdown",
   "metadata": {},
   "source": [
    "\"TEX would have been a complete failure if I had merely specified it and not participated fully in its initial implementation. The process of implementation constantly led me to unanticipated questions and to new insights about how the original specifications could be improved.\" -- Donald Knuth"
   ]
  },
  {
   "cell_type": "code",
   "execution_count": 14,
   "metadata": {},
   "outputs": [
    {
     "data": {
      "text/plain": [
       "'/Users/gcallah/GitProjects/IntroToCS/notebooks'"
      ]
     },
     "execution_count": 14,
     "metadata": {},
     "output_type": "execute_result"
    }
   ],
   "source": [
    "pwd"
   ]
  },
  {
   "cell_type": "code",
   "execution_count": null,
   "metadata": {},
   "outputs": [],
   "source": []
  }
 ],
 "metadata": {
  "kernelspec": {
   "display_name": "Python 3",
   "language": "python",
   "name": "python3"
  },
  "language_info": {
   "codemirror_mode": {
    "name": "ipython",
    "version": 3
   },
   "file_extension": ".py",
   "mimetype": "text/x-python",
   "name": "python",
   "nbconvert_exporter": "python",
   "pygments_lexer": "ipython3",
   "version": "3.9.0"
  }
 },
 "nbformat": 4,
 "nbformat_minor": 4
}
