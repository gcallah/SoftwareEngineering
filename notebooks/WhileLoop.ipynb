{
 "cells": [
  {
   "cell_type": "markdown",
   "metadata": {},
   "source": [
    "## Looping with While\n",
    "\n",
    "Now let us look at looping with `while` in Python, one of the ways in which we can repeatedly perform some action(s)."
   ]
  },
  {
   "cell_type": "markdown",
   "metadata": {},
   "source": [
    "### While loops"
   ]
  },
  {
   "cell_type": "markdown",
   "metadata": {},
   "source": [
    "#### continue"
   ]
  },
  {
   "cell_type": "code",
   "execution_count": 1,
   "metadata": {},
   "outputs": [
    {
     "name": "stdout",
     "output_type": "stream",
     "text": [
      "n =  41 ; Testing if number is prime.\n",
      "n =  39 ; Testing if number is prime.\n",
      "n =  37 ; Testing if number is prime.\n",
      "n =  35 ; Testing if number is prime.\n",
      "n =  33 ; Testing if number is prime.\n",
      "n =  31 ; Testing if number is prime.\n",
      "n =  29 ; Testing if number is prime.\n",
      "n =  27 ; Testing if number is prime.\n",
      "n =  25 ; Testing if number is prime.\n",
      "n =  23 ; Testing if number is prime.\n",
      "n =  21 ; Testing if number is prime.\n",
      "n =  19 ; Testing if number is prime.\n",
      "n =  17 ; Testing if number is prime.\n",
      "n =  15 ; Testing if number is prime.\n",
      "n =  13 ; Testing if number is prime.\n",
      "n =  11 ; Testing if number is prime.\n",
      "n =  9 ; Testing if number is prime.\n",
      "n =  7 ; Testing if number is prime.\n",
      "n =  5 ; Testing if number is prime.\n",
      "n =  3 ; Testing if number is prime.\n"
     ]
    }
   ],
   "source": [
    "n = 43\n",
    "while n > 2:\n",
    "    n -= 1\n",
    "    if n % 2 == 0:\n",
    "       continue\n",
    "    print(\"n = \", n, \"; Testing if number is prime.\")"
   ]
  },
  {
   "cell_type": "markdown",
   "metadata": {},
   "source": [
    "#### else"
   ]
  },
  {
   "cell_type": "code",
   "execution_count": null,
   "metadata": {},
   "outputs": [],
   "source": [
    "n = 1\n",
    "while n < 8:\n",
    "    if n == 5:\n",
    "        break\n",
    "    print(\"loop1\", n ** 2)\n",
    "    n += 1\n",
    "print(\"Got to 8\")\n",
    "\n",
    "n = 1\n",
    "while n < 8:\n",
    "    if n == 5:\n",
    "        break\n",
    "    print(\"loop2\", n ** 2)\n",
    "    n += 1\n",
    "else:\n",
    "    print(\"Got to 8\")\n",
    " "
   ]
  },
  {
   "cell_type": "code",
   "execution_count": null,
   "metadata": {},
   "outputs": [],
   "source": [
    "   \n",
    "def process_station_data(station_no):\n",
    "    return station_no % 123 == 121\n",
    "\n",
    "error = False\n",
    "num_stations = 100\n",
    "i = 0\n",
    "while i < num_stations:\n",
    "    i += 1\n",
    "    error = process_station_data(i)\n",
    "    if error:\n",
    "        print(\"Error in station number\", i)\n",
    "        break\n",
    "else:\n",
    "    print(\"Let's have a party!\")"
   ]
  }
 ],
 "metadata": {
  "kernelspec": {
   "display_name": "Python 3",
   "language": "python",
   "name": "python3"
  },
  "language_info": {
   "codemirror_mode": {
    "name": "ipython",
    "version": 3
   },
   "file_extension": ".py",
   "mimetype": "text/x-python",
   "name": "python",
   "nbconvert_exporter": "python",
   "pygments_lexer": "ipython3",
   "version": "3.6.2"
  }
 },
 "nbformat": 4,
 "nbformat_minor": 2
}
