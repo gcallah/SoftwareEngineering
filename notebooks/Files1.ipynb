{
 "cells": [
  {
   "cell_type": "markdown",
   "metadata": {},
   "source": [
    "# Command-Line Arguments and File I/O"
   ]
  },
  {
   "cell_type": "markdown",
   "metadata": {},
   "source": [
    "## Command-line arguments"
   ]
  },
  {
   "cell_type": "markdown",
   "metadata": {},
   "source": [
    "We have looked at how to pass arguments to *functions*, like:\n",
    "\n",
    "`def my_func(my_param1, my_param2):`\n",
    "\n",
    "But what if we want to pass an argument to a *program*?\n",
    "\n",
    "This is often very important: let's say we want to convert HTML files to Microsoft Word format? We don't want to write a new program for every single file name we might want to convert! We could use `input()` to ask the user for a file name, but what if the program is going to be run as part of some automated process: then there is no user to ask!\n",
    "\n",
    "The solution is to use *command-line arguments*. Let's see how to use these in Python. The key to doing to is to know that every Python program gets a list of arguments it was passed on the command line in a special list called `argv`. `argv` is contained in the standard library module called `sys`, which is short for *system*.\n",
    "\n",
    "But here we hit a limitation of Jupyter Notebooks: they are not run from the command line, so we will have to leave our notebook and go to a terminal program to actually use them.\n",
    "\n",
    "In my notebook directory, you will find a little Python program called `command_line.py`. You can download that and experiment with it for yourself. But now I will leave this notebook, and show you it running in a terminal.\n",
    "\n",
    "But we can show some sample code here:\n",
    "\n",
    "```\n",
    "import sys\n",
    "\n",
    "if len(sys.argv) < 2:\n",
    "    print(\"You must pass a file name.\")\n",
    "    exit(1)\n",
    "    \n",
    "file_to_process = sys.argv[1]\n"
   ]
  },
  {
   "cell_type": "markdown",
   "metadata": {},
   "source": [
    "## File Input and Output"
   ]
  },
  {
   "cell_type": "markdown",
   "metadata": {},
   "source": [
    "OK, so we can pass a filename to our program. How do we access that file? And first of all, what is a *file*?\n",
    "\n",
    "File: collection of bytes of information residing permanently on disk. There are two major types: *binary files* and *text files*.\n",
    "\n",
    "- **binary files**: info encoded in some scheme that is not human-readable\n",
    "- **text files**: info encoded in ASCII/UNICODE characters and IS human-readable\n",
    "\n",
    "In Python, we create a *file object* to access the contents of a file. Let's write a little program, equivalent to the UNIX `cat` command, that simply outputs the contents of a file to the screen -- notice that Python breaks the file into lines for us, and that the file object is a type of *sequence*:"
   ]
  },
  {
   "cell_type": "code",
   "execution_count": null,
   "metadata": {},
   "outputs": [],
   "source": [
    "def cat(filename):\n",
    "    temp_file = open(filename, \"r\")\n",
    "    # print(\"File is:\", temp_file)\n",
    "    for line in temp_file:\n",
    "        print(line, end='')   # why end=''?\n",
    "\n",
    "    temp_file.close()  # always close your files.\n",
    "\n",
    "cat(\"Files1.ipynb\")"
   ]
  },
  {
   "cell_type": "markdown",
   "metadata": {},
   "source": [
    "### Writing to files"
   ]
  },
  {
   "cell_type": "markdown",
   "metadata": {},
   "source": [
    "Besides reading a file, we also want to be able to write to files. Without that capability, our programs output won't last beyond the moment in which it is run!\n",
    "\n",
    "**Note:** We are using a new (to us) default parameter to `print()` that says don't print to the screen, but to `file`."
   ]
  },
  {
   "cell_type": "code",
   "execution_count": 4,
   "metadata": {},
   "outputs": [],
   "source": [
    "out_file = open(\"foo.txt\", \"w\")\n",
    "# temp_file = 1\n",
    "a_num = 1\n",
    "\n",
    "print(\"Good question Allan!\", file=out_file)\n",
    "\n",
    "print(\"something else: {}\".format(a_num), file=out_file)\n",
    "print(\"more new text\", file=out_file)\n",
    "\n",
    "out_file.close()"
   ]
  },
  {
   "cell_type": "markdown",
   "metadata": {},
   "source": [
    "Let's look at the result, using our previously defined `cat()` function:"
   ]
  },
  {
   "cell_type": "code",
   "execution_count": null,
   "metadata": {},
   "outputs": [],
   "source": [
    "cat(\"foo.txt\")"
   ]
  },
  {
   "cell_type": "markdown",
   "metadata": {},
   "source": [
    "## File I/O details"
   ]
  },
  {
   "cell_type": "markdown",
   "metadata": {},
   "source": [
    "### File behaviour and errors\n",
    "\n",
    "Reading: attempt to open a non-existent file for reading: error\n",
    "\n",
    "File opening modes:\n",
    "\n",
    "- `r`: read-only\n",
    "- `w`: write-only\n",
    "- `a`: write-only at end of file (append)\n",
    "- `r+`: reads and writes from start of the file; it doesn't delete the content, and won't create the file if it doesn't exist\n",
    "- `w+`: clears the file's contents, reads and writes; this mode *will* create the file it's not there\n",
    "- `a+`: read and write from file's end"
   ]
  },
  {
   "cell_type": "markdown",
   "metadata": {},
   "source": [
    "Let's try the above code with mode \"a\":"
   ]
  },
  {
   "cell_type": "code",
   "execution_count": null,
   "metadata": {},
   "outputs": [],
   "source": [
    "temp_file = open(\"temp_out.txt\", \"a\")\n",
    "# temp_file = 1\n",
    "a_num = 9\n",
    "\n",
    "print(\"Good question Allan!\", file=temp_file)\n",
    "\n",
    "print(\"something else: {}\".format(a_num), file=temp_file)\n",
    "print(\"more new text\", file=temp_file)\n",
    "\n",
    "temp_file.close()"
   ]
  },
  {
   "cell_type": "markdown",
   "metadata": {},
   "source": [
    "### Reading and writing simultaneously"
   ]
  },
  {
   "cell_type": "markdown",
   "metadata": {},
   "source": [
    "Let's see how to both read one file and write another:"
   ]
  },
  {
   "cell_type": "code",
   "execution_count": null,
   "metadata": {},
   "outputs": [],
   "source": [
    "def cp(in_file, out_file):\n",
    "    \"\"\"Duplicates the UNIX `cp` command.\n",
    "    It copies `in_file` to `out_file`.\"\"\"\n",
    "    input_file = open(in_file, \"r\")\n",
    "    output_file = open(out_file, \"w\")\n",
    "\n",
    "    for line in input_file:\n",
    "        print(line, file=output_file, end='')\n",
    "\n",
    "    input_file.close()\n",
    "    output_file.close()\n",
    "    \n",
    "cp(\"foo.txt\", \"bryan.txt\")"
   ]
  },
  {
   "cell_type": "markdown",
   "metadata": {},
   "source": [
    "### Doing calculations with a file's contents"
   ]
  },
  {
   "cell_type": "markdown",
   "metadata": {},
   "source": [
    "So far, we have only dumped out the contents of a file to the screen, which can be useful. But we can do more:"
   ]
  },
  {
   "cell_type": "code",
   "execution_count": null,
   "metadata": {},
   "outputs": [],
   "source": [
    "input_file = open(\"grades.txt\", \"r\")\n",
    "\n",
    "gsum = counter = 0\n",
    "\n",
    "for line in input_file:\n",
    "    grade = float(line)\n",
    "    gsum += grade\n",
    "    counter += 1\n",
    "\n",
    "print(\"The average is: \", gsum / counter)\n",
    "\n",
    "input_file.close()"
   ]
  },
  {
   "cell_type": "markdown",
   "metadata": {},
   "source": [
    "### Some more file methods\n",
    "\n",
    "There are a few more methods that we can use on files:"
   ]
  },
  {
   "cell_type": "markdown",
   "metadata": {},
   "source": [
    "#### `read()`\n",
    "\n",
    "This reads in a whole file at once, and returns its contents as a string."
   ]
  },
  {
   "cell_type": "code",
   "execution_count": null,
   "metadata": {},
   "outputs": [],
   "source": [
    "f = open(\"foo.txt\", \"r\")\n",
    "s = f.read()\n",
    "print(type(s))\n",
    "print(s)"
   ]
  },
  {
   "cell_type": "markdown",
   "metadata": {},
   "source": [
    "#### `readline()`\n",
    "\n",
    "This reads a file a line at a time."
   ]
  },
  {
   "cell_type": "code",
   "execution_count": 1,
   "metadata": {},
   "outputs": [
    {
     "name": "stdout",
     "output_type": "stream",
     "text": [
      "Good question Matthew!\n",
      "\n",
      "something else: 11\n",
      "\n"
     ]
    }
   ],
   "source": [
    "f = open(\"foo.txt\", \"r\")\n",
    "line1 = f.readline()\n",
    "line2 = f.readline()\n",
    "\n",
    "print(line1)\n",
    "print(line2)"
   ]
  },
  {
   "cell_type": "markdown",
   "metadata": {},
   "source": [
    "#### `readlines()`\n",
    "\n",
    "This reads in a whole file at once, into a list of lines."
   ]
  },
  {
   "cell_type": "code",
   "execution_count": 2,
   "metadata": {},
   "outputs": [
    {
     "name": "stdout",
     "output_type": "stream",
     "text": [
      "<class 'list'>\n",
      "something else: 11\n",
      "\n",
      "more new text\n",
      "\n",
      "Good question Matthew!\n",
      "\n"
     ]
    }
   ],
   "source": [
    "from random import shuffle\n",
    "\n",
    "f = open(\"foo.txt\", \"r\")\n",
    "lines = f.readlines()\n",
    "print(type(lines))\n",
    "# print(lines[2])\n",
    "# print(lines[0])\n",
    "shuffle(lines)\n",
    "for line in lines:\n",
    "    print(line)"
   ]
  },
  {
   "cell_type": "code",
   "execution_count": null,
   "metadata": {},
   "outputs": [],
   "source": []
  }
 ],
 "metadata": {
  "kernelspec": {
   "display_name": "Python 3",
   "language": "python",
   "name": "python3"
  },
  "language_info": {
   "codemirror_mode": {
    "name": "ipython",
    "version": 3
   },
   "file_extension": ".py",
   "mimetype": "text/x-python",
   "name": "python",
   "nbconvert_exporter": "python",
   "pygments_lexer": "ipython3",
   "version": "3.9.0"
  }
 },
 "nbformat": 4,
 "nbformat_minor": 2
}
