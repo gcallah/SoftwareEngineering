{
 "cells": [
  {
   "cell_type": "markdown",
   "metadata": {},
   "source": [
    "## Review"
   ]
  },
  {
   "cell_type": "markdown",
   "metadata": {},
   "source": [
    "#### Counting digits"
   ]
  },
  {
   "cell_type": "code",
   "execution_count": 4,
   "metadata": {},
   "outputs": [
    {
     "name": "stdout",
     "output_type": "stream",
     "text": [
      "Type an int: 10101010\n",
      "10101010\n",
      "The number of 0s was  4\n",
      "The number of 1s was  4\n"
     ]
    }
   ],
   "source": [
    "\n",
    "n = int(input(\"Type an int: \"))\n",
    "print(n)\n",
    "\n",
    "count0 = 0\n",
    "count1 = 0\n",
    "count2 = 0\n",
    "count3 = 0\n",
    "count4 = 0\n",
    "count5 = 0\n",
    "count6 = 0\n",
    "count7 = 0\n",
    "count8 = 0\n",
    "count9 = 0\n",
    "\n",
    "while n > 0:\n",
    "    digit = n % 10\n",
    "    if digit == 0:\n",
    "        count0 += 1\n",
    "    elif digit == 1:\n",
    "        count1 += 1;\n",
    "    n //= 10\n",
    "\n",
    "print(\"The number of 0s was \", count0)\n",
    "print(\"The number of 1s was \", count1)\n"
   ]
  },
  {
   "cell_type": "markdown",
   "metadata": {},
   "source": [
    "Alternate solution?"
   ]
  },
  {
   "cell_type": "code",
   "execution_count": 5,
   "metadata": {},
   "outputs": [
    {
     "name": "stdout",
     "output_type": "stream",
     "text": [
      "Type an int: 23424\n",
      "23424\n",
      "The digit  0 appears 0 times\n",
      "The digit  1 appears 0 times\n",
      "The digit  2 appears 2 times\n",
      "The digit  3 appears 1 times\n",
      "The digit  4 appears 2 times\n",
      "The digit  5 appears 0 times\n",
      "The digit  6 appears 0 times\n",
      "The digit  7 appears 0 times\n",
      "The digit  8 appears 0 times\n",
      "The digit  9 appears 0 times\n"
     ]
    }
   ],
   "source": [
    "n = int(input(\"Type an int: \"))\n",
    "print(n)\n",
    "save_n = n\n",
    "\n",
    "for i in range(0, 10, 1):\n",
    "    n = save_n\n",
    "    counter = 0\n",
    "    while n > 0:\n",
    "        digit = n % 10\n",
    "        n //= 10\n",
    "        if digit == i:\n",
    "            counter += 1\n",
    "    print(\"The digit \", i, \"appears\", counter, \"times\")"
   ]
  },
  {
   "cell_type": "markdown",
   "metadata": {},
   "source": [
    "#### Continue"
   ]
  },
  {
   "cell_type": "code",
   "execution_count": 9,
   "metadata": {},
   "outputs": [
    {
     "name": "stdout",
     "output_type": "stream",
     "text": [
      "You drew a 5\n",
      "Do you want another card? (y/n)y\n",
      "You drew a 2\n",
      "Do you want another card? (y/n)y\n",
      "You drew a 11\n",
      "Do you want another card? (y/n)n\n",
      "Your total is 18\n",
      "You won!\n"
     ]
    }
   ],
   "source": [
    "from random import randint\n",
    "\n",
    "dealer_total = randint(2, 11)\n",
    "if dealer_total > 11:\n",
    "    dealer_total += randint(2, 11)\n",
    "    \n",
    "NUM_DRAWS = 20\n",
    "total = 0\n",
    "for i in range(NUM_DRAWS):\n",
    "    draw = randint(2, 11)\n",
    "    print(\"You drew a\", draw)\n",
    "    total += draw\n",
    "    if total > 21:\n",
    "        print(\"You're busted!\")\n",
    "        total = 0\n",
    "        continue\n",
    "    y_n = input(\"Do you want another card? (y/n)\")\n",
    "    if y_n == \"n\":\n",
    "        print(\"Your total is\", total)\n",
    "        if total > dealer_total:\n",
    "            print(\"You won!\")\n",
    "        else:\n",
    "            print(\":-(\")\n",
    "        break\n",
    "\n"
   ]
  },
  {
   "cell_type": "code",
   "execution_count": null,
   "metadata": {},
   "outputs": [],
   "source": []
  }
 ],
 "metadata": {
  "kernelspec": {
   "display_name": "Python 3",
   "language": "python",
   "name": "python3"
  },
  "language_info": {
   "codemirror_mode": {
    "name": "ipython",
    "version": 3
   },
   "file_extension": ".py",
   "mimetype": "text/x-python",
   "name": "python",
   "nbconvert_exporter": "python",
   "pygments_lexer": "ipython3",
   "version": "3.6.8"
  }
 },
 "nbformat": 4,
 "nbformat_minor": 4
}
