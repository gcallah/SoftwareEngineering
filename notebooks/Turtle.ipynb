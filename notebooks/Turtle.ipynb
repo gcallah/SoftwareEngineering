{
 "cells": [
  {
   "cell_type": "markdown",
   "metadata": {},
   "source": [
    "## Turtle graphics\n",
    "\n",
    "Let's have a quick look at turtle graphics. (The name comes from the notion that we are steering a little \"drawing turtle\" around the screen. I've never seen a drawing turtle, but...) `turtle` is a non-core *module*, so we must `import` it:"
   ]
  },
  {
   "cell_type": "code",
   "execution_count": 4,
   "metadata": {},
   "outputs": [],
   "source": [
    "import turtle\n",
    "from math import sin, cos, radians"
   ]
  },
  {
   "cell_type": "markdown",
   "metadata": {},
   "source": [
    "Now that we have it loaded, we can run turtle commands:"
   ]
  },
  {
   "cell_type": "code",
   "execution_count": 5,
   "metadata": {},
   "outputs": [],
   "source": [
    "turtle.forward(100)\n",
    "turtle.right(144)\n",
    "turtle.forward(100)\n",
    "turtle.right(144)\n",
    "turtle.forward(100)\n",
    "turtle.right(144)\n",
    "turtle.forward(100)\n",
    "turtle.right(144)\n",
    "turtle.forward(100)"
   ]
  },
  {
   "cell_type": "markdown",
   "metadata": {},
   "source": [
    "We could, of course, have made a *function* to eliminate the repetitive code above:"
   ]
  },
  {
   "cell_type": "code",
   "execution_count": 7,
   "metadata": {},
   "outputs": [],
   "source": [
    "def draw_and_turn():\n",
    "    turtle.forward(100)\n",
    "    turtle.right(144)\n",
    "\n",
    "for i in range (0, 5):\n",
    "    draw_and_turn()\n",
    "    "
   ]
  },
  {
   "cell_type": "markdown",
   "metadata": {},
   "source": [
    "Let's go further: no reason 100 and 144 can't be parameters to the function:"
   ]
  },
  {
   "cell_type": "code",
   "execution_count": 10,
   "metadata": {},
   "outputs": [],
   "source": [
    "def draw_and_turn2(fwd, r, l=0):\n",
    "    turtle.forward(fwd)\n",
    "    turtle.right(r)\n",
    "    turtle.left(1)"
   ]
  },
  {
   "cell_type": "markdown",
   "metadata": {},
   "source": [
    "So now we can *play*!"
   ]
  },
  {
   "cell_type": "code",
   "execution_count": 17,
   "metadata": {},
   "outputs": [],
   "source": [
    "turtle.clear()\n",
    "turtle.penup()\n",
    "turtle.goto(-100, 0)\n",
    "turtle.pendown()\n",
    "direction = 1\n",
    "for i in range(128, 0, -1):\n",
    "    direction *= -1\n",
    "    draw_and_turn2(6 * i, 90, 30)\n",
    "    # draw_and_turn2(sin(radians(i)) * 180, cos(i) * 180 * direction, sin(i) * 180)"
   ]
  },
  {
   "cell_type": "code",
   "execution_count": 8,
   "metadata": {},
   "outputs": [],
   "source": [
    "turtle.goto(0,0)"
   ]
  },
  {
   "cell_type": "code",
   "execution_count": null,
   "metadata": {},
   "outputs": [],
   "source": []
  }
 ],
 "metadata": {
  "kernelspec": {
   "display_name": "Python 3",
   "language": "python",
   "name": "python3"
  },
  "language_info": {
   "codemirror_mode": {
    "name": "ipython",
    "version": 3
   },
   "file_extension": ".py",
   "mimetype": "text/x-python",
   "name": "python",
   "nbconvert_exporter": "python",
   "pygments_lexer": "ipython3",
   "version": "3.6.8"
  }
 },
 "nbformat": 4,
 "nbformat_minor": 2
}
