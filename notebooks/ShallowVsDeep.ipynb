{
 "cells": [
  {
   "cell_type": "markdown",
   "metadata": {},
   "source": [
    "# Shallow Copy Versus Deep Copy Operations"
   ]
  },
  {
   "cell_type": "markdown",
   "metadata": {},
   "source": [
    "Here's the issue we are looking at now: when we make a copy of an object that contains other objects, what happens if the object we are copying \"contains\" other objects. So, if `list_orig` has `inner_list` as one of its members, like...\n",
    "\n",
    "`list_orig = [1, 2, [3, 5], 4]`\n",
    "\n",
    "and we make a copy of `list_orig` into `list_copy`...\n",
    "\n",
    "`list_orig` ---> `list_copy`\n",
    "\n",
    "\n",
    "does `list_copy` have a **copy** of `inner_list`, or do `list_orig` and `list_copy` share the **same** `inner_list`?\n",
    "\n",
    "As we will see, the default Python behavior is that `list_orig` and `list_copy` will **share** `inner_list`. That is called a *shallow copy*.\n",
    "\n",
    "However, Python also permits the programmer to \"order up\" a *deep copy* so that `inner_list` is copied also.\n",
    "\n",
    "<img src=\"https://i.stack.imgur.com/AWKJa.jpg\" width=\"30%\">"
   ]
  },
  {
   "cell_type": "markdown",
   "metadata": {},
   "source": [
    "## Deep copy\n",
    "\n",
    "Let's first look at a deep copy."
   ]
  },
  {
   "cell_type": "code",
   "execution_count": null,
   "metadata": {},
   "outputs": [],
   "source": [
    "# initializing list_a \n",
    "INNER_LIST_IDX = 2\n",
    "list_orig = [1, 2, [3, 5], 4] \n",
    "\n",
    "print (\"The original elements before deep copying\") \n",
    "print(list_orig)\n",
    "print(list_orig[INNER_LIST_IDX][0])"
   ]
  },
  {
   "cell_type": "markdown",
   "metadata": {},
   "source": [
    "We will use deepcopy to deep copy `list_orig` and change an element in the new list."
   ]
  },
  {
   "cell_type": "code",
   "execution_count": null,
   "metadata": {},
   "outputs": [],
   "source": [
    "import copy "
   ]
  },
  {
   "cell_type": "markdown",
   "metadata": {},
   "source": [
    "(What's in the `copy` module?)"
   ]
  },
  {
   "cell_type": "code",
   "execution_count": null,
   "metadata": {},
   "outputs": [],
   "source": [
    "dir(copy)"
   ]
  },
  {
   "cell_type": "markdown",
   "metadata": {},
   "source": [
    "The change is made in list_b: "
   ]
  },
  {
   "cell_type": "code",
   "execution_count": null,
   "metadata": {},
   "outputs": [],
   "source": [
    "list_copy = copy.deepcopy(list_orig)\n",
    "# Now change first element of the inner list:\n",
    "list_copy[INNER_LIST_IDX][0] = 7\n",
    "\n",
    "print(\"The new list (list_copy) of elements after deep copying and list modification\") \n",
    "print(list_copy)"
   ]
  },
  {
   "cell_type": "markdown",
   "metadata": {},
   "source": [
    "That change is **not** reflected in original list as we made a deep copy:"
   ]
  },
  {
   "cell_type": "code",
   "execution_count": null,
   "metadata": {},
   "outputs": [],
   "source": [
    "print (\"The original list (list_orig) elements after deep copying\") \n",
    "print(list_orig)"
   ]
  },
  {
   "cell_type": "code",
   "execution_count": null,
   "metadata": {},
   "outputs": [],
   "source": [
    "print(\"The list IDs are:\", id(list_orig), id(list_copy))\n",
    "print(\"The inner list IDs are:\", id(list_orig[INNER_LIST_IDX]),\n",
    "      id(list_copy[INNER_LIST_IDX]))"
   ]
  },
  {
   "cell_type": "markdown",
   "metadata": {},
   "source": [
    "## Shallow copy"
   ]
  },
  {
   "cell_type": "markdown",
   "metadata": {},
   "source": [
    "Like a \"shallow\" person, and shallow copy only sees the \"surface\" of the object it is copying... it doesn't peer further inside.\n",
    "\n",
    "We'll set up `list_orig` as before:"
   ]
  },
  {
   "cell_type": "code",
   "execution_count": null,
   "metadata": {},
   "outputs": [],
   "source": [
    "INNER_LIST_IDX = 2\n",
    "\n",
    "# initializing list_1 \n",
    "list_orig = [1, 2, [3, 5], 4] \n",
    "\n",
    "# original elements of list \n",
    "print (\"The original elements before shallow copying\") \n",
    "print(list_orig)"
   ]
  },
  {
   "cell_type": "markdown",
   "metadata": {},
   "source": [
    "Using copy to shallow copy adding an element to new list"
   ]
  },
  {
   "cell_type": "code",
   "execution_count": null,
   "metadata": {},
   "outputs": [],
   "source": [
    "import copy \n",
    "\n",
    "list_copy = copy.copy(list_orig)  # not deepcopy()!\n",
    "list_copy[INNER_LIST_IDX][0] = 7"
   ]
  },
  {
   "cell_type": "markdown",
   "metadata": {},
   "source": [
    "Let's check the result: "
   ]
  },
  {
   "cell_type": "code",
   "execution_count": null,
   "metadata": {},
   "outputs": [],
   "source": [
    "print (\"The original elements after shallow copying\") \n",
    "print(list_orig)"
   ]
  },
  {
   "cell_type": "markdown",
   "metadata": {},
   "source": [
    "Let's change `inner_list` in `list_orig`:"
   ]
  },
  {
   "cell_type": "code",
   "execution_count": null,
   "metadata": {},
   "outputs": [],
   "source": [
    "list_orig[INNER_LIST_IDX][0] = \"That's different!\""
   ]
  },
  {
   "cell_type": "markdown",
   "metadata": {},
   "source": [
    "And let's see what `list_copy`'s inner list now looks like:"
   ]
  },
  {
   "cell_type": "code",
   "execution_count": null,
   "metadata": {},
   "outputs": [],
   "source": [
    "print(list_copy)"
   ]
  },
  {
   "cell_type": "markdown",
   "metadata": {},
   "source": [
    "So we can see that `list_orig` and `list_copy` share the same inner list, which is now `[\"That's different!\", 5]`. And their IDs show this:"
   ]
  },
  {
   "cell_type": "code",
   "execution_count": null,
   "metadata": {},
   "outputs": [],
   "source": [
    "print(\"The list IDs are:\", id(list_orig), id(list_copy))\n",
    "print(\"The inner list IDs are:\", id(list_orig[INNER_LIST_IDX]),\n",
    "      id(list_copy[INNER_LIST_IDX]))"
   ]
  },
  {
   "cell_type": "markdown",
   "metadata": {},
   "source": [
    "**But**... if we change the outer list element at INNER_LIST_IDX... **that** change is not shared!"
   ]
  },
  {
   "cell_type": "code",
   "execution_count": null,
   "metadata": {},
   "outputs": [],
   "source": [
    "list_orig[INNER_LIST_IDX] = [\"Brand new list!\", 16]\n",
    "print(\"list_orig:\", list_orig)\n",
    "print(\"list_copy:\", list_copy)"
   ]
  },
  {
   "cell_type": "markdown",
   "metadata": {},
   "source": [
    "### Slicing\n",
    "\n",
    "We should see which of the above slicing gets us!"
   ]
  },
  {
   "cell_type": "code",
   "execution_count": null,
   "metadata": {},
   "outputs": [],
   "source": [
    "list_slice = list_orig[:]\n",
    "print(list_slice)"
   ]
  },
  {
   "cell_type": "markdown",
   "metadata": {},
   "source": [
    "What happens to `list_slice` if we change `list_a`:"
   ]
  },
  {
   "cell_type": "code",
   "execution_count": null,
   "metadata": {},
   "outputs": [],
   "source": [
    "list_orig[INNER_LIST_IDX][0] = \"Did our slice change?\"\n",
    "list_orig[0] = \"New value at 0!\"\n",
    "print(\"Original list:\", list_orig)\n",
    "print(\"Our slice:\", list_slice)"
   ]
  },
  {
   "cell_type": "markdown",
   "metadata": {},
   "source": [
    "So, slicing make a *shallow* copy."
   ]
  },
  {
   "cell_type": "markdown",
   "metadata": {},
   "source": [
    "### Assignment\n",
    "\n",
    "And if we don't even slice, but just assign, even the outer lists will be the same, since we haven't made **any** sort of copy at all... we've just put two labels on the same \"box\":"
   ]
  },
  {
   "cell_type": "code",
   "execution_count": null,
   "metadata": {},
   "outputs": [],
   "source": [
    "list_alias = list_orig\n",
    "another_alias = list_alias\n",
    "yet_another = list_orig\n",
    "print(list_alias, end=\"\\n\\n\")\n",
    "\n",
    "# change elem 0:\n",
    "list_orig[0] = \"Even the outer elems are the same.\"\n",
    "print(\"List alias has element 0 altered:\", list_alias, end=\"\\n\\n\")\n",
    "print(\"List slice does not have element 0 altered:\", list_slice, end=\"\\n\\n\")\n",
    "\n",
    "# see their IDs:\n",
    "print(\"list_orig ID:\", id(list_orig), end=\"\\n\\n\")\n",
    "print(\"list_alias ID:\", id(list_alias), end=\"\\n\\n\")\n",
    "print(\"another_alias ID:\", id(another_alias), end=\"\\n\\n\")\n",
    "print(\"list_slice ID:\", id(list_slice), end=\"\\n\\n\")"
   ]
  },
  {
   "cell_type": "markdown",
   "metadata": {},
   "source": [
    "What does `append()` do in terms of shallow versus deep copy?"
   ]
  },
  {
   "cell_type": "code",
   "execution_count": 1,
   "metadata": {},
   "outputs": [
    {
     "name": "stdout",
     "output_type": "stream",
     "text": [
      "list_copy: [1, 2, 3, [\"Did the copy's inner list change?\", 5]]\n"
     ]
    }
   ],
   "source": [
    "INNER_LIST_IDX = 3\n",
    "list_orig = [1, 2, 3, [4, 5]]\n",
    "list_copy = []\n",
    "for elem in list_orig:\n",
    "    list_copy.append(elem)\n",
    "list_orig[INNER_LIST_IDX][0] = \"Did the copy's inner list change?\"\n",
    "print(\"list_copy:\", list_copy)"
   ]
  },
  {
   "cell_type": "markdown",
   "metadata": {},
   "source": [
    "## What If We Need Different Copy Behavior for Our Own Class?"
   ]
  },
  {
   "cell_type": "markdown",
   "metadata": {},
   "source": [
    "**Advanced topic**: Python has *dunder* (double-underscore) methods `__copy__()` and `__deepcopy__()` that we can implement in our own class when we have special copying needs."
   ]
  },
  {
   "cell_type": "markdown",
   "metadata": {},
   "source": [
    "## What about Dictionaries?\n",
    "\n",
    "The above discussion was in terms of lists, but the same considerations apply to dictionaries.\n",
    "\n",
    "<hr>\n",
    "\n",
    "*Assignment* just creates an *alias* for a dictionary. *All* changes to the original will be reflected in the alias:"
   ]
  },
  {
   "cell_type": "code",
   "execution_count": 1,
   "metadata": {},
   "outputs": [
    {
     "name": "stdout",
     "output_type": "stream",
     "text": [
      "dict_alias: {'a': 1, 'b': 2, 'c': {'d': 3, 'e': 4}}\n"
     ]
    }
   ],
   "source": [
    "original = {\"a\": 1, \"b\": 2, \"c\": {\"d\": 3, \"e\": 4}}\n",
    "dict_alias = original\n",
    "print(\"dict_alias:\", dict_alias)"
   ]
  },
  {
   "cell_type": "code",
   "execution_count": 2,
   "metadata": {},
   "outputs": [
    {
     "name": "stdout",
     "output_type": "stream",
     "text": [
      "dict_alias: {'a': 'A brand new value!', 'b': 2, 'c': {'d': 3, 'e': 4}}\n"
     ]
    }
   ],
   "source": [
    "original[\"a\"] = \"A brand new value!\"\n",
    "print(\"dict_alias:\", dict_alias)"
   ]
  },
  {
   "cell_type": "markdown",
   "metadata": {},
   "source": [
    "<hr>\n",
    "\n",
    "A *shallow* copy copies the \"skin\" of the dictionary, but not the \"innards\":"
   ]
  },
  {
   "cell_type": "code",
   "execution_count": 23,
   "metadata": {},
   "outputs": [
    {
     "name": "stdout",
     "output_type": "stream",
     "text": [
      "shallow copy: {'a': 1, 'b': 2, 'c': {'d': 3, 'e': 4}}\n"
     ]
    }
   ],
   "source": [
    "from copy import copy, deepcopy\n",
    "original = {\"a\": 1, \"b\": 2, \"c\": {\"d\": 3, \"e\": 4}}\n",
    "dict_scopy = copy(original)\n",
    "print(\"shallow copy:\", dict_scopy)"
   ]
  },
  {
   "cell_type": "code",
   "execution_count": 24,
   "metadata": {},
   "outputs": [
    {
     "name": "stdout",
     "output_type": "stream",
     "text": [
      "original: {'a': \"This won't be in shallow copy!\", 'b': 2, 'c': {'d': 3, 'e': 4}}\n",
      "shallow copy: {'a': 1, 'b': 2, 'c': {'d': 3, 'e': 4}}\n"
     ]
    }
   ],
   "source": [
    "# change the outer part:\n",
    "original[\"a\"] = \"This won't be in shallow copy!\"\n",
    "print(\"original:\", original)\n",
    "print(\"shallow copy:\", dict_scopy)"
   ]
  },
  {
   "cell_type": "code",
   "execution_count": 28,
   "metadata": {},
   "outputs": [
    {
     "name": "stdout",
     "output_type": "stream",
     "text": [
      "shallow copy: {'a': 1, 'b': 2, 'c': {'d': 'This WILL appear in the shallow copy!', 'e': 'This WILL appear in the original!'}}\n",
      "original: {'a': \"This won't be in shallow copy!\", 'b': 2, 'c': {'d': 'This WILL appear in the shallow copy!', 'e': 'This WILL appear in the original!'}}\n"
     ]
    }
   ],
   "source": [
    "# change the innards:\n",
    "original[\"c\"][\"d\"] = \"This WILL appear in the shallow copy!\"\n",
    "print(\"shallow copy:\", dict_scopy)\n",
    "dict_scopy[\"c\"][\"e\"] = \"This WILL appear in the original!\"\n",
    "print(\"original:\", original)"
   ]
  },
  {
   "cell_type": "code",
   "execution_count": 17,
   "metadata": {},
   "outputs": [
    {
     "name": "stdout",
     "output_type": "stream",
     "text": [
      "original: {'a': \"This won't be in shallow copy!\", 'b': 2, 'c': 'Hello Monte!'}\n",
      "shallow copy: {'a': 1, 'b': 2, 'c': {'d': 'This WILL appear in the shallow copy!', 'e': 4}}\n"
     ]
    }
   ],
   "source": [
    "original[\"c\"] = \"Hello Monte!\"\n",
    "print(\"original:\", original)\n",
    "print(\"shallow copy:\", dict_scopy)"
   ]
  },
  {
   "cell_type": "markdown",
   "metadata": {},
   "source": [
    "<hr>\n",
    "\n",
    "A *deep* copy copies the \"innards\" of the dictionary as well as the \"skin\":"
   ]
  },
  {
   "cell_type": "code",
   "execution_count": 20,
   "metadata": {},
   "outputs": [
    {
     "name": "stdout",
     "output_type": "stream",
     "text": [
      "deep copy: {'a': 1, 'b': 2, 'c': {'d': 3, 'e': 4}}\n"
     ]
    }
   ],
   "source": [
    "original = {\"a\": 1, \"b\": 2, \"c\": {\"d\": 3, \"e\": 4}}\n",
    "dict_dcopy = deepcopy(original)\n",
    "print(\"deep copy:\", dict_dcopy)"
   ]
  },
  {
   "cell_type": "code",
   "execution_count": 21,
   "metadata": {},
   "outputs": [
    {
     "name": "stdout",
     "output_type": "stream",
     "text": [
      "original: {'a': 1, 'b': 2, 'c': {'d': \"This WON'T appear in the deep copy!\", 'e': 4}}\n",
      "deep copy: {'a': 1, 'b': 2, 'c': {'d': 3, 'e': 4}}\n"
     ]
    }
   ],
   "source": [
    "original[\"c\"][\"d\"] = \"This WON'T appear in the deep copy!\"\n",
    "print(\"original:\", original)\n",
    "print(\"deep copy:\", dict_dcopy)"
   ]
  },
  {
   "cell_type": "code",
   "execution_count": null,
   "metadata": {},
   "outputs": [],
   "source": []
  }
 ],
 "metadata": {
  "kernelspec": {
   "display_name": "Python 3",
   "language": "python",
   "name": "python3"
  },
  "language_info": {
   "codemirror_mode": {
    "name": "ipython",
    "version": 3
   },
   "file_extension": ".py",
   "mimetype": "text/x-python",
   "name": "python",
   "nbconvert_exporter": "python",
   "pygments_lexer": "ipython3",
   "version": "3.9.0"
  }
 },
 "nbformat": 4,
 "nbformat_minor": 2
}
