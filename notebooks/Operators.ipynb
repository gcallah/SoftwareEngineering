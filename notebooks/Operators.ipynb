{
 "cells": [
  {
   "cell_type": "markdown",
   "metadata": {},
   "source": [
    "# Operators"
   ]
  },
  {
   "cell_type": "markdown",
   "metadata": {},
   "source": [
    "The distinctions between *operators* and *functions* in programming languages is somewhat arbitrary. What are regarded as *operators* are typically the mathemical symbols that come in between their *operands*, while in a function call, the name of the function comes first, followed by its *arguments*, which are equivalent to the *operands* of an *operator*. What the hey does all of this verbiage mean? Well, essentially, `add(3, 4)` is an alernative way of saying `3 + 4`.\n",
    "\n",
    "When we are using an operator, the things it is operating on are called *operands*. So in the expression above, `3` and `4` are the operands.\n",
    "\n",
    "Here are the mathematical Python operators we will be using:\n",
    "\n",
    "- +\n",
    "- -\n",
    "- *\n",
    "- \\*\\*\n",
    "- /\n",
    "- //\n",
    "- %\n",
    "- <\n",
    "- >\n",
    "- <=\n",
    "- \\>=\n",
    "- +=\n",
    "- -=\n",
    "- *=\n",
    "- **=\n",
    "- /=\n",
    "- //=\n",
    "- %=\n"
   ]
  },
  {
   "cell_type": "markdown",
   "metadata": {},
   "source": [
    "Let's look at examples of using them, especially the less familiar ones:"
   ]
  },
  {
   "cell_type": "code",
   "execution_count": 2,
   "metadata": {},
   "outputs": [
    {
     "name": "stdout",
     "output_type": "stream",
     "text": [
      "result 1 is 3.5 ; result 2 is 3\n"
     ]
    }
   ],
   "source": [
    "n = 7\n",
    "res1 = n / 2\n",
    "res2 = n // 2\n",
    "print(\"result 1 is\", res1, \"; result 2 is\", res2)"
   ]
  },
  {
   "cell_type": "code",
   "execution_count": 15,
   "metadata": {},
   "outputs": [
    {
     "name": "stdout",
     "output_type": "stream",
     "text": [
      "3 modulus  7  =  3\n",
      "5 modulus  7  =  5\n",
      "7 modulus  7  =  0\n",
      "9 modulus  7  =  2\n",
      "11 modulus  7  =  4\n",
      "13 modulus  7  =  6\n"
     ]
    }
   ],
   "source": [
    "DAYS_IN_WEEK = 7\n",
    "for i in range(3, 14, 2):\n",
    "    print(i, \"modulus \", DAYS_IN_WEEK, \" = \", i % DAYS_IN_WEEK)"
   ]
  },
  {
   "cell_type": "code",
   "execution_count": 10,
   "metadata": {},
   "outputs": [
    {
     "data": {
      "text/plain": [
       "6"
      ]
     },
     "execution_count": 10,
     "metadata": {},
     "output_type": "execute_result"
    }
   ],
   "source": [
    "WED = 3\n",
    "(WED + 500) % 7"
   ]
  },
  {
   "cell_type": "code",
   "execution_count": 18,
   "metadata": {},
   "outputs": [
    {
     "data": {
      "text/plain": [
       "4"
      ]
     },
     "execution_count": 18,
     "metadata": {},
     "output_type": "execute_result"
    }
   ],
   "source": [
    "(8 + 500) % 24"
   ]
  },
  {
   "cell_type": "code",
   "execution_count": 21,
   "metadata": {},
   "outputs": [
    {
     "data": {
      "text/plain": [
       "8"
      ]
     },
     "execution_count": 21,
     "metadata": {},
     "output_type": "execute_result"
    }
   ],
   "source": [
    "n = 4\n",
    "n += 4  # same as n = n + 4\n",
    "n"
   ]
  },
  {
   "cell_type": "code",
   "execution_count": 26,
   "metadata": {},
   "outputs": [
    {
     "ename": "SyntaxError",
     "evalue": "can't assign to literal (<ipython-input-26-e29fd3cb5bb0>, line 1)",
     "output_type": "error",
     "traceback": [
      "\u001b[0;36m  File \u001b[0;32m\"<ipython-input-26-e29fd3cb5bb0>\"\u001b[0;36m, line \u001b[0;32m1\u001b[0m\n\u001b[0;31m    3 += 8\u001b[0m\n\u001b[0m          ^\u001b[0m\n\u001b[0;31mSyntaxError\u001b[0m\u001b[0;31m:\u001b[0m can't assign to literal\n"
     ]
    }
   ],
   "source": [
    "3 += 8"
   ]
  },
  {
   "cell_type": "code",
   "execution_count": 27,
   "metadata": {},
   "outputs": [
    {
     "data": {
      "text/plain": [
       "-1"
      ]
     },
     "execution_count": 27,
     "metadata": {},
     "output_type": "execute_result"
    }
   ],
   "source": [
    "n = 7\n",
    "n -= 8  # same as n = n - 8\n",
    "n"
   ]
  },
  {
   "cell_type": "code",
   "execution_count": 30,
   "metadata": {},
   "outputs": [
    {
     "data": {
      "text/plain": [
       "14"
      ]
     },
     "execution_count": 30,
     "metadata": {},
     "output_type": "execute_result"
    }
   ],
   "source": [
    "n = 7\n",
    "n *= 2  # same as n = n * 2\n",
    "n"
   ]
  },
  {
   "cell_type": "code",
   "execution_count": 29,
   "metadata": {},
   "outputs": [
    {
     "data": {
      "text/plain": [
       "1.5"
      ]
     },
     "execution_count": 29,
     "metadata": {},
     "output_type": "execute_result"
    }
   ],
   "source": [
    "n = 3\n",
    "n /= 2  # same as n = n / 2\n",
    "n"
   ]
  },
  {
   "cell_type": "code",
   "execution_count": 28,
   "metadata": {},
   "outputs": [
    {
     "data": {
      "text/plain": [
       "1"
      ]
     },
     "execution_count": 28,
     "metadata": {},
     "output_type": "execute_result"
    }
   ],
   "source": [
    "n = 3\n",
    "n //= 2 # same as n = n // 2\n",
    "n"
   ]
  },
  {
   "cell_type": "markdown",
   "metadata": {},
   "source": [
    "These operators can be combined into more complex expressions. For instance, what does the expression to the right of the `=` assign to `x`?"
   ]
  },
  {
   "cell_type": "code",
   "execution_count": 31,
   "metadata": {},
   "outputs": [
    {
     "data": {
      "text/plain": [
       "17"
      ]
     },
     "execution_count": 31,
     "metadata": {},
     "output_type": "execute_result"
    }
   ],
   "source": [
    "x = 5 + 3 * 4\n",
    "x"
   ]
  },
  {
   "cell_type": "markdown",
   "metadata": {},
   "source": [
    "a) 12\n",
    "\n",
    "b) 27\n",
    "\n",
    "c) 17\n",
    "\n",
    "d) Nothing: it is bad code!"
   ]
  },
  {
   "cell_type": "markdown",
   "metadata": {},
   "source": [
    "Let's say instead we write:"
   ]
  },
  {
   "cell_type": "code",
   "execution_count": null,
   "metadata": {},
   "outputs": [],
   "source": [
    "x = 3 * (4 + 5)\n",
    "x"
   ]
  },
  {
   "cell_type": "markdown",
   "metadata": {},
   "source": [
    "Now what is the value assigned to `x`?"
   ]
  },
  {
   "cell_type": "markdown",
   "metadata": {},
   "source": [
    "a) 12\n",
    "\n",
    "b) 27\n",
    "\n",
    "c) 17\n",
    "\n",
    "d) Nothing: it is bad code!"
   ]
  },
  {
   "cell_type": "markdown",
   "metadata": {},
   "source": [
    "Parentheses change the *precedence* of operations. You must understand the precedence of operators in order to make your calculation do what you want it to do.\n",
    "\n",
    "In Python, the order of precedence is:\n",
    "\n",
    "1. parentheses: `()`\n",
    "2. exponentiation: `**`\n",
    "3. negation: `-`\n",
    "4. multiplication, both divisions, modulus: `*`, `/`, `//`, `%`\n",
    "5. addition and subtraction: `+`, `-`\n",
    "6. position (left to right among equal precedence operators)"
   ]
  },
  {
   "cell_type": "markdown",
   "metadata": {},
   "source": [
    "Given the above rules, what is the result of evaluating:"
   ]
  },
  {
   "cell_type": "code",
   "execution_count": null,
   "metadata": {},
   "outputs": [],
   "source": [
    "(1 + 1) ** 2 - 2 ** 2 // 2"
   ]
  },
  {
   "cell_type": "markdown",
   "metadata": {},
   "source": [
    "a) 4\n",
    "\n",
    "b) 6\n",
    "\n",
    "c) 8\n",
    "\n",
    "d) 2"
   ]
  },
  {
   "cell_type": "markdown",
   "metadata": {},
   "source": [
    "Negation and subtraction: negation is a *unary* operator, while substraction is *binary*."
   ]
  },
  {
   "cell_type": "code",
   "execution_count": 32,
   "metadata": {},
   "outputs": [
    {
     "data": {
      "text/plain": [
       "26"
      ]
     },
     "execution_count": 32,
     "metadata": {},
     "output_type": "execute_result"
    }
   ],
   "source": [
    "40 -(4 * -8 + 6)"
   ]
  },
  {
   "cell_type": "code",
   "execution_count": 34,
   "metadata": {},
   "outputs": [
    {
     "data": {
      "text/plain": [
       "16"
      ]
     },
     "execution_count": 34,
     "metadata": {},
     "output_type": "execute_result"
    }
   ],
   "source": [
    "n = -16\n",
    "-n"
   ]
  },
  {
   "cell_type": "code",
   "execution_count": null,
   "metadata": {},
   "outputs": [],
   "source": []
  }
 ],
 "metadata": {
  "kernelspec": {
   "display_name": "Python 3",
   "language": "python",
   "name": "python3"
  },
  "language_info": {
   "codemirror_mode": {
    "name": "ipython",
    "version": 3
   },
   "file_extension": ".py",
   "mimetype": "text/x-python",
   "name": "python",
   "nbconvert_exporter": "python",
   "pygments_lexer": "ipython3",
   "version": "3.6.2"
  }
 },
 "nbformat": 4,
 "nbformat_minor": 2
}
