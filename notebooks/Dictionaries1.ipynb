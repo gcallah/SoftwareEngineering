{
 "cells": [
  {
   "cell_type": "markdown",
   "metadata": {},
   "source": [
    "# Dictionaries"
   ]
  },
  {
   "cell_type": "markdown",
   "metadata": {},
   "source": [
    "Like lists and tuples, a *dictionary* is a *collection* of data.\n",
    "\n",
    "Unlike strings, lists and tuples it's not a *sequence* of data.\n",
    "\n",
    "Instead of sequential access, dictionaries are accessed by a *key*. Search for a key, obtain a value. They are designed to be very efficient.\n",
    "\n",
    "Dictionaries are also known as *maps*, *associative arrays* or *hash tables*.\n",
    "\n",
    "- **Dictionary**: the *key* is like the word we use to look up a definition (the *value*).\n",
    "- **Map**: the *key* maps to a *value*.\n",
    "- **Associative array**: the *key* is associated with a *value*.\n",
    "- **Hash table**: *hashing* is the technique by which key lookups are made fast.\n",
    "\n",
    "**Crucial point**: any Python type can be a key, so long as it is *immutable*. Why? If the key were mutable, once changed, it would no longer \"open\" the right value!\n",
    "\n",
    "**Q**: Which types can Python use as keys?\n",
    "\n",
    "a) strings and integers  \n",
    "b) lists  \n",
    "c) tuples  \n",
    "d) a and c  \n",
    "\n",
    "Now we might see a reason Python makes strings immutable!\n",
    "\n",
    "Let's look at an example: a phone directory.\n",
    "\n",
    "- Bill: 212-111-2233\n",
    "- Mary: 212-555-6677\n",
    "- Sue: 212-555-4444\n",
    "\n",
    "First we try this as a list:"
   ]
  },
  {
   "cell_type": "code",
   "execution_count": null,
   "metadata": {},
   "outputs": [],
   "source": [
    "contact_list = [\"Bill: 212-111-2233\",\n",
    "                \"Mary: 212-555-6677\",\n",
    "                \"Sue: 212-555-4444\"]\n",
    "for contact in contact_list:\n",
    "    if contact.startswith(\"Sue\"):\n",
    "        print(contact)"
   ]
  },
  {
   "cell_type": "markdown",
   "metadata": {},
   "source": [
    "We could also try this way:"
   ]
  },
  {
   "cell_type": "code",
   "execution_count": null,
   "metadata": {},
   "outputs": [],
   "source": [
    "contact_list = [\"Bill\", \"212-111-2233\",\n",
    "                \"Mary\", \"212-555-6677\",\n",
    "                \"Sue\", \"212-555-4444\"]\n",
    "for name_idx in range(0, len(contact_list), 2):\n",
    "    if contact_list[name_idx] == \"Sue\":\n",
    "        print(contact_list[name_idx + 1])"
   ]
  },
  {
   "cell_type": "markdown",
   "metadata": {},
   "source": [
    "Look how much easier this is with a dictionary:"
   ]
  },
  {
   "cell_type": "code",
   "execution_count": null,
   "metadata": {},
   "outputs": [],
   "source": [
    "contacts = {\"Bill\": \"212-111-2233\",\n",
    "            \"Mary\": \"212-555-6677\",\n",
    "            \"Sue\": \"212-555-4444\"}\n",
    "print(contacts[\"Bill\"])"
   ]
  },
  {
   "cell_type": "markdown",
   "metadata": {},
   "source": [
    "### Creating dictionaries"
   ]
  },
  {
   "cell_type": "markdown",
   "metadata": {},
   "source": [
    "Let's make a dictionary of dictionaries with a real use: looking up zip codes for a city:"
   ]
  },
  {
   "cell_type": "code",
   "execution_count": null,
   "metadata": {},
   "outputs": [],
   "source": [
    "states = {\n",
    "    \"AK\": {\"Anchorage\": [89783, 89728, 78676, 85463],\n",
    "           \"Juneau\": [39783, 39728, 38676],},\n",
    "    \"AL\": {\"Birmingham\": [49783, 49728, 48676],\n",
    "           \"Mobile\": [44783, 44728, 44676]},\n",
    "    \"AR\": {\"Little Rock\": [18783, 18728, 18676, 18183],\n",
    "           \"Hot Springs\": [99783, 99728, 98676]},\n",
    "}\n",
    "\n",
    "state = input(\"Enter a state: \")\n",
    "city = input(\"Enter a city: \")\n",
    "print(\"Zip codes for {}, {} are: {}\".format(city, state,\n",
    "                                            states[state][city]))"
   ]
  },
  {
   "cell_type": "markdown",
   "metadata": {},
   "source": [
    "What if we had a zip code and needed the neighborhood, city and state?"
   ]
  },
  {
   "cell_type": "code",
   "execution_count": null,
   "metadata": {},
   "outputs": [],
   "source": [
    "zips = {\n",
    "    # alternate structure:\n",
    "    # \"11231-2314\": [\"NY\", \"Brooklyn\", \"Sunset Park\"]\n",
    "    \"11231-2314\": {\"state\": \"NY\", \n",
    "                   \"city\": \"Brooklyn\",\n",
    "                   \"nhood\": \"Sunset Park\",\n",
    "                   \"pop.\": 125000},\n",
    "    \"11232-1244\": {\"state\": \"NY\", \n",
    "                   \"city\": \"Brooklyn\",\n",
    "                   \"nhood\": \"Carroll Gardens\",\n",
    "                   \"notes\": \"Good Italian food\",},\n",
    "    \"11201-1213\": {\"state\": \"NY\", \n",
    "                   \"city\": \"Brooklyn\",\n",
    "                   \"nhood\": \"Downtown\",\n",
    "                   \"notes\": \"Lots of offices\"},\n",
    "}\n",
    "\n",
    "zip = input(\"Please enter a 5+4 zip code: \")\n",
    "try:\n",
    "    print(\"That zip code is for {} in {}, {}\".format(zips[zip][\"nhood\"],\n",
    "                                                     zips[zip][\"city\"],\n",
    "                                                     zips[zip][\"state\"]))\n",
    "except KeyError as kerr:\n",
    "    print(\"Zip code not found:\", kerr)\n",
    "print(\"Got here!\")"
   ]
  },
  {
   "cell_type": "markdown",
   "metadata": {},
   "source": [
    "**Q**: `KeyError` is ______.\n",
    "\n",
    "a) an error message  \n",
    "b) an exception  \n",
    "c) a container  \n",
    "d) a return value  "
   ]
  },
  {
   "cell_type": "markdown",
   "metadata": {},
   "source": [
    "If we don't want a `KeyError` we can have a default by using the `get()` method:"
   ]
  },
  {
   "cell_type": "code",
   "execution_count": null,
   "metadata": {},
   "outputs": [],
   "source": [
    "place = zips.get(\"11201-1214\", \"Zip code not found!\")\n",
    "print(place)"
   ]
  },
  {
   "cell_type": "markdown",
   "metadata": {},
   "source": [
    "### Dictionary Indexing and Assignment\n",
    "\n",
    "We use index operator `[ ]` to access elements, but we do **not**\n",
    "use index numbers. The keys are used to access the values."
   ]
  },
  {
   "cell_type": "code",
   "execution_count": null,
   "metadata": {},
   "outputs": [],
   "source": [
    "contacts = {\"Bill\" : \"212-111-2233\", \n",
    "            \"Mary\" : \"212-555-6677\",\n",
    "            \"Sue\" : \"212-555-4444\" }\n",
    "\n",
    "# Accessing one contact, access through the *key*:\n",
    "contacts['Mary']"
   ]
  },
  {
   "cell_type": "markdown",
   "metadata": {},
   "source": [
    "Modifying a value using a key:"
   ]
  },
  {
   "cell_type": "code",
   "execution_count": null,
   "metadata": {},
   "outputs": [],
   "source": [
    "contacts[\"Bill\"] = \"401-846-4318\"\n",
    "print(contacts)"
   ]
  },
  {
   "cell_type": "markdown",
   "metadata": {},
   "source": [
    "### Add a key-value pair via an assignment\n",
    "\n",
    "If the key does not exist, it is created and then\n",
    "associated with the specified value, otherwise the\n",
    "key's value is updated (see above)."
   ]
  },
  {
   "cell_type": "code",
   "execution_count": null,
   "metadata": {},
   "outputs": [],
   "source": [
    "# with a list, we can't add an item with lst[idx] = '865-5523'\n",
    "contacts['Deanna'] = '865-5523'\n",
    "print(contacts)"
   ]
  },
  {
   "cell_type": "markdown",
   "metadata": {},
   "source": [
    "### Dictionary Operations"
   ]
  },
  {
   "cell_type": "code",
   "execution_count": null,
   "metadata": {
    "scrolled": true
   },
   "outputs": [],
   "source": [
    "nyu_by_id = {}\n",
    "with open(\"nyu_by_id.txt\", \"r\") as nyu_file:\n",
    "    for line in nyu_file:\n",
    "        (net_id, name) = line.split(',')\n",
    "        nyu_by_id[net_id] = name\n",
    "        # print(id, name)\n",
    "net_id = input(\"Enter NetID to look up: \")\n",
    "print(nyu_by_id[net_id])\n",
    "\n",
    "len(nyu_by_id)\n",
    "net_id = [\"e\", \"r\"]\n",
    "nyu_by_id[net_id] = \"Excelsius Regnum\""
   ]
  },
  {
   "cell_type": "markdown",
   "metadata": {},
   "source": [
    "### Sidebar: Hashing\n",
    "\n",
    "What does Python mean by \"unhashable\"? What is \"hashing\"? Hashing is how Python objects are turned into indexes to get a value from a *hash table*:\n",
    "\n",
    "Let's write a *very* simple hash function:"
   ]
  },
  {
   "cell_type": "code",
   "execution_count": null,
   "metadata": {},
   "outputs": [],
   "source": [
    "TABLE_SIZE = 100\n",
    "hash_table = [None]*TABLE_SIZE\n",
    "# print(hash_table)\n",
    "\n",
    "def hash_it(s):\n",
    "    hash_val = 0\n",
    "    for i, ch in enumerate(s):\n",
    "        hash_val += ord(ch) * 10**i\n",
    "    return hash_val % TABLE_SIZE\n",
    "\n",
    "# print(hash_it(\"nahallaC\"))\n",
    "print(hash_it(\"Mitchell\"))\n",
    "print(hash_it(\"Callahan\"))\n",
    "print(hash_it(\"nahallaC\"))\n",
    "\n",
    "hash_table[hash_it(\"Mitchell\")] = \"Student\"\n",
    "hash_table[hash_it(\"Callahan\")] = \"Professor\"\n",
    "hash_table[hash_it(\"nahallaC\")] = \"Anti-Professor\"\n",
    "\n",
    "print(hash_it(\"Mitchell\"), \":\", hash_table[hash_it(\"Mitchell\")])\n",
    "print(hash_it(\"Callahan\"), \":\", hash_table[hash_it(\"Callahan\")])\n"
   ]
  },
  {
   "cell_type": "markdown",
   "metadata": {},
   "source": [
    "### Back to dictionary methods"
   ]
  },
  {
   "cell_type": "markdown",
   "metadata": {},
   "source": [
    "`in` returns `True` if a **key** is in the dictionary, otherwise `False`:"
   ]
  },
  {
   "cell_type": "code",
   "execution_count": null,
   "metadata": {},
   "outputs": [],
   "source": [
    "contacts = {\"Bill\" : \"212-111-2233\", \n",
    "            \"Mary\" : \"212-555-6677\",\n",
    "            \"Sue\" : \"212-555-4444\" }\n",
    "\n",
    "fname = \"Bill\"\n",
    "print(fname in contacts)\n",
    "print(\"212-555-4444\" in contacts)\n",
    "print(\"Phone #:\", contacts[fname])"
   ]
  },
  {
   "cell_type": "code",
   "execution_count": null,
   "metadata": {},
   "outputs": [],
   "source": [
    "result = 'smith' in my_dict\n",
    "print(result)"
   ]
  },
  {
   "cell_type": "markdown",
   "metadata": {},
   "source": [
    "Another way to protect against `KeyError`:"
   ]
  },
  {
   "cell_type": "code",
   "execution_count": null,
   "metadata": {},
   "outputs": [],
   "source": [
    "# an alternative to `zips.get(\"11201-1214\", \"Zip not found!\")`\n",
    "\n",
    "zip = \"82673-7666\"\n",
    "if zip in zips:\n",
    "    zips[zip]\n",
    "else:\n",
    "    print(zip, \"not found!\")"
   ]
  },
  {
   "cell_type": "markdown",
   "metadata": {},
   "source": [
    "We can iterate through keys in the dictionary:"
   ]
  },
  {
   "cell_type": "code",
   "execution_count": null,
   "metadata": {},
   "outputs": [],
   "source": [
    "nyu_schools = {\n",
    "    \"Tandon\": [\"CSE\", \"ChemEng\", \"Physics\", \"CivilEng\"],\n",
    "    \"Stern\": [\"Management\", \"Finance\"],\n",
    "    \"Courant\": [\"Mathematics\", \"CS\"],\n",
    "    \"Gallatin\": [\"Independent Study\"],\n",
    "}\n",
    "for school in nyu_schools:\n",
    "    print(\"school =\", school, \"; departments =\",\n",
    "          nyu_schools[school])"
   ]
  },
  {
   "cell_type": "markdown",
   "metadata": {},
   "source": [
    "### Dictionary Methods"
   ]
  },
  {
   "cell_type": "markdown",
   "metadata": {},
   "source": [
    "`items()` iterates through all the key-value pairs as tuples:"
   ]
  },
  {
   "cell_type": "code",
   "execution_count": null,
   "metadata": {},
   "outputs": [],
   "source": [
    "for school, depts in nyu_schools.items():\n",
    "    print(\"Key: {}, Value: {}\".format(school, depts))"
   ]
  },
  {
   "cell_type": "markdown",
   "metadata": {},
   "source": [
    "We can also get the keys, and turn them into a list, if we need that for some reason:"
   ]
  },
  {
   "cell_type": "code",
   "execution_count": null,
   "metadata": {},
   "outputs": [],
   "source": [
    "schools = nyu_schools.keys()\n",
    "print(type(schools))\n",
    "schools_list = list(schools)\n",
    "print(\"Here are the schools at NYU:\", schools_list)"
   ]
  },
  {
   "cell_type": "markdown",
   "metadata": {},
   "source": [
    "We can also iterate over just the values:"
   ]
  },
  {
   "cell_type": "code",
   "execution_count": null,
   "metadata": {},
   "outputs": [],
   "source": [
    "for depts in nyu_schools.values():\n",
    "    print(\"Departments: {}\".format(depts))"
   ]
  },
  {
   "cell_type": "markdown",
   "metadata": {},
   "source": [
    "How do we see all of the methods available for a dictionary named `my_dict`?\n",
    "\n",
    "a) methods(my_dict)  \n",
    "b) len(my_dict)  \n",
    "c) dir(my_dict)  \n",
    "d) repr(my_dict)  "
   ]
  },
  {
   "cell_type": "code",
   "execution_count": null,
   "metadata": {},
   "outputs": [],
   "source": [
    "dir(contacts)"
   ]
  },
  {
   "cell_type": "markdown",
   "metadata": {},
   "source": [
    "Let's try out `fromkeys()`:"
   ]
  },
  {
   "cell_type": "code",
   "execution_count": null,
   "metadata": {},
   "outputs": [],
   "source": [
    "from random import randint\n",
    "\n",
    "apps = ['Calendar', 'Mail', 'Safari', 'Slack',\n",
    "        'Photo', 'Duo', 'App Store', 'Facetime']\n",
    "app_dict = dict.fromkeys(apps, 0)\n",
    "print(app_dict)\n",
    "for app in app_dict:\n",
    "    app_dict[app] = randint(0, 100)\n",
    "app_nm = input(\"What app do you want to know about? \")\n",
    "print(\"This week you used {} {} times\".format(app_nm, app_dict[app_nm]))"
   ]
  },
  {
   "cell_type": "markdown",
   "metadata": {},
   "source": [
    "### Python Views\n",
    "\n",
    "The dictionary methods `keys()`, `values()`, and `items()` all return a Python *view*, which, although not a *sequence* (we can't index into them by position), can be iterated over, as shown above. If one needs to index into them, one can use `list()` to convert the view to a list.\n",
    "\n",
    "These are called *views* because they do **not** make a copy of the keys, or values, or items: they are just a window through which we can view them."
   ]
  },
  {
   "cell_type": "code",
   "execution_count": null,
   "metadata": {},
   "outputs": [],
   "source": [
    "my_dict = {\"a\": 1, \"b\": 2}\n",
    "key_view = my_dict.keys()\n",
    "print(type(key_view))\n",
    "item_view = my_dict.items()\n",
    "print(type(item_view))\n",
    "item_list = list(item_view)\n",
    "print(item_list)"
   ]
  },
  {
   "cell_type": "markdown",
   "metadata": {},
   "source": [
    "### Dictionaries with Different Key Types\n",
    "\n",
    "**Keys**: different types can be used in the same dictionary, as long as they are immutable.\n",
    "\n",
    "**Values**: can be any object, even another dictionary."
   ]
  },
  {
   "cell_type": "code",
   "execution_count": null,
   "metadata": {},
   "outputs": [],
   "source": [
    "demo = {2: ['a', 'b', 'c'], (2, 4): 27, 'x': {1: 1.25, 'a': 3}}\n",
    "\n",
    "print(demo)\n",
    "\n",
    "print(demo[2])\n",
    "print(demo[(2, 4)])\n",
    "print(demo['x'])\n",
    "print(demo['x']['a'])"
   ]
  },
  {
   "cell_type": "markdown",
   "metadata": {},
   "source": [
    "### Other dictionary methods"
   ]
  },
  {
   "cell_type": "markdown",
   "metadata": {},
   "source": [
    "How can we add one dictionary to another? `+` doesn't work:"
   ]
  },
  {
   "cell_type": "code",
   "execution_count": 1,
   "metadata": {},
   "outputs": [],
   "source": [
    "dict1 = {\"a\": 1, \"b\": 2}\n",
    "dict2 = {\"c\": 3, \"d\": 4}\n",
    "dict3 = {\"c\": 4, \"d\": 4}\n",
    "dict4 = {\"c\": 5, \"d\": 4}\n",
    "# dict1 += dict2"
   ]
  },
  {
   "cell_type": "markdown",
   "metadata": {},
   "source": [
    "So what can we do? We can use the `dict` method `update`:"
   ]
  },
  {
   "cell_type": "code",
   "execution_count": 2,
   "metadata": {},
   "outputs": [
    {
     "name": "stdout",
     "output_type": "stream",
     "text": [
      "{'a': 1, 'b': 2, 'c': 3, 'd': 4}\n"
     ]
    }
   ],
   "source": [
    "dict1.update(dict2)\n",
    "print(dict1)"
   ]
  },
  {
   "cell_type": "code",
   "execution_count": null,
   "metadata": {},
   "outputs": [],
   "source": [
    "dict1.update(dict2)\n",
    "dict1.update(dict3)\n",
    "dict1.update(dict4)\n",
    "print(dict1)\n",
    "type(dict1)"
   ]
  },
  {
   "cell_type": "markdown",
   "metadata": {},
   "source": [
    "**Q:** How many keys with the value \"c\" will be in `dict1` after the above code runs?\n",
    "\n",
    "a) 1  \n",
    "b) 2  \n",
    "c) 3  \n",
    "d) 4  \n",
    "\n",
    "\n",
    "Think about this: if \"c\" were in the dictionary multiple times, what would we get back if we asked for:\n",
    "\n",
    "`dict1[\"c\"]`\n",
    "\n",
    "**Q**: Can multiple keys map to the same value?"
   ]
  },
  {
   "cell_type": "code",
   "execution_count": 6,
   "metadata": {},
   "outputs": [
    {
     "name": "stdout",
     "output_type": "stream",
     "text": [
      "Jaden: 140501273718448\n",
      "Jaden: 140501273718448\n",
      "Jaden: 140501273718448\n"
     ]
    }
   ],
   "source": [
    "name = \"Jaden\"\n",
    "test_dict = {\"a\": name, \"b\": name, \"c\": name}\n",
    "for key in test_dict:\n",
    "    print(\"{}: {}\".format(test_dict[key], id(test_dict[key])))"
   ]
  },
  {
   "cell_type": "markdown",
   "metadata": {},
   "source": [
    "**Q**: How do we use a tuple as a key?"
   ]
  },
  {
   "cell_type": "code",
   "execution_count": 5,
   "metadata": {},
   "outputs": [
    {
     "name": "stdout",
     "output_type": "stream",
     "text": [
      "Jaden\n"
     ]
    },
    {
     "ename": "KeyError",
     "evalue": "'a'",
     "output_type": "error",
     "traceback": [
      "\u001b[0;31m---------------------------------------------------------------------------\u001b[0m",
      "\u001b[0;31mKeyError\u001b[0m                                  Traceback (most recent call last)",
      "\u001b[0;32m<ipython-input-5-5772cca9a5fa>\u001b[0m in \u001b[0;36m<module>\u001b[0;34m\u001b[0m\n\u001b[1;32m      2\u001b[0m \u001b[0mmy_dict\u001b[0m \u001b[0;34m=\u001b[0m \u001b[0;34m{\u001b[0m\u001b[0mmy_abcs\u001b[0m\u001b[0;34m:\u001b[0m \u001b[0mname\u001b[0m\u001b[0;34m}\u001b[0m\u001b[0;34m\u001b[0m\u001b[0;34m\u001b[0m\u001b[0m\n\u001b[1;32m      3\u001b[0m \u001b[0mprint\u001b[0m\u001b[0;34m(\u001b[0m\u001b[0mmy_dict\u001b[0m\u001b[0;34m[\u001b[0m\u001b[0;34m(\u001b[0m\u001b[0;34m\"a\"\u001b[0m\u001b[0;34m,\u001b[0m \u001b[0;34m\"b\"\u001b[0m\u001b[0;34m,\u001b[0m \u001b[0;34m\"c\"\u001b[0m\u001b[0;34m)\u001b[0m\u001b[0;34m]\u001b[0m\u001b[0;34m)\u001b[0m\u001b[0;34m\u001b[0m\u001b[0;34m\u001b[0m\u001b[0m\n\u001b[0;32m----> 4\u001b[0;31m \u001b[0mprint\u001b[0m\u001b[0;34m(\u001b[0m\u001b[0mmy_dict\u001b[0m\u001b[0;34m[\u001b[0m\u001b[0;34m\"a\"\u001b[0m\u001b[0;34m]\u001b[0m\u001b[0;34m)\u001b[0m\u001b[0;34m\u001b[0m\u001b[0;34m\u001b[0m\u001b[0m\n\u001b[0m",
      "\u001b[0;31mKeyError\u001b[0m: 'a'"
     ]
    }
   ],
   "source": [
    "my_abcs = (\"a\", \"b\", \"c\")\n",
    "my_dict = {my_abcs: name}\n",
    "print(my_dict[(\"a\", \"b\", \"c\")])\n",
    "print(my_dict[\"a\"])"
   ]
  },
  {
   "cell_type": "markdown",
   "metadata": {},
   "source": [
    "**Q**: When would we use a tuple as a key?"
   ]
  },
  {
   "cell_type": "code",
   "execution_count": 7,
   "metadata": {},
   "outputs": [
    {
     "name": "stdout",
     "output_type": "stream",
     "text": [
      "Which hero is at (5, 0)? Perseus\n"
     ]
    }
   ],
   "source": [
    "GRID_HEIGHT = 10\n",
    "GRID_WIDTH = 10\n",
    "\n",
    "hero1 = \"Hercules\"\n",
    "hero2 = \"Perseus\"\n",
    "hero3 = \"Ariadne\"\n",
    "bomb = \"Boom!\"\n",
    "# let's make a *map* of who is at what location:\n",
    "locations = {(3, 4): hero1, (5, 0): hero2, (1, 6): hero3, (9, 9): bomb}\n",
    "print(\"Which hero is at (5, 0)?\", locations[(5, 0)])"
   ]
  },
  {
   "cell_type": "code",
   "execution_count": 9,
   "metadata": {},
   "outputs": [
    {
     "name": "stdout",
     "output_type": "stream",
     "text": [
      "At location (0, 0) is no one\n",
      "At location (0, 1) is no one\n",
      "At location (0, 2) is no one\n",
      "At location (0, 3) is no one\n",
      "At location (0, 4) is no one\n",
      "At location (0, 5) is no one\n",
      "At location (0, 6) is no one\n",
      "At location (0, 7) is no one\n",
      "At location (0, 8) is no one\n",
      "At location (0, 9) is no one\n",
      "At location (1, 0) is no one\n",
      "At location (1, 1) is no one\n",
      "At location (1, 2) is no one\n",
      "At location (1, 3) is no one\n",
      "At location (1, 4) is no one\n",
      "At location (1, 5) is no one\n",
      "At location (1, 6) is Ariadne\n",
      "At location (1, 7) is no one\n",
      "At location (1, 8) is no one\n",
      "At location (1, 9) is no one\n",
      "At location (2, 0) is no one\n",
      "At location (2, 1) is no one\n",
      "At location (2, 2) is no one\n",
      "At location (2, 3) is no one\n",
      "At location (2, 4) is no one\n",
      "At location (2, 5) is no one\n",
      "At location (2, 6) is no one\n",
      "At location (2, 7) is no one\n",
      "At location (2, 8) is no one\n",
      "At location (2, 9) is no one\n",
      "At location (3, 0) is no one\n",
      "At location (3, 1) is no one\n",
      "At location (3, 2) is no one\n",
      "At location (3, 3) is no one\n",
      "At location (3, 4) is Hercules\n",
      "At location (3, 5) is no one\n",
      "At location (3, 6) is no one\n",
      "At location (3, 7) is no one\n",
      "At location (3, 8) is no one\n",
      "At location (3, 9) is no one\n",
      "At location (4, 0) is no one\n",
      "At location (4, 1) is no one\n",
      "At location (4, 2) is no one\n",
      "At location (4, 3) is no one\n",
      "At location (4, 4) is no one\n",
      "At location (4, 5) is no one\n",
      "At location (4, 6) is no one\n",
      "At location (4, 7) is no one\n",
      "At location (4, 8) is no one\n",
      "At location (4, 9) is no one\n",
      "At location (5, 0) is Perseus\n",
      "At location (5, 1) is no one\n",
      "At location (5, 2) is no one\n",
      "At location (5, 3) is no one\n",
      "At location (5, 4) is no one\n",
      "At location (5, 5) is no one\n",
      "At location (5, 6) is no one\n",
      "At location (5, 7) is no one\n",
      "At location (5, 8) is no one\n",
      "At location (5, 9) is no one\n",
      "At location (6, 0) is no one\n",
      "At location (6, 1) is no one\n",
      "At location (6, 2) is no one\n",
      "At location (6, 3) is no one\n",
      "At location (6, 4) is no one\n",
      "At location (6, 5) is no one\n",
      "At location (6, 6) is no one\n",
      "At location (6, 7) is no one\n",
      "At location (6, 8) is no one\n",
      "At location (6, 9) is no one\n",
      "At location (7, 0) is no one\n",
      "At location (7, 1) is no one\n",
      "At location (7, 2) is no one\n",
      "At location (7, 3) is no one\n",
      "At location (7, 4) is no one\n",
      "At location (7, 5) is no one\n",
      "At location (7, 6) is no one\n",
      "At location (7, 7) is no one\n",
      "At location (7, 8) is no one\n",
      "At location (7, 9) is no one\n",
      "At location (8, 0) is no one\n",
      "At location (8, 1) is no one\n",
      "At location (8, 2) is no one\n",
      "At location (8, 3) is no one\n",
      "At location (8, 4) is no one\n",
      "At location (8, 5) is no one\n",
      "At location (8, 6) is no one\n",
      "At location (8, 7) is no one\n",
      "At location (8, 8) is no one\n",
      "At location (8, 9) is no one\n",
      "At location (9, 0) is no one\n",
      "At location (9, 1) is no one\n",
      "At location (9, 2) is no one\n",
      "At location (9, 3) is no one\n",
      "At location (9, 4) is no one\n",
      "At location (9, 5) is no one\n",
      "At location (9, 6) is no one\n",
      "At location (9, 7) is no one\n",
      "At location (9, 8) is no one\n",
      "You hit the bomb!\n"
     ]
    }
   ],
   "source": [
    "for x in range(0, GRID_WIDTH):\n",
    "    for y in range(0, GRID_HEIGHT):\n",
    "        coord = (x, y)\n",
    "        name = locations.get(coord, \"no one\")\n",
    "        if name == \"Boom!\":\n",
    "            print(\"You hit the bomb!\")\n",
    "        else:\n",
    "            print(\"At location {} is {}\".format(coord, name))"
   ]
  },
  {
   "cell_type": "markdown",
   "metadata": {},
   "source": [
    "**Q:** What happens using `is` with numbers?"
   ]
  },
  {
   "cell_type": "code",
   "execution_count": null,
   "metadata": {},
   "outputs": [],
   "source": [
    "x = 7\n",
    "y = 7\n",
    "print(\"x is y?\", x is y)\n",
    "a = 1000\n",
    "b = 1000\n",
    "print(\"a is b?\", a is b)\n",
    "print(\"a == b?\", a == b)"
   ]
  },
  {
   "cell_type": "markdown",
   "metadata": {},
   "source": [
    "### A Concordance Program"
   ]
  },
  {
   "cell_type": "markdown",
   "metadata": {},
   "source": [
    "A *concordance* is a list of words from a text along with how many times the words appear in that text.\n",
    "\n",
    "Note: what is `string.punctuation`?"
   ]
  },
  {
   "cell_type": "code",
   "execution_count": null,
   "metadata": {},
   "outputs": [],
   "source": [
    "import string\n",
    "string.punctuation"
   ]
  },
  {
   "cell_type": "code",
   "execution_count": null,
   "metadata": {},
   "outputs": [],
   "source": [
    "import os\n",
    "import string\n",
    "\n",
    "def get_filename():\n",
    "    filename = input(\"Input the filename: \")\n",
    "    while not os.path.exists(filename):\n",
    "        print(\"That file does not exist.\")\n",
    "        filename = input (\"Input the filename: \")\n",
    "    return filename\n",
    "\n",
    "\n",
    "def chunk_to_word(chunk):\n",
    "    \"\"\"Clean up chunks to turn them into words.\"\"\"\n",
    "    chunk = chunk.lower()\n",
    "    chunk = chunk.strip()\n",
    "    word = chunk.strip(string.punctuation)\n",
    "    return word\n",
    "\n",
    "\n",
    "def add_to_word_count(word, concordance):\n",
    "    \"\"\"If word is in concordance, up its count.\n",
    "    Otherwise, add the word and set its count to 1.\"\"\"\n",
    "    if word in concordance:  # we already saw this word\n",
    "        concordance[word] += 1\n",
    "        return 0\n",
    "    else:  # word we haven't seen before\n",
    "        concordance[word] = 1\n",
    "        return 1  # return 1 cause new word\n",
    "\n",
    "        \n",
    "def build_concordance(name):\n",
    "    concordance = {}\n",
    "    uniq_words = 0\n",
    "    total_words = 0\n",
    "    \n",
    "    file = open(name, 'r')\n",
    "    for line in file:\n",
    "        text_chunks = line.split()  # split line on spaces\n",
    "        # we will get chunks like 'final!' or 'come,'\n",
    "        # or 'Final' `chunk_to_word()` will fix these.\n",
    "        for chunk in text_chunks:\n",
    "            word = chunk_to_word(chunk)\n",
    "            uniq_words += add_to_word_count(word, concordance)\n",
    "            total_words += 1\n",
    "\n",
    "    print(\"{} unique words out of {} words total.\".format(uniq_words,\n",
    "                                                          total_words))\n",
    "    return concordance\n",
    "        \n",
    "\n",
    "def get_max_word(word_list):\n",
    "    max = 0\n",
    "    for word in word_list:\n",
    "        if len(word) > max:\n",
    "            max = len(word)\n",
    "    return max\n",
    "\n",
    "\n",
    "def sort_words(words):\n",
    "    \"\"\"\n",
    "    We're going to use `keys()` to get a list and then sort it.\n",
    "    Return the sorted list.\n",
    "    \"\"\"\n",
    "    word_list = list(words.keys())\n",
    "    word_list.sort()\n",
    "    return word_list\n",
    "\n",
    "\n",
    "def print_pairs(concordance, key_list, length):\n",
    "    format_str = \"{:\" + str(length) + \"s}: {}\"\n",
    "    for key in key_list:\n",
    "        print(format_str.format(key, \"*\"*concordance[key]))\n",
    "\n",
    "    \n",
    "def main():\n",
    "    filename = get_filename()\n",
    "    concordance = build_concordance(filename)\n",
    "    words = sort_words(concordance)\n",
    "    print_pairs(concordance, words, get_max_word(words) + 1)\n",
    "\n",
    "main()"
   ]
  },
  {
   "cell_type": "markdown",
   "metadata": {},
   "source": [
    "### An OS database"
   ]
  },
  {
   "cell_type": "markdown",
   "metadata": {},
   "source": [
    "Let's say we want to find out if there is a difference in OS usage between men and women. This program explores that question:"
   ]
  },
  {
   "cell_type": "code",
   "execution_count": null,
   "metadata": {},
   "outputs": [],
   "source": [
    "BROWSER_COL = 11\n",
    "\n",
    "\n",
    "def open_file():\n",
    "    file_ok = False\n",
    "    while not file_ok:\n",
    "        filename = input(\"Input the filename: \")\n",
    "        try:\n",
    "            file_handle = open(filename, \"r\")\n",
    "        except FileNotFoundError:\n",
    "            print(\"That file does not exist.\")\n",
    "        else:\n",
    "            file_ok = True\n",
    "    return file_handle\n",
    "\n",
    "\n",
    "def build_dictionary(file):\n",
    "    gender_data = { }\n",
    "    first_line = True\n",
    "    for lines in file:\n",
    "        if not first_line:\n",
    "            lines = lines.strip()\n",
    "            columns = lines.split(\",\")\n",
    "            data_list = list(columns[1:])\n",
    "            gender_data[columns[0]] = data_list\n",
    "        else:\n",
    "            first_line = False\n",
    "            \n",
    "    return gender_data\n",
    "\n",
    "\n",
    "def get_os(browser):\n",
    "    if browser.find(\"Windows\") != -1:\n",
    "        os = \"Windows\"\n",
    "    elif browser.find(\"Macintosh\") != -1:\n",
    "        os = \"Macintosh\"\n",
    "    elif browser.find(\"Linux\") != -1:\n",
    "        os = \"Linux\"\n",
    "    else:\n",
    "        os = \"Other\"\n",
    "    return os\n",
    "\n",
    "\n",
    "def os_list_by_gender(dictionary):\n",
    "    data_dict = {'female': {}, 'male': {}}\n",
    "    for value in dictionary.values():\n",
    "        gender = value[0].strip()\n",
    "        this_os = get_os(value[BROWSER_COL].strip())\n",
    "        \n",
    "        if this_os in data_dict[gender]:\n",
    "            data_dict[gender][this_os] += 1\n",
    "        else:\n",
    "            data_dict[gender][this_os] = 1\n",
    "    return data_dict\n",
    "\n",
    "\n",
    "def print_report(data):\n",
    "    for gender in data:\n",
    "        print(gender)\n",
    "        for op_sys in data[gender]:\n",
    "            print(\"{:>12s}: {}\".format(op_sys, data[gender][op_sys]))\n",
    "\n",
    "\n",
    "def main():\n",
    "    file = open_file()\n",
    "    dictionary = build_dictionary(file)    \n",
    "    os_list = os_list_by_gender(dictionary)\n",
    "    print_report(os_list)\n",
    "    \n",
    "\n",
    "main()"
   ]
  },
  {
   "cell_type": "code",
   "execution_count": null,
   "metadata": {},
   "outputs": [],
   "source": [
    "!cat names.csv"
   ]
  },
  {
   "cell_type": "code",
   "execution_count": null,
   "metadata": {},
   "outputs": [],
   "source": []
  }
 ],
 "metadata": {
  "kernelspec": {
   "display_name": "Python 3",
   "language": "python",
   "name": "python3"
  },
  "language_info": {
   "codemirror_mode": {
    "name": "ipython",
    "version": 3
   },
   "file_extension": ".py",
   "mimetype": "text/x-python",
   "name": "python",
   "nbconvert_exporter": "python",
   "pygments_lexer": "ipython3",
   "version": "3.9.0"
  }
 },
 "nbformat": 4,
 "nbformat_minor": 2
}
