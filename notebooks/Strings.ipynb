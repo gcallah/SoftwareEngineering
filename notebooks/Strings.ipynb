{
 "cells": [
  {
   "cell_type": "markdown",
   "metadata": {},
   "source": [
    "## Strings\n",
    "\n",
    "<img src=\"https://upload.wikimedia.org/wikipedia/commons/thumb/b/b4/0321_DNA_Macrostructure.jpg/300px-0321_DNA_Macrostructure.jpg\" width=\"33%\">\n",
    "\n",
    "A [*string*](https://en.wikipedia.org/wiki/String_%28computer_science%29) is a sequence of characters. We might commonly call it *text*.\n",
    "\n",
    "A *string literal* is a sequence of characters, between single or double quotes, written directly in the source code.\n",
    "\n",
    "Let's look at some things we can do with strings in Python."
   ]
  },
  {
   "cell_type": "markdown",
   "metadata": {},
   "source": [
    "### Valid strings"
   ]
  },
  {
   "cell_type": "code",
   "execution_count": null,
   "metadata": {},
   "outputs": [],
   "source": [
    "# Valid strings\n",
    "\n",
    "print('Single quoted: NYU')\n",
    "print()\n",
    "\n",
    "print(\"Double quoted: NYU\")\n",
    "print()\n",
    "\n",
    "print('''Triple quoted: NYU has established the Center for\n",
    "Social Media and Politics, which will examine the production,\n",
    "flow, and impact of social media content in the political sphere,\n",
    "as well as support research that uses social media data to study politics.\n",
    "\n",
    "Photo credit: adamkaz/Getty Images\n",
    "Will Focus on Production, Flow, and Impact of Content—and Methods\n",
    "to Use Social Media Data to Study Politics''')"
   ]
  },
  {
   "cell_type": "markdown",
   "metadata": {},
   "source": [
    "Why choose ' or \"?\n",
    "\n",
    "Think about whether your string has quotes inside it:"
   ]
  },
  {
   "cell_type": "code",
   "execution_count": null,
   "metadata": {},
   "outputs": [],
   "source": [
    "s = \"Don't use `s` as var name in your labs!'\"\n",
    "\n",
    "s = 'She said \"Stop in love\\'s name!\"'"
   ]
  },
  {
   "cell_type": "markdown",
   "metadata": {},
   "source": [
    "### Strings as a Sequence"
   ]
  },
  {
   "cell_type": "markdown",
   "metadata": {},
   "source": [
    "We can \"get at\" a particular character in a string using the square-bracket `[]` operator. This is called *indexing* the string. The number in the brackets is called the *index*. Recall, programmers like to start counting at 0!"
   ]
  },
  {
   "cell_type": "code",
   "execution_count": null,
   "metadata": {},
   "outputs": [],
   "source": [
    "#H e l l o   N e w   Y o r k !\n",
    "#-----------------------------\n",
    "#0 1 2 3 4 5 6 7 8 9 1 1 1 1 1\n",
    "#                    0 1 2 3 4\n",
    "#-----------------------------\n",
    "#        (negatives... below)\n",
    "#1 1 1 1 1 1 9 8 7 6 5 4 3 2 -1\n",
    "#5 4 3 2 1 0\n",
    "\n",
    "my_string = \"Hello New York!\"\n",
    "\n",
    "print('my_string =', my_string)\n",
    "print('my_string[0] =', my_string[0])\n",
    "print('my_string[14] =', my_string[14])\n",
    "print('my_string[-1] =', my_string[-1])\n",
    "print('my_string[-2] =', my_string[-2])\n",
    "print('my_string[-15] =', my_string[-15])"
   ]
  },
  {
   "cell_type": "code",
   "execution_count": null,
   "metadata": {},
   "outputs": [],
   "source": [
    "-0"
   ]
  },
  {
   "cell_type": "markdown",
   "metadata": {},
   "source": [
    "What happens if we use an invalid index?"
   ]
  },
  {
   "cell_type": "code",
   "execution_count": null,
   "metadata": {},
   "outputs": [],
   "source": [
    "print('my_string[15] = ', my_string[15])"
   ]
  },
  {
   "cell_type": "markdown",
   "metadata": {},
   "source": [
    "What will be the result of running the following code?\n",
    "\n",
    "a) It will print 'H'  \n",
    "b) It will print 'e'  \n",
    "c) It will print 'Hello New York!'  \n",
    "d) We will get an 'IndexError' message"
   ]
  },
  {
   "cell_type": "code",
   "execution_count": null,
   "metadata": {},
   "outputs": [],
   "source": [
    "print(my_string[-16])"
   ]
  },
  {
   "cell_type": "markdown",
   "metadata": {},
   "source": [
    "### Special Characters\n",
    "\n",
    "\"Special\" characters don't have a direct typed representation. They are specified using the backslash character followed by their special designation. We say the backslash *escapes* the character we type after it."
   ]
  },
  {
   "cell_type": "code",
   "execution_count": null,
   "metadata": {},
   "outputs": [],
   "source": [
    "print(\"print a \\t (tab)\")"
   ]
  },
  {
   "cell_type": "code",
   "execution_count": null,
   "metadata": {},
   "outputs": [],
   "source": [
    "# Non-printing characters\n",
    "\n",
    "# Some characters perform necessary operations but show up as whitespace in\n",
    "# the output\n",
    "\n",
    "# Newline - \\n\n",
    "# Tab -     \\t\n",
    "\n",
    "print(\"This is the first line.\\nThis is the second line.\\n\\tA tabbed line.\")"
   ]
  },
  {
   "cell_type": "code",
   "execution_count": null,
   "metadata": {},
   "outputs": [],
   "source": [
    "print(\"aaaa\\fform feed\")"
   ]
  },
  {
   "cell_type": "code",
   "execution_count": null,
   "metadata": {},
   "outputs": [],
   "source": [
    "print(\"abcdefghijklmnopqrstuvwxyz\\rcarriage return\")"
   ]
  },
  {
   "cell_type": "code",
   "execution_count": null,
   "metadata": {},
   "outputs": [],
   "source": [
    "print(\"abcdef\\v\\vghijkl\\t\\123\\xF2\\a\")"
   ]
  },
  {
   "cell_type": "code",
   "execution_count": null,
   "metadata": {},
   "outputs": [],
   "source": [
    "print('''W\\nh\\na\n",
    "t\n",
    "h\n",
    "a\n",
    "p\n",
    "p\n",
    "ens if we \n",
    "    try multiline print\n",
    "with triple quotes?''')"
   ]
  },
  {
   "cell_type": "markdown",
   "metadata": {},
   "source": [
    "#### Some special characters:\n",
    "\n",
    "- \\n Newline\n",
    "- \\t Tab\n",
    "- \\\\\\ Backslash (\\\\)\n",
    "- \\' Single quote (')\n",
    "- \\\" Double quote (\")\n",
    "- \\a ASCII Bell (BEL)\n",
    "- \\b ASCII Backspace (BS)\n",
    "- \\f ASCII Formfeed (FF)\n",
    "- \\n ASCII Linefeed (LF)\n",
    "- \\r ASCII Carriage Return (CR)\n",
    "- \\t ASCII Horizontal Tab (TAB)\n",
    "- \\v ASCII Vertical Tab (VT)\n",
    "- \\ooo   ASCII character with octal value ooo\n",
    "- \\xhh    ASCII character with hex value hh"
   ]
  },
  {
   "cell_type": "markdown",
   "metadata": {},
   "source": [
    "([**ASCII**](https://en.wikipedia.org/wiki/ASCII) stands for *American Standard Code for Information Interchange*: it is our standard way of encoding characters.)\n",
    "\n",
    "<img src=\"https://upload.wikimedia.org/wikipedia/commons/thumb/c/cf/USASCII_code_chart.png/500px-USASCII_code_chart.png\" width=\"30%\">"
   ]
  },
  {
   "cell_type": "code",
   "execution_count": null,
   "metadata": {},
   "outputs": [],
   "source": [
    "print(\"Helloo\\b\")"
   ]
  },
  {
   "cell_type": "code",
   "execution_count": null,
   "metadata": {},
   "outputs": [],
   "source": [
    "print(\"\\vHello: \\xfe\")"
   ]
  },
  {
   "cell_type": "code",
   "execution_count": null,
   "metadata": {},
   "outputs": [],
   "source": [
    "s = \"This is the backslash: \\\\\"\n",
    "print(s)"
   ]
  },
  {
   "cell_type": "markdown",
   "metadata": {},
   "source": [
    "### String Are Immutable\n",
    "\n",
    "That means they can't be changed! (But we can create a new string from an old one, as we will see.)\n",
    "\n",
    "Let's try to change a string:"
   ]
  },
  {
   "cell_type": "code",
   "execution_count": null,
   "metadata": {},
   "outputs": [],
   "source": [
    "kids_name = \"Fazzlebop\"\n",
    "kids_name[0] = \"D\""
   ]
  },
  {
   "cell_type": "markdown",
   "metadata": {},
   "source": [
    "### Traversing a string\n",
    "\n",
    "\"To traverse\" is to pass through.\n",
    "\n",
    "We can use a `for` loop to traverse a string:"
   ]
  },
  {
   "cell_type": "code",
   "execution_count": 1,
   "metadata": {},
   "outputs": [
    {
     "name": "stdout",
     "output_type": "stream",
     "text": [
      "G,o,o,d,b,y,e, ,m,a,m,a, ,a,n,d, ,p,a,p,a,"
     ]
    }
   ],
   "source": [
    "ramble_rose_lyric = \"Goodbye mama and papa\"\n",
    "for char in ramble_rose_lyric:\n",
    "    print(char, end=\",\")  # is just like writing `print(c, end='\\n')`"
   ]
  },
  {
   "cell_type": "markdown",
   "metadata": {},
   "source": [
    "What do we need to use in end=X to get this to the default?\n",
    "\n",
    "a) can't do it  \n",
    "b) end=\"\\t\"  \n",
    "c) , s  \n",
    "d) end=\"\\n\"  "
   ]
  },
  {
   "cell_type": "markdown",
   "metadata": {},
   "source": [
    "What do we put instead of the comma to get tab-separated characters?\n",
    "\n",
    "a) tab  \n",
    "b) \\tab  \n",
    "c) \\n  \n",
    "d) \\t  "
   ]
  },
  {
   "cell_type": "markdown",
   "metadata": {},
   "source": [
    "### Transposing a string\n",
    "\n",
    "\"To transpose\" means to reverse the elements of some sequence.\n",
    "\n",
    "How can we transpose a string?\n",
    "\n",
    "We're going to use the Python built-in function `len()`, which returns the length of a sequence."
   ]
  },
  {
   "cell_type": "code",
   "execution_count": 4,
   "metadata": {},
   "outputs": [
    {
     "name": "stdout",
     "output_type": "stream",
     "text": [
      "Length of s is 36\n",
      "Position of first char ('T') counting backwards is: -36\n",
      "T\n"
     ]
    }
   ],
   "source": [
    "lyric = \"The transitive nightfall of diamonds\"\n",
    "print(\"Length of s is\", len(lyric))\n",
    "print(\"Position of first char ('T') counting backwards is:\",\n",
    "      -len(lyric))\n",
    "print(lyric[-len(lyric)])"
   ]
  },
  {
   "cell_type": "code",
   "execution_count": 7,
   "metadata": {},
   "outputs": [
    {
     "name": "stdout",
     "output_type": "stream",
     "text": [
      "sdnomaid fo llafthgin evitisnart ehT"
     ]
    }
   ],
   "source": [
    "for i in range(-1, -len(lyric) - 1, -1):\n",
    "    print(lyric[i], end=\"\")"
   ]
  },
  {
   "cell_type": "markdown",
   "metadata": {},
   "source": [
    "We can turn this into a function:"
   ]
  },
  {
   "cell_type": "code",
   "execution_count": 8,
   "metadata": {},
   "outputs": [
    {
     "name": "stdout",
     "output_type": "stream",
     "text": [
      "amanaP lanac a nalp a nam A"
     ]
    }
   ],
   "source": [
    "def reverse_str(s):\n",
    "    for i in range(-1, -len(s) - 1, -1):\n",
    "        print(s[i], end=\"\")\n",
    "\n",
    "def main():\n",
    "    s = \"A man a plan a canal Panama\"\n",
    "    reverse_str(s)\n",
    "    \n",
    "main()"
   ]
  },
  {
   "cell_type": "markdown",
   "metadata": {},
   "source": [
    "Let's see how to do loop over a string with a `while` loop instead. We need to initialize a loop variable, then increment it in the loop body. So our outline is:"
   ]
  },
  {
   "cell_type": "code",
   "execution_count": 12,
   "metadata": {},
   "outputs": [
    {
     "name": "stdout",
     "output_type": "stream",
     "text": [
      "S | o | m | e |   | s | t | r | i | n | g | \n",
      "\n",
      " ****************************** \n",
      "\n",
      "0:S | 1:o | 2:m | 3:e | 4:  | 5:s | 6:t | 7:r | 8:i | 9:n | 10:g | "
     ]
    }
   ],
   "source": [
    "s = \"Some string\"\n",
    "\n",
    "for c in s:\n",
    "    print(c, sep=\":\", end=\" | \")\n",
    "\n",
    "print(\"\\n\\n\", \"*\"*30, \"\\n\")\n",
    "\n",
    "i = 0\n",
    "while i < len(s):\n",
    "    print(i, s[i], sep=\":\", end=\" | \")\n",
    "    i += 1"
   ]
  },
  {
   "cell_type": "markdown",
   "metadata": {},
   "source": [
    "We clearly need to replace `cond_test` with something better! If we want our code to handle strings of *any* length, we should replace it with:\n",
    "\n",
    "a) 7  \n",
    "b) len(s)  \n",
    "c) len(s) - 1  \n",
    "d) -len(s)"
   ]
  },
  {
   "cell_type": "markdown",
   "metadata": {},
   "source": [
    "### String Comparisons\n",
    "\n",
    "The relational operators we studied in our [Boolean Expressions notebook](https://github.com/gcallah/IntroPython/blob/master/notebooks/BooleanExpr.ipynb) can be used on strings:"
   ]
  },
  {
   "cell_type": "code",
   "execution_count": 14,
   "metadata": {},
   "outputs": [
    {
     "data": {
      "text/plain": [
       "True"
      ]
     },
     "execution_count": 14,
     "metadata": {},
     "output_type": "execute_result"
    }
   ],
   "source": [
    "s1 = \"A\"\n",
    "s2 = \"B\"\n",
    "s1 < s2"
   ]
  },
  {
   "cell_type": "code",
   "execution_count": 15,
   "metadata": {},
   "outputs": [
    {
     "data": {
      "text/plain": [
       "True"
      ]
     },
     "execution_count": 15,
     "metadata": {},
     "output_type": "execute_result"
    }
   ],
   "source": [
    "'A' < 'a'"
   ]
  },
  {
   "cell_type": "code",
   "execution_count": 16,
   "metadata": {},
   "outputs": [
    {
     "data": {
      "text/plain": [
       "True"
      ]
     },
     "execution_count": 16,
     "metadata": {},
     "output_type": "execute_result"
    }
   ],
   "source": [
    "'9' < 'A'"
   ]
  },
  {
   "cell_type": "code",
   "execution_count": 17,
   "metadata": {},
   "outputs": [
    {
     "data": {
      "text/plain": [
       "True"
      ]
     },
     "execution_count": 17,
     "metadata": {},
     "output_type": "execute_result"
    }
   ],
   "source": [
    "\"!\" < \"&\""
   ]
  },
  {
   "cell_type": "markdown",
   "metadata": {},
   "source": [
    "Strings are compared one characters at a time, and the first place they differ... that's your answer!\n",
    "\n",
    "When the strings compared are equal up to the length of the shorted string, the longer one will be \"greater\":"
   ]
  },
  {
   "cell_type": "code",
   "execution_count": 18,
   "metadata": {},
   "outputs": [
    {
     "data": {
      "text/plain": [
       "True"
      ]
     },
     "execution_count": 18,
     "metadata": {},
     "output_type": "execute_result"
    }
   ],
   "source": [
    "s1 = \"Hello\"\n",
    "s2 = \"Hello!\"\n",
    "s2 > s1"
   ]
  },
  {
   "cell_type": "code",
   "execution_count": 19,
   "metadata": {},
   "outputs": [
    {
     "data": {
      "text/plain": [
       "False"
      ]
     },
     "execution_count": 19,
     "metadata": {},
     "output_type": "execute_result"
    }
   ],
   "source": [
    "s1 == s2"
   ]
  },
  {
   "cell_type": "code",
   "execution_count": 20,
   "metadata": {},
   "outputs": [
    {
     "data": {
      "text/plain": [
       "False"
      ]
     },
     "execution_count": 20,
     "metadata": {},
     "output_type": "execute_result"
    }
   ],
   "source": [
    "s1 > s2"
   ]
  },
  {
   "cell_type": "markdown",
   "metadata": {},
   "source": [
    "Furthermore, upper case letters are not equal to lower case letters, and \"come before\" them, so:"
   ]
  },
  {
   "cell_type": "code",
   "execution_count": 21,
   "metadata": {},
   "outputs": [
    {
     "data": {
      "text/plain": [
       "False"
      ]
     },
     "execution_count": 21,
     "metadata": {},
     "output_type": "execute_result"
    }
   ],
   "source": [
    "'A' == 'a'"
   ]
  },
  {
   "cell_type": "code",
   "execution_count": 22,
   "metadata": {},
   "outputs": [
    {
     "data": {
      "text/plain": [
       "True"
      ]
     },
     "execution_count": 22,
     "metadata": {},
     "output_type": "execute_result"
    }
   ],
   "source": [
    "'A' < 'a'"
   ]
  },
  {
   "cell_type": "markdown",
   "metadata": {},
   "source": [
    "Note how string comparisons can produce a different result than int comparisons:"
   ]
  },
  {
   "cell_type": "code",
   "execution_count": 23,
   "metadata": {},
   "outputs": [
    {
     "name": "stdout",
     "output_type": "stream",
     "text": [
      "True\n",
      "True\n"
     ]
    }
   ],
   "source": [
    "print(\"1\" < \"9\")\n",
    "print(1 < 9)"
   ]
  },
  {
   "cell_type": "code",
   "execution_count": 25,
   "metadata": {},
   "outputs": [
    {
     "data": {
      "text/plain": [
       "False"
      ]
     },
     "execution_count": 25,
     "metadata": {},
     "output_type": "execute_result"
    }
   ],
   "source": [
    "\"1000000\" < \"9\""
   ]
  },
  {
   "cell_type": "markdown",
   "metadata": {},
   "source": [
    "Empty string length is 0, so it is always smaller:"
   ]
  },
  {
   "cell_type": "code",
   "execution_count": 26,
   "metadata": {},
   "outputs": [
    {
     "name": "stdout",
     "output_type": "stream",
     "text": [
      "True\n"
     ]
    }
   ],
   "source": [
    "print ('' < 'a')"
   ]
  },
  {
   "cell_type": "markdown",
   "metadata": {},
   "source": [
    "Is the following `True` or `False`?"
   ]
  },
  {
   "cell_type": "code",
   "execution_count": null,
   "metadata": {},
   "outputs": [],
   "source": [
    "\"Hello!\" > \"hello\""
   ]
  },
  {
   "cell_type": "markdown",
   "metadata": {},
   "source": [
    "a) True\n",
    "b) False"
   ]
  },
  {
   "cell_type": "code",
   "execution_count": 27,
   "metadata": {},
   "outputs": [
    {
     "data": {
      "text/plain": [
       "False"
      ]
     },
     "execution_count": 27,
     "metadata": {},
     "output_type": "execute_result"
    }
   ],
   "source": [
    "\"Andy123\" == \"Andy 123\""
   ]
  },
  {
   "cell_type": "markdown",
   "metadata": {},
   "source": [
    "### The `in` Operator\n",
    "\n",
    "The `in` operator determines if some subsequence is in a sequence."
   ]
  },
  {
   "cell_type": "code",
   "execution_count": 28,
   "metadata": {},
   "outputs": [
    {
     "data": {
      "text/plain": [
       "True"
      ]
     },
     "execution_count": 28,
     "metadata": {},
     "output_type": "execute_result"
    }
   ],
   "source": [
    "\"abc\" in \"abcd\""
   ]
  },
  {
   "cell_type": "code",
   "execution_count": 29,
   "metadata": {},
   "outputs": [
    {
     "data": {
      "text/plain": [
       "False"
      ]
     },
     "execution_count": 29,
     "metadata": {},
     "output_type": "execute_result"
    }
   ],
   "source": [
    "\"abd\" in \"abcd\""
   ]
  },
  {
   "cell_type": "markdown",
   "metadata": {},
   "source": [
    "What sort of value does `in` return?\n",
    "\n",
    "a) int  \n",
    "b) None  \n",
    "c) boolean  \n",
    "d) float"
   ]
  },
  {
   "cell_type": "markdown",
   "metadata": {},
   "source": [
    "So, we can use this in an `if` statement:"
   ]
  },
  {
   "cell_type": "code",
   "execution_count": 30,
   "metadata": {},
   "outputs": [
    {
     "name": "stdout",
     "output_type": "stream",
     "text": [
      "Found it in s2\n"
     ]
    }
   ],
   "source": [
    "s1 = \"to be\"\n",
    "s2 = \"or not to be\"\n",
    "\n",
    "str_to_find = \"to not\"\n",
    "\n",
    "if str_to_find in s1:\n",
    "    print(\"Found it in s1\")\n",
    "elif str_to_find in s2:\n",
    "    print(\"Found it in s2\")\n",
    "else:\n",
    "    print(\"String not found\")"
   ]
  },
  {
   "cell_type": "code",
   "execution_count": null,
   "metadata": {},
   "outputs": [],
   "source": []
  }
 ],
 "metadata": {
  "kernelspec": {
   "display_name": "Python 3",
   "language": "python",
   "name": "python3"
  },
  "language_info": {
   "codemirror_mode": {
    "name": "ipython",
    "version": 3
   },
   "file_extension": ".py",
   "mimetype": "text/x-python",
   "name": "python",
   "nbconvert_exporter": "python",
   "pygments_lexer": "ipython3",
   "version": "3.6.2"
  }
 },
 "nbformat": 4,
 "nbformat_minor": 2
}
