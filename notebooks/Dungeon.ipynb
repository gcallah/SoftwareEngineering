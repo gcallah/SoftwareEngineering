{
 "cells": [
  {
   "cell_type": "markdown",
   "metadata": {},
   "source": [
    "# An Adventure Game: Dungeon Dice Monsters"
   ]
  },
  {
   "cell_type": "markdown",
   "metadata": {},
   "source": [
    "We're going to write the basics of a text-based adventure game.\n",
    "\n",
    "First we're going to \"steal\" our Die class from the OOP notebook. **Note**: this could be put in a different file and imported."
   ]
  },
  {
   "cell_type": "code",
   "execution_count": 2,
   "metadata": {},
   "outputs": [
    {
     "data": {
      "text/plain": [
       "4"
      ]
     },
     "execution_count": 2,
     "metadata": {},
     "output_type": "execute_result"
    }
   ],
   "source": [
    "import die\n",
    "\n",
    "test_die = die.Die()\n",
    "test_die()"
   ]
  },
  {
   "cell_type": "markdown",
   "metadata": {},
   "source": [
    "We will define a class `Creature` that will be the parent of `Player`s and `Monster`s."
   ]
  },
  {
   "cell_type": "code",
   "execution_count": 3,
   "metadata": {},
   "outputs": [],
   "source": [
    "DEF_HEALTH = 12\n",
    "DEF_STRENGTH = die.DEF_FACES\n",
    "\n",
    "\n",
    "class Creature(object):\n",
    "    '''This class will be the parent of Player and Monster.\n",
    "       Creatures will have a name, a location (?),\n",
    "       health rating, and strength rating.\n",
    "    '''\n",
    "    def __init__(self, name, health=DEF_HEALTH, strength=DEF_STRENGTH):\n",
    "        '''Initialize a Creature.'''\n",
    "        self.name = name\n",
    "        self.health = health\n",
    "        self.strength = strength\n",
    "        self.alive = True\n",
    "        \n",
    "    def __str__(self):\n",
    "        return self.name\n",
    "    \n",
    "    def __repr__(self):\n",
    "        return \"I am {} with health of {} and strength of {}\".format(self.name,\n",
    "                                                                     self.health,\n",
    "                                                                     self.strength)\n",
    "    \n",
    "    def is_hit(self, damage):\n",
    "        '''Suffer a blow from a foe.'''\n",
    "        self.health -= damage\n",
    "        if self.health <= 0:\n",
    "            self.alive = False"
   ]
  },
  {
   "cell_type": "code",
   "execution_count": 4,
   "metadata": {},
   "outputs": [
    {
     "name": "stdout",
     "output_type": "stream",
     "text": [
      "John Li\n",
      "I am John Li with health of 4 and strength of 6\n"
     ]
    }
   ],
   "source": [
    "cr1 = Creature(\"John Li\")\n",
    "print(cr1)\n",
    "cr1.is_hit(4)\n",
    "cr1.is_hit(4)\n",
    "print(repr(cr1))"
   ]
  },
  {
   "cell_type": "markdown",
   "metadata": {},
   "source": [
    "Let's set up the descendant classes of `Creature`:"
   ]
  },
  {
   "cell_type": "code",
   "execution_count": 7,
   "metadata": {},
   "outputs": [],
   "source": [
    "class Monster(Creature):\n",
    "    '''A dangerous, dice-rolling monster!'''\n",
    "    def __init__(self, name, health=DEF_HEALTH, strength=DEF_STRENGTH):\n",
    "        super().__init__(name, health=health, strength=strength)\n",
    "        self.die = die.Die(strength)\n",
    "        \n",
    "    def attack(self):\n",
    "        '''Attack a foe with a certain force.'''\n",
    "        return self.die()"
   ]
  },
  {
   "cell_type": "code",
   "execution_count": 32,
   "metadata": {},
   "outputs": [
    {
     "name": "stdout",
     "output_type": "stream",
     "text": [
      "Blob attack: 3\n",
      "The Blob\n",
      "I am The Blob with health of 10 and strength of 6\n"
     ]
    }
   ],
   "source": [
    "blob = Monster(\"The Blob\")\n",
    "print(\"Blob attack:\", blob.attack())\n",
    "blob.is_hit(2)\n",
    "print(blob)\n",
    "print(repr(blob))\n",
    "dark_magic = Monster(\"Dark Magician\")"
   ]
  },
  {
   "cell_type": "code",
   "execution_count": 12,
   "metadata": {},
   "outputs": [],
   "source": [
    "class Player(Creature):\n",
    "    '''A heroic adventurer facing dice monsters in a dungeon.'''\n",
    "    def __init__(self, name):\n",
    "        super().__init__(name)\n",
    "        \n",
    "    def attack(self):\n",
    "        '''Attack a foe with a certain force.'''\n",
    "        return self.strength // 2"
   ]
  },
  {
   "cell_type": "code",
   "execution_count": 23,
   "metadata": {},
   "outputs": [
    {
     "name": "stdout",
     "output_type": "stream",
     "text": [
      "I am Michael Lippe with health of 12 and strength of 6\n",
      "Michael attack: 3\n"
     ]
    }
   ],
   "source": [
    "michael = Player(\"Michael Lippe\")\n",
    "print(repr(michael))\n",
    "print(\"Michael attack:\", michael.attack())\n",
    "pablo = Player(\"Pablo Parra\")"
   ]
  },
  {
   "cell_type": "code",
   "execution_count": 31,
   "metadata": {},
   "outputs": [],
   "source": [
    "DEF_HEIGHT = 10\n",
    "DEF_WIDTH = 10\n",
    "\n",
    "\n",
    "class Dungeon(object):\n",
    "    '''A place for monsters and players to roam and battle.'''\n",
    "    def __init__(self, name, width=DEF_WIDTH, height=DEF_HEIGHT):\n",
    "        self.name = name\n",
    "        self.width = width\n",
    "        self.height = height\n",
    "\n",
    "    def __str__(self):\n",
    "        return self.name\n",
    "    \n",
    "    def meet(self, creat1, creat2):\n",
    "        '''Two denizens of the dungeon confront each other.'''\n",
    "        if isinstance(creat1, Player) and isinstance(creat2, Player):\n",
    "            print(\"Hi {} I am {}\".format(str(creat1), str(creat2)))\n",
    "        elif isinstance(creat1, Monster) and isinstance(creat2, Monster):\n",
    "            print(\"Aaargh! Growl!\")\n",
    "        else:\n",
    "            creat1.is_hit(creat2.attack())\n",
    "            creat2.is_hit(creat1.attack())"
   ]
  },
  {
   "cell_type": "code",
   "execution_count": 34,
   "metadata": {},
   "outputs": [
    {
     "name": "stdout",
     "output_type": "stream",
     "text": [
      "Catacomb of Horrors\n",
      "I am The Blob with health of 4 and strength of 6\n",
      "I am Michael Lippe with health of -24 and strength of 6\n",
      "Hi Pablo Parra I am Michael Lippe\n",
      "Aaargh! Growl!\n"
     ]
    }
   ],
   "source": [
    "catacomb = Dungeon(\"Catacomb of Horrors\")\n",
    "print(catacomb)\n",
    "catacomb.meet(blob, michael)\n",
    "print(repr(blob))\n",
    "print(repr(michael))\n",
    "catacomb.meet(pablo, michael)\n",
    "catacomb.meet(dark_magic, blob)"
   ]
  },
  {
   "cell_type": "code",
   "execution_count": null,
   "metadata": {},
   "outputs": [],
   "source": []
  }
 ],
 "metadata": {
  "kernelspec": {
   "display_name": "Python 3",
   "language": "python",
   "name": "python3"
  },
  "language_info": {
   "codemirror_mode": {
    "name": "ipython",
    "version": 3
   },
   "file_extension": ".py",
   "mimetype": "text/x-python",
   "name": "python",
   "nbconvert_exporter": "python",
   "pygments_lexer": "ipython3",
   "version": "3.9.0"
  }
 },
 "nbformat": 4,
 "nbformat_minor": 4
}
