{
 "cells": [
  {
   "cell_type": "markdown",
   "metadata": {},
   "source": [
    "# Making Change"
   ]
  },
  {
   "cell_type": "markdown",
   "metadata": {},
   "source": [
    "<img src=\"https://upload.wikimedia.org/wikipedia/commons/thumb/e/ee/Kiloware.JPG/516px-Kiloware.JPG\" width=\"24%\">\n",
    "\n",
    "Today we will write a program to \"make change\": given a user input dollar amount, the program will output what bills and coins to return to the customer who needs the change. So, given user entry of 4.32, we want to output:\n",
    "\n",
    "| Denomination | Amount |\n",
    "|--------------|--------|\n",
    "| Dollars      |    4   |\n",
    "| Quarters     |    1   |\n",
    "| Dimes        |    0   |\n",
    "| Nickels      |    1   |\n",
    "| Pennies      |    2   |\n",
    "\n",
    "So let's outline the program:"
   ]
  },
  {
   "cell_type": "code",
   "execution_count": 3,
   "metadata": {},
   "outputs": [],
   "source": [
    "def make_change():\n",
    "    \"\"\"Prompts user for an amount of change in decimal format.\n",
    "    Outputs the number of dollars, quarters, dimes,\n",
    "    nickels,and pennies needed to make this amount of \n",
    "    change withthe fewest monetary units.\n",
    "    \"\"\"\n",
    "    pass\n",
    "\n",
    "def main():\n",
    "    \"\"\"Calculates monetary units needed to make \n",
    "    user-input change amount.\n",
    "    \"\"\"\n",
    "    make_change()\n",
    "\n",
    "if __name__ == '__main__':\n",
    "    main()\n"
   ]
  },
  {
   "cell_type": "code",
   "execution_count": 4,
   "metadata": {},
   "outputs": [],
   "source": [
    "main()"
   ]
  },
  {
   "cell_type": "markdown",
   "metadata": {},
   "source": [
    "So far, so good! Everything \"runs,\" even though it is not yet really doing anything. It is much better to start with a program you know runs OK, and then gradually add pieces, testing each piece as you add it. That why, when Python \"complains\" -- and sooner or later, we all make some mistake, so we expect it will! -- you know the mistake must be in the last bit you added. That's much, much easier than writing 100 or 200 lines of code all at once, and then being faced with a dozen errors!\n",
    "\n",
    "Now let's write pseudo-code for the `make_change()` function:"
   ]
  },
  {
   "cell_type": "code",
   "execution_count": null,
   "metadata": {},
   "outputs": [],
   "source": [
    "def make_change():\n",
    "    \"\"\"Prompts user for an amount of change in decimal format.\n",
    "    Outputs the number of dollars, quarters, dimes,\n",
    "    nickels, and pennies needed to make this amount of \n",
    "    change with the fewest monetary units.\n",
    "    \"\"\"\n",
    "    # prompt user for change amount\n",
    "\n",
    "    # convert change amount to cents\n",
    "\n",
    "    # calculate and output number of dollars\n",
    "\n",
    "    # calculate and output number of quarters\n",
    "\n",
    "    # calculate and output number of dimes\n",
    "\n",
    "    # calculate and output number of nickels\n",
    "\n",
    "    # calculate and output number of pennies\n"
   ]
  },
  {
   "cell_type": "markdown",
   "metadata": {},
   "source": [
    "Now let's start writing stubs for the functions that `make_change()` will call. For the user input, we can just call Python's built-in `input()` function, and capture its output in a variable. But what should we call the variable?\n",
    "\n",
    "a) CHANGE\n",
    "\n",
    "b) #change\n",
    "\n",
    "c) x\n",
    "\n",
    "d) change_str"
   ]
  },
  {
   "cell_type": "markdown",
   "metadata": {},
   "source": [
    "OK, here is our new `make_change()`:"
   ]
  },
  {
   "cell_type": "code",
   "execution_count": 5,
   "metadata": {},
   "outputs": [],
   "source": [
    "def make_change():\n",
    "    \"\"\"Prompts user for an amount of change in decimal format.\n",
    "    Outputs the number of dollars, quarters, dimes,\n",
    "    nickels,and pennies needed to make this amount of \n",
    "    change withthe fewest monetary units.\n",
    "    \"\"\"\n",
    "    # prompt user for change amount\n",
    "    change_str = input(\"For what amount do you need to make change?\")\n",
    "\n",
    "    # convert change amount to cents\n",
    "\n",
    "    # calculate and output number of dollars\n",
    "\n",
    "    # calculate and output number of quarters\n",
    "\n",
    "    # calculate and output number of dimes\n",
    "\n",
    "    # calculate and output number of nickels\n",
    "\n",
    "    # calculate and output number of pennies"
   ]
  },
  {
   "cell_type": "markdown",
   "metadata": {},
   "source": [
    "We can now test `make_change()`:"
   ]
  },
  {
   "cell_type": "code",
   "execution_count": 6,
   "metadata": {},
   "outputs": [
    {
     "name": "stdout",
     "output_type": "stream",
     "text": [
      "For what amount do you need to make change?3.45\n"
     ]
    }
   ],
   "source": [
    "make_change()"
   ]
  },
  {
   "cell_type": "code",
   "execution_count": 9,
   "metadata": {},
   "outputs": [
    {
     "data": {
      "text/plain": [
       "3"
      ]
     },
     "execution_count": 9,
     "metadata": {},
     "output_type": "execute_result"
    }
   ],
   "source": [
    "int(\"3\")"
   ]
  },
  {
   "cell_type": "markdown",
   "metadata": {},
   "source": [
    "Looks OK! But we don't want the amount as a string, right? What function should we call to make it a number with a decimal point?\n",
    "\n",
    "a) `str()`\n",
    "\n",
    "b) `float()`\n",
    "\n",
    "c) `print()`\n",
    "\n",
    "d) `int()`"
   ]
  },
  {
   "cell_type": "markdown",
   "metadata": {},
   "source": [
    "Here is the new `make_change()` -- I've thrown in a `print()` just to see if we have the amount right."
   ]
  },
  {
   "cell_type": "code",
   "execution_count": 12,
   "metadata": {},
   "outputs": [],
   "source": [
    "def make_change():\n",
    "    \"\"\"Prompts user for an amount of change in decimal format.\n",
    "    Outputs the number of dollars, quarters, dimes,\n",
    "    nickels,and pennies needed to make this amount of \n",
    "    change withthe fewest monetary units.\n",
    "    \"\"\"\n",
    "    # prompt user for change amount\n",
    "    change_str = input(\"For what amount do you need to make change?\")\n",
    "    change_float = float(change_str)\n",
    "    print(\"Making change for\", change_float)  # this print will be removed later!\n",
    "    \n",
    "    # convert change amount to cents\n",
    "\n",
    "    # calculate and output number of dollars\n",
    "\n",
    "    # calculate and output number of quarters\n",
    "\n",
    "    # calculate and output number of dimes\n",
    "\n",
    "    # calculate and output number of nickels\n",
    "\n",
    "    # calculate and output number of pennies"
   ]
  },
  {
   "cell_type": "code",
   "execution_count": 13,
   "metadata": {},
   "outputs": [
    {
     "name": "stdout",
     "output_type": "stream",
     "text": [
      "For what amount do you need to make change?34.23\n",
      "Making change for 34.23\n"
     ]
    }
   ],
   "source": [
    "make_change()"
   ]
  },
  {
   "cell_type": "markdown",
   "metadata": {},
   "source": [
    "Now, we need to convert the dollar version of the amount into cents, which will make the rest of our math much easier. We are going to write something like:\n",
    "\n",
    "`change = int(expr)`\n",
    "\n",
    "What should we put in for `expr`?\n",
    "\n",
    "a) `change_float / 100`\n",
    "\n",
    "b) `change_float`\n",
    "\n",
    "c) `str_float`\n",
    "\n",
    "d) `change_float * 100`"
   ]
  },
  {
   "cell_type": "code",
   "execution_count": 81,
   "metadata": {},
   "outputs": [
    {
     "data": {
      "text/plain": [
       "100"
      ]
     },
     "execution_count": 81,
     "metadata": {},
     "output_type": "execute_result"
    }
   ],
   "source": [
    "int(0.99999999999999999 * 100)"
   ]
  },
  {
   "cell_type": "markdown",
   "metadata": {},
   "source": [
    "Here is our new `make_change()`:"
   ]
  },
  {
   "cell_type": "code",
   "execution_count": 22,
   "metadata": {},
   "outputs": [],
   "source": [
    "DOLLAR = 100\n",
    "QUARTER = 25\n",
    "DIME = 10\n",
    "NICKEL = 5\n",
    "\n",
    "\n",
    "def get_pennies():\n",
    "    \"\"\"Docstring\"\"\"\n",
    "    change_str = input(\"For what amount do you need to make change?\")\n",
    "    change_float = float(change_str)\n",
    "    # print(\"change_float =\", change_float)\n",
    "    change_float100 = change_float * DOLLAR\n",
    "    # print(\"change_float100 =\", change_float100)\n",
    "    pennies = int(change_float100)\n",
    "    return pennies\n",
    "\n",
    "\n",
    "# def calc_output_dollars(pennies):\n",
    "#    \"\"\"docstring\"\"\"\n",
    "#    print(\"Dollars:\", pennies // DOLLAR)\n",
    "#    return pennies % DOLLAR\n",
    "\n",
    "\n",
    "# def calc_output_quarters(pennies):\n",
    "#    \"\"\"docstring\"\"\"\n",
    "#    print(\"Quarters:\", pennies // QUARTER)\n",
    "#    return pennies % QUARTER\n",
    "\n",
    "\n",
    "# def calc_output_dimes(pennies):\n",
    "#    \"\"\"docstring\"\"\"\n",
    "#    print(\"Dimes:\", pennies // DIME)\n",
    "#    return pennies % DIME\n",
    "\n",
    "\n",
    "def calc_denom(pennies, denom):\n",
    "    \"\"\"return number of denom and rest of amount\"\"\"\n",
    "    return (pennies // denom, pennies % denom)\n",
    "\n",
    "\n",
    "def make_change():\n",
    "    \"\"\"Prompts user for an amount of change in decimal format.\n",
    "    Outputs the number of dollars, quarters, dimes,\n",
    "    nickels, and pennies needed to make this amount of \n",
    "    change with the fewest monetary units.\n",
    "    \"\"\"\n",
    "    # prompt user for change amount\n",
    "    # convert change amount to cents\n",
    "    pennies = get_pennies()\n",
    "    print(\"Pennies after input:\", pennies)  # this print will be removed later!\n",
    "\n",
    "    # calculate and output number of dollars\n",
    "    (dollars, pennies) = calc_denom(pennies, DOLLAR)\n",
    "    print(\"Dollars:\", dollars)  # this print will be removed later!\n",
    "\n",
    "    # calculate and output number of quarters\n",
    "    (quarters, pennies) = calc_denom(pennies, QUARTER)\n",
    "    print(\"Quarters:\", quarters)  # this print will be removed later!\n",
    "\n",
    "    # calculate and output number of dimes\n",
    "    (dimes, pennies) = calc_denom(pennies, DIME)\n",
    "    print(\"Dimes:\", dimes)  # this print will be removed later!\n",
    "\n",
    "    # calculate and output number of nickels\n",
    "    (nickels, pennies) = calc_denom(pennies, NICKEL)\n",
    "    print(\"Nickels:\", nickels)  # this print will be removed later!\n",
    "\n",
    "    # calculate and output number of pennies\n",
    "    print(\"Pennies:\", pennies)"
   ]
  },
  {
   "cell_type": "markdown",
   "metadata": {},
   "source": [
    "And let's test our code again:"
   ]
  },
  {
   "cell_type": "code",
   "execution_count": 23,
   "metadata": {},
   "outputs": [
    {
     "name": "stdout",
     "output_type": "stream",
     "text": [
      "For what amount do you need to make change?4.56\n",
      "Pennies after input: 455\n",
      "Dollars: 4\n",
      "Quarters: 2\n",
      "Dimes: 0\n",
      "Nickels: 1\n",
      "Pennies: 0\n"
     ]
    }
   ],
   "source": [
    "make_change()"
   ]
  },
  {
   "cell_type": "markdown",
   "metadata": {},
   "source": [
    "That looks good! "
   ]
  },
  {
   "cell_type": "markdown",
   "metadata": {},
   "source": [
    "But I think we should collect that input code into a single function. Let's write that:"
   ]
  },
  {
   "cell_type": "code",
   "execution_count": null,
   "metadata": {},
   "outputs": [],
   "source": []
  },
  {
   "cell_type": "markdown",
   "metadata": {},
   "source": [
    "And we can test it:"
   ]
  },
  {
   "cell_type": "code",
   "execution_count": null,
   "metadata": {},
   "outputs": [],
   "source": []
  },
  {
   "cell_type": "markdown",
   "metadata": {},
   "source": [
    "Now let's write stubs for the rest of our functions: they will return fixed values, but that will allow us to test our \"whole\" program works, and then fill in the details."
   ]
  },
  {
   "cell_type": "code",
   "execution_count": null,
   "metadata": {},
   "outputs": [],
   "source": []
  },
  {
   "cell_type": "markdown",
   "metadata": {},
   "source": [
    "Now we can run another test -- of course, the answer will be nonsense, but we can see if all parts of our program connect properly:"
   ]
  },
  {
   "cell_type": "code",
   "execution_count": null,
   "metadata": {},
   "outputs": [],
   "source": []
  },
  {
   "cell_type": "markdown",
   "metadata": {},
   "source": [
    "OK, let's fill in each function with the real calculation:"
   ]
  },
  {
   "cell_type": "code",
   "execution_count": null,
   "metadata": {},
   "outputs": [],
   "source": []
  },
  {
   "cell_type": "markdown",
   "metadata": {},
   "source": [
    "### No Magic Numbers!"
   ]
  },
  {
   "cell_type": "markdown",
   "metadata": {},
   "source": [
    "Magic numbers are, for example, the 100, 25, 10, and 5 in the code above. These numbers are a source of errors and puzzlement, because:\n",
    "\n",
    "- If one of them changes, they must be changed *everywhere* or the program will have a bug.\n",
    "- There meaning can be obscure -- perhaps not in our example, *at least for someone who knows American coinage* -- but what do these numbers mean?  \n",
    "1/4, 1/2, 1, 2, 12, 24, 60, 240, 252\n",
    "\n",
    "**Answer**: farthing, ha'penny, penny, tuppence, shilling, florin, crown, pound, guinea: All real British coins before 1971!\n",
    "\n",
    "**Solution**: *Named constants*."
   ]
  },
  {
   "cell_type": "code",
   "execution_count": null,
   "metadata": {},
   "outputs": [],
   "source": []
  }
 ],
 "metadata": {
  "kernelspec": {
   "display_name": "Python 3",
   "language": "python",
   "name": "python3"
  },
  "language_info": {
   "codemirror_mode": {
    "name": "ipython",
    "version": 3
   },
   "file_extension": ".py",
   "mimetype": "text/x-python",
   "name": "python",
   "nbconvert_exporter": "python",
   "pygments_lexer": "ipython3",
   "version": "3.9.0"
  }
 },
 "nbformat": 4,
 "nbformat_minor": 4
}
