{
 "cells": [
  {
   "cell_type": "markdown",
   "metadata": {},
   "source": [
    "## Functions"
   ]
  },
  {
   "cell_type": "markdown",
   "metadata": {},
   "source": [
    "A *function* is a package of code we can call repeatedly, from different parts of our program. You can view it as a machine that takes some input and turns it into some output.\n",
    "\n",
    "<img src=\"https://upload.wikimedia.org/wikipedia/commons/thumb/3/3b/Function_machine2.svg/440px-Function_machine2.svg.png\" alt=\"A function\" style=\"width: 33%;\"/>\n",
    "\n",
    "Functions:\n",
    "- takes zero or more arguments as input\n",
    "- return one value (potentially a compound object) as output\n",
    "\n",
    "Using functions serves several purposes:\n",
    "\n",
    "1. it names a computation\n",
    "1. it makes the code easier to read by hiding details inside the fuction\n",
    "1. it means we don't have to repeat lines of code throughout our program, easing maintenance\n",
    "1. it makes testing your code simpler\n"
   ]
  },
  {
   "cell_type": "markdown",
   "metadata": {},
   "source": [
    "**Signature of a function**: what it takes as input and what it yields as output.\n",
    "\n",
    "A function that accepts no arguments and returns `None`:"
   ]
  },
  {
   "cell_type": "code",
   "execution_count": 1,
   "metadata": {},
   "outputs": [
    {
     "name": "stdout",
     "output_type": "stream",
     "text": [
      "Greetings from the temperature converter!\n",
      "None\n"
     ]
    }
   ],
   "source": [
    "def print_welcome_message():\n",
    "    \"\"\"signature: nothing -> None\"\"\"\n",
    "    print (\"Greetings from the temperature converter!\")\n",
    "\n",
    "    \n",
    "ret_val = print_welcome_message()\n",
    "print(ret_val)"
   ]
  },
  {
   "cell_type": "markdown",
   "metadata": {},
   "source": [
    "Why does `None` exist? Sometimes, we need to establish a variable, whose value we don't know yet:"
   ]
  },
  {
   "cell_type": "code",
   "execution_count": 4,
   "metadata": {},
   "outputs": [],
   "source": [
    "# before the market open, we don't know IBM's open price:\n",
    "ibm_open = None\n",
    "# Time passes... and the market opens:\n",
    "ibm_open = 136.56"
   ]
  },
  {
   "cell_type": "markdown",
   "metadata": {},
   "source": [
    "A function that accepts two integer arguments and returns `None`:"
   ]
  },
  {
   "cell_type": "code",
   "execution_count": 7,
   "metadata": {},
   "outputs": [
    {
     "name": "stdout",
     "output_type": "stream",
     "text": [
      "************************************************************\n",
      "************************************************************\n",
      "************************************************************\n"
     ]
    }
   ],
   "source": [
    "def print_stars(num_lines, num_stars):\n",
    "    \"\"\"signature: int, int -> None\"\"\"\n",
    "    for line_number in range(0, num_lines):\n",
    "        print('*' * num_stars)\n",
    "\n",
    "print_stars(3, 60)"
   ]
  },
  {
   "cell_type": "markdown",
   "metadata": {},
   "source": [
    "Another function that accepts one number, and returns a float:"
   ]
  },
  {
   "cell_type": "code",
   "execution_count": 13,
   "metadata": {},
   "outputs": [
    {
     "data": {
      "text/plain": [
       "212.0"
      ]
     },
     "execution_count": 13,
     "metadata": {},
     "output_type": "execute_result"
    }
   ],
   "source": [
    "def celsius_to_farenheit(celsius):\n",
    "    \"\"\"sig: number -> float\"\"\"\n",
    "    return celsius * (9/5) + 32\n",
    "\n",
    "celsius_to_farenheit(100)"
   ]
  },
  {
   "cell_type": "code",
   "execution_count": 15,
   "metadata": {},
   "outputs": [
    {
     "name": "stdout",
     "output_type": "stream",
     "text": [
      "100.00 degrees celsius is 212.00 degrees fahrenheit.\n"
     ]
    }
   ],
   "source": [
    "def nice_print(c, f):\n",
    "    print(\"{:5.2f} degrees celsius is {:5.2f} degrees fahrenheit.\".format(c, f))\n",
    "    \n",
    "nice_print(100, 212)"
   ]
  },
  {
   "cell_type": "markdown",
   "metadata": {},
   "source": [
    "Function invocation (calling our functions):"
   ]
  },
  {
   "cell_type": "code",
   "execution_count": 16,
   "metadata": {},
   "outputs": [
    {
     "name": "stdout",
     "output_type": "stream",
     "text": [
      "************************************************************\n",
      "Greetings from the temperature converter!\n",
      "************************************************************\n",
      "55.00 degrees celsius is 131.00 degrees fahrenheit.\n",
      "20.55 degrees celsius is 131.00 degrees fahrenheit.\n",
      "12.80 degrees celsius is 55.04 degrees fahrenheit.\n"
     ]
    }
   ],
   "source": [
    "print_stars(1, 60)\n",
    "print_welcome_message()\n",
    "print_stars(1, 60)\n",
    "\n",
    "celsius = 55.0\n",
    "fahrenheit = celsius_to_farenheit(celsius)\n",
    "nice_print(celsius, fahrenheit)\n",
    "nice_print(20.55, celsius_to_farenheit(celsius))\n",
    "nice_print(12.8, celsius_to_farenheit(12.8))"
   ]
  },
  {
   "cell_type": "markdown",
   "metadata": {},
   "source": [
    "### Two important definitions\n",
    "\n",
    "**function parameters**: names in a function definition which reference values used in function body. They provide a way to supply data to be used inside of a function from its caller.\n",
    "\n",
    "**function arguments**: values provided (passed) to a function as part of a function call (or invocation)."
   ]
  },
  {
   "cell_type": "code",
   "execution_count": 21,
   "metadata": {},
   "outputs": [
    {
     "name": "stdout",
     "output_type": "stream",
     "text": [
      "19.4\n",
      "9bar\n"
     ]
    }
   ],
   "source": [
    "# x and y are the parameters to sum:\n",
    "def sum(x, y):\n",
    "    return x + y\n",
    "\n",
    "x = 9\n",
    "y = 10.4\n",
    "# now x and y are the arguments to sum:\n",
    "z = sum(x, y)\n",
    "print(z)\n",
    "\n",
    "foobar = sum(\"9\", \"bar\")\n",
    "print(foobar)"
   ]
  },
  {
   "cell_type": "markdown",
   "metadata": {},
   "source": [
    "### Namespaces\n",
    "\n",
    "The idea of a [*namespace*](https://en.wikipedia.org/wiki/Namespace) is important in understanding how function arguments work. They control the [*scope*](https://en.wikipedia.org/wiki/Scope_%28computer_science%29) of a variable. Let's look at an example:"
   ]
  },
  {
   "cell_type": "code",
   "execution_count": 22,
   "metadata": {},
   "outputs": [],
   "source": [
    "GDP_MULTIPLIER = 1.4  # this goes in the global namespace\n",
    "\n",
    "\n",
    "def calc_gdp_effect(gov_spending):\n",
    "    # `gov_spending` here is local to the `calc_gdp_effect`\n",
    "    # namespace\n",
    "    gov_spending *= GDP_MULTIPLIER\n",
    "    print(\"Inside calc_gdp_effect, gov_spending =\", gov_spending)\n",
    "    return gov_spending\n",
    "\n",
    "\n",
    "def main():\n",
    "    # `gov_spending` here is local to the `main` namespace\n",
    "    gov_spending = int(input(\"How much will government spending increase?\"))\n",
    "    print(\"That amount of spending will increase GDP by\", calc_gdp_effect(gov_spending))\n",
    "    print(\"But in main, gov_spending still equals\", gov_spending)"
   ]
  },
  {
   "cell_type": "code",
   "execution_count": 24,
   "metadata": {},
   "outputs": [
    {
     "name": "stdout",
     "output_type": "stream",
     "text": [
      "How much will government spending increase?100\n",
      "Inside calc_gdp_effect, gov_spending = 140.0\n",
      "That amount of spending will increase GDP by 140.0\n",
      "But in main, gov_spending still equals 100\n"
     ]
    }
   ],
   "source": [
    "main()"
   ]
  },
  {
   "cell_type": "code",
   "execution_count": 27,
   "metadata": {},
   "outputs": [
    {
     "name": "stdout",
     "output_type": "stream",
     "text": [
      "243\n"
     ]
    }
   ],
   "source": [
    "def f(x):\n",
    "    return x**5\n",
    "    \n",
    "y = f(3)\n",
    "print(y)"
   ]
  },
  {
   "cell_type": "markdown",
   "metadata": {},
   "source": [
    "### More about `print()`\n",
    "\n",
    "We have been using `print` since the start of the course. One of the interesting things about this function is that it illustrates several interesting aspects of Python functions. First of all, `print` can take any number of arguments to output:"
   ]
  },
  {
   "cell_type": "code",
   "execution_count": 28,
   "metadata": {},
   "outputs": [
    {
     "name": "stdout",
     "output_type": "stream",
     "text": [
      "5 6 7 8\n"
     ]
    }
   ],
   "source": [
    "print(5, 6, 7, 8)"
   ]
  },
  {
   "cell_type": "markdown",
   "metadata": {},
   "source": [
    "Secondly, `print` can also accept *named parameters*. By default (and these default arguments are very common in Python!), `print` outputs a new line after outputting its arguments. But we can change that with the named parameter `end`:"
   ]
  },
  {
   "cell_type": "code",
   "execution_count": 29,
   "metadata": {},
   "outputs": [
    {
     "name": "stdout",
     "output_type": "stream",
     "text": [
      "Output|separated by|pipes|"
     ]
    }
   ],
   "source": [
    "print(\"Output\", end='|')\n",
    "print(\"separated by\", end='|')\n",
    "print(\"pipes\", end='|')"
   ]
  },
  {
   "cell_type": "markdown",
   "metadata": {},
   "source": [
    "There is another *named parameter* to `print` that will let us do something like the above all in one call `print`: `sep`. If there are multiple values to be printed, by default, Python separates them with a space. But we can use `sep` to change that:"
   ]
  },
  {
   "cell_type": "code",
   "execution_count": 30,
   "metadata": {},
   "outputs": [
    {
     "name": "stdout",
     "output_type": "stream",
     "text": [
      "7,8,9\n"
     ]
    }
   ],
   "source": [
    "x = 7\n",
    "y = 8\n",
    "z = 9\n",
    "print(x, y, z, sep=\",\")"
   ]
  },
  {
   "cell_type": "markdown",
   "metadata": {},
   "source": [
    "These concepts, of *named parameters*, and *default values*, are YUUUGELY important in Python!"
   ]
  },
  {
   "cell_type": "markdown",
   "metadata": {},
   "source": [
    "### More function definition examples:"
   ]
  },
  {
   "cell_type": "code",
   "execution_count": 38,
   "metadata": {},
   "outputs": [
    {
     "name": "stdout",
     "output_type": "stream",
     "text": [
      "Mean is: 9.0\n"
     ]
    }
   ],
   "source": [
    "def calc_mean(num1, num2):\n",
    "    \"\"\"sig: number, number -> float\n",
    "    \"\"\"\n",
    "    return (num1 + num2) / 2\n",
    "\n",
    "mean = calc_mean(2, 16)\n",
    "print(\"Mean is:\", mean)"
   ]
  },
  {
   "cell_type": "code",
   "execution_count": null,
   "metadata": {},
   "outputs": [],
   "source": [
    "def extract_nth_char(input_string, position):\n",
    "    # sig: String, int -> String\n",
    "    if len(input_string) > position:\n",
    "        return input_string[position]\n",
    "    else:\n",
    "        return \"ERROR\"\n",
    "    \n",
    "extract_nth_char(\"Hello class\", 5)"
   ]
  },
  {
   "cell_type": "code",
   "execution_count": null,
   "metadata": {},
   "outputs": [],
   "source": [
    "def print_results(index, sample, result):\n",
    "    # sig: int, String, String -> None\n",
    "    print(\"The {}th character of '{}' is '{}'\".format(index,\n",
    "                                                      sample,\n",
    "                                                      result))"
   ]
  },
  {
   "cell_type": "code",
   "execution_count": null,
   "metadata": {},
   "outputs": [],
   "source": [
    "gpa = 0.8\n",
    "fancy_print_gpa(\"Peter\", gpa)"
   ]
  },
  {
   "cell_type": "code",
   "execution_count": null,
   "metadata": {},
   "outputs": [],
   "source": [
    "index = 25\n",
    "sample = \"This is a sample string\"\n",
    "result = extract_nth_char(sample, index)\n",
    "if result != \"ERROR\":\n",
    "    print_results(index, sample, result)\n",
    "else:\n",
    "    print(\"Something bad happened.\")"
   ]
  },
  {
   "cell_type": "markdown",
   "metadata": {},
   "source": [
    "### Using a `main()` function:"
   ]
  },
  {
   "cell_type": "markdown",
   "metadata": {},
   "source": [
    "`main()` in Python is the customary name for a function to execute *if* your code is running as the top-level module in a Python program.\n",
    "\n",
    "[Here is how `main()` is used.](https://docs.python.org/3/library/__main__.html)\n",
    "\n",
    "Here is some code with a `main()` function:"
   ]
  },
  {
   "cell_type": "code",
   "execution_count": null,
   "metadata": {},
   "outputs": [],
   "source": [
    "def double_it(some_number):\n",
    "    return some_number * 2\n",
    "\n",
    "def main():\n",
    "    print(\"Welcome to my program.\")\n",
    "    value = int(input(\"Enter an integer and I'll double it! \"))\n",
    "\n",
    "    print(\"Your value doubled is:\",\n",
    "          double_it(value))"
   ]
  },
  {
   "cell_type": "markdown",
   "metadata": {},
   "source": [
    "Now run `main()`:"
   ]
  },
  {
   "cell_type": "code",
   "execution_count": null,
   "metadata": {},
   "outputs": [],
   "source": [
    "main()"
   ]
  },
  {
   "cell_type": "markdown",
   "metadata": {},
   "source": [
    "### Functions (Larger example)\n",
    "\n",
    "We will calculate the area of a triangle, given length of 3 sides:\n",
    "\n",
    "s = (a + b + c) / 2\n",
    "\n",
    "area = sqrt(s * (s-a) * (s-b) * (s-c))"
   ]
  },
  {
   "cell_type": "code",
   "execution_count": null,
   "metadata": {},
   "outputs": [],
   "source": [
    "import math\n",
    "\n",
    "def get_coord(x_or_y):\n",
    "    return float(input(\"   Please enter \" + x_or_y + \":\"))\n",
    "\n",
    "def get_vertex():\n",
    "    # sig: None -> float, float\n",
    "    x = get_coord(\"x\")\n",
    "    y = get_coord(\"y\")\n",
    "    return x,y   \n",
    "# NOTE! This function returns two values as one!"
   ]
  },
  {
   "cell_type": "code",
   "execution_count": null,
   "metadata": {},
   "outputs": [],
   "source": [
    "def get_triangle():\n",
    "    # sig: None -> (float, float, float, float, float, float)\n",
    "    print(\"\\nEnter the first vertex:\")\n",
    "    x1, y1 = get_vertex()\n",
    "\n",
    "    print(\"\\nEnter the second vertex:\")\n",
    "    x2, y2 = get_vertex()\n",
    "\n",
    "    print(\"\\nEnter the third vertex:\")\n",
    "    x3, y3 = get_vertex()\n",
    "\n",
    "    return x1, y1, x2, y2, x3, y3 \n",
    "    # NOTE! This function returns six values as one!"
   ]
  },
  {
   "cell_type": "code",
   "execution_count": null,
   "metadata": {},
   "outputs": [],
   "source": [
    "def calc_side_length(x1, y1, a, b):\n",
    "    # sig: float, float, float, float -> float\n",
    "    return math.sqrt((x1-a)**2 + (y1-b)**2)"
   ]
  },
  {
   "cell_type": "code",
   "execution_count": null,
   "metadata": {},
   "outputs": [],
   "source": [
    "def calc_area(x1, y1, x2, y2, x3, y3):\n",
    "    ''' return area using Heron's formula '''\n",
    "    # sig: float, float, float, float, float, float -> float\n",
    "    a = calc_side_length(x1, y1, x2, y2)\n",
    "    b = calc_side_length(x2, y2, x3, y3)\n",
    "    c = calc_side_length(x3, y3, x1, y1)\n",
    "    s = (1/2) * (a + b + c)\n",
    "    return math.sqrt(s * (s-a) * (s-b) * (s-c))"
   ]
  },
  {
   "cell_type": "code",
   "execution_count": null,
   "metadata": {},
   "outputs": [],
   "source": [
    "x1, y1, x2, y2, x3, y3 = get_triangle()\n",
    "area = calc_area(x1, y1, x2, y2, x3, y3)\n",
    "print(\"Area is: {:2.4f}\".format(area))"
   ]
  },
  {
   "cell_type": "code",
   "execution_count": null,
   "metadata": {},
   "outputs": [],
   "source": []
  }
 ],
 "metadata": {
  "kernelspec": {
   "display_name": "Python 3",
   "language": "python",
   "name": "python3"
  },
  "language_info": {
   "codemirror_mode": {
    "name": "ipython",
    "version": 3
   },
   "file_extension": ".py",
   "mimetype": "text/x-python",
   "name": "python",
   "nbconvert_exporter": "python",
   "pygments_lexer": "ipython3",
   "version": "3.6.9"
  }
 },
 "nbformat": 4,
 "nbformat_minor": 2
}
