{
 "cells": [
  {
   "cell_type": "markdown",
   "metadata": {},
   "source": [
    "# Modules"
   ]
  },
  {
   "cell_type": "markdown",
   "metadata": {},
   "source": [
    "Over the decades people have been programming computers, many common problems have been solved in efficient fashion. In our programs, we would like to re-use those solutions, rather than having to re-invent them ourselves. Some of these solutions, such as how to do addition, subtraction, list traversal, or string concatenation, are built right into the core of the Python language.\n",
    "\n",
    "But no language could build all standard computing solutions into its core without becoming gigantic and slow to run, taking up vast storage and memory resources.\n",
    "\n",
    "Python's solution to this conflict is to allow users of the language to load *modules* into their program, to optionally add features as needed... kind of like ordering optional toppings for your pizza.\n",
    "\n",
    "<img src=\"https://upload.wikimedia.org/wikipedia/commons/thumb/9/91/Pizza-3007395.jpg/440px-Pizza-3007395.jpg\" width=\"33%\">\n",
    "\n",
    "Let's take a look at a couple of Python modules, and learn how to bring them into our own programs -- to *import* them -- and make use of them.\n",
    "\n",
    "(In this class, we will only need imports from the [Python standard library](https://docs.python.org/3/library/). There are also hundreds of thousands of other packages available at (https://pypi.org).)\n",
    "\n",
    "First we will use `math`:"
   ]
  },
  {
   "cell_type": "code",
   "execution_count": 2,
   "metadata": {},
   "outputs": [],
   "source": [
    "import math"
   ]
  },
  {
   "cell_type": "markdown",
   "metadata": {},
   "source": [
    "Now we can use `dir()` to see what is in math:"
   ]
  },
  {
   "cell_type": "code",
   "execution_count": 3,
   "metadata": {
    "scrolled": false
   },
   "outputs": [
    {
     "data": {
      "text/plain": [
       "['__doc__',\n",
       " '__file__',\n",
       " '__loader__',\n",
       " '__name__',\n",
       " '__package__',\n",
       " '__spec__',\n",
       " 'acos',\n",
       " 'acosh',\n",
       " 'asin',\n",
       " 'asinh',\n",
       " 'atan',\n",
       " 'atan2',\n",
       " 'atanh',\n",
       " 'ceil',\n",
       " 'copysign',\n",
       " 'cos',\n",
       " 'cosh',\n",
       " 'degrees',\n",
       " 'e',\n",
       " 'erf',\n",
       " 'erfc',\n",
       " 'exp',\n",
       " 'expm1',\n",
       " 'fabs',\n",
       " 'factorial',\n",
       " 'floor',\n",
       " 'fmod',\n",
       " 'frexp',\n",
       " 'fsum',\n",
       " 'gamma',\n",
       " 'gcd',\n",
       " 'hypot',\n",
       " 'inf',\n",
       " 'isclose',\n",
       " 'isfinite',\n",
       " 'isinf',\n",
       " 'isnan',\n",
       " 'ldexp',\n",
       " 'lgamma',\n",
       " 'log',\n",
       " 'log10',\n",
       " 'log1p',\n",
       " 'log2',\n",
       " 'modf',\n",
       " 'nan',\n",
       " 'pi',\n",
       " 'pow',\n",
       " 'radians',\n",
       " 'sin',\n",
       " 'sinh',\n",
       " 'sqrt',\n",
       " 'tan',\n",
       " 'tanh',\n",
       " 'tau',\n",
       " 'trunc']"
      ]
     },
     "execution_count": 3,
     "metadata": {},
     "output_type": "execute_result"
    }
   ],
   "source": [
    "dir(math)"
   ]
  },
  {
   "cell_type": "markdown",
   "metadata": {},
   "source": [
    "We won't use most of these in this course, but it is good to know they are there! We can use the access operator (`.`) to use them."
   ]
  },
  {
   "cell_type": "code",
   "execution_count": 9,
   "metadata": {},
   "outputs": [
    {
     "name": "stdout",
     "output_type": "stream",
     "text": [
      "3.141592653589793\n",
      "2.718281828459045\n",
      "0.0\n",
      "1.0\n"
     ]
    }
   ],
   "source": [
    "print(math.pi)\n",
    "print(math.e)\n",
    "print(math.sin(0))\n",
    "print(math.cos(0))"
   ]
  },
  {
   "cell_type": "code",
   "execution_count": 10,
   "metadata": {},
   "outputs": [
    {
     "name": "stdout",
     "output_type": "stream",
     "text": [
      "90 degrees in radians is: 1.5707963267948966\n",
      "1.0\n",
      "False\n",
      "6.123233995736766e-17\n",
      "True\n"
     ]
    }
   ],
   "source": [
    "rad90 = math.radians(90)\n",
    "print(\"90 degrees in radians is:\", rad90)\n",
    "print(math.sin(rad90))\n",
    "cos90 = math.cos(rad90)\n",
    "print(cos90 == 0.0)\n",
    "print(cos90)\n",
    "print(math.isclose(cos90, 0.0, abs_tol=.0001))"
   ]
  },
  {
   "cell_type": "markdown",
   "metadata": {},
   "source": [
    "Note that we don't get exactly 0 for cosine pi/2!"
   ]
  },
  {
   "cell_type": "code",
   "execution_count": 8,
   "metadata": {},
   "outputs": [
    {
     "name": "stdout",
     "output_type": "stream",
     "text": [
      "0.16666666666666666\n",
      "0.9999999999999999\n",
      "False\n",
      "True\n"
     ]
    }
   ],
   "source": [
    "x = 1/6\n",
    "print(x)\n",
    "y = x + x + x + x + x + x\n",
    "print(y)\n",
    "print(y == 1.0)\n",
    "if math.isclose(y, 1.0):\n",
    "    y = 1.0\n",
    "print(y == 1.0)"
   ]
  },
  {
   "cell_type": "code",
   "execution_count": 15,
   "metadata": {},
   "outputs": [
    {
     "name": "stdout",
     "output_type": "stream",
     "text": [
      "1e+43\n",
      "1e-43\n",
      "0.0\n",
      "2000.0\n"
     ]
    }
   ],
   "source": [
    "x = 10000000000000000000000000000000000000000000.0\n",
    "print(x)\n",
    "y = .0000000000000000000000000000000000000000001\n",
    "y2 = .01\n",
    "print(y)\n",
    "z = x + y\n",
    "diff = z - x\n",
    "print(x * diff * 2000)\n",
    "print(x * y * 2000)"
   ]
  },
  {
   "cell_type": "markdown",
   "metadata": {},
   "source": [
    "### Random Computing\n",
    "\n",
    "Sometimes, we want to simulate a random process on our computer. We can use the [`random`](https://docs.python.org/3/library/random.html) module for this.\n",
    "\n",
    "Let's play some dice!\n",
    "\n",
    "<img src=\"https://upload.wikimedia.org/wikipedia/commons/thumb/a/a5/6sided_dice.jpg/600px-6sided_dice.jpg\" width=\"33%\">"
   ]
  },
  {
   "cell_type": "code",
   "execution_count": 16,
   "metadata": {},
   "outputs": [
    {
     "data": {
      "text/plain": [
       "['BPF',\n",
       " 'LOG4',\n",
       " 'NV_MAGICCONST',\n",
       " 'RECIP_BPF',\n",
       " 'Random',\n",
       " 'SG_MAGICCONST',\n",
       " 'SystemRandom',\n",
       " 'TWOPI',\n",
       " '_BuiltinMethodType',\n",
       " '_MethodType',\n",
       " '_Sequence',\n",
       " '_Set',\n",
       " '__all__',\n",
       " '__builtins__',\n",
       " '__cached__',\n",
       " '__doc__',\n",
       " '__file__',\n",
       " '__loader__',\n",
       " '__name__',\n",
       " '__package__',\n",
       " '__spec__',\n",
       " '_acos',\n",
       " '_bisect',\n",
       " '_ceil',\n",
       " '_cos',\n",
       " '_e',\n",
       " '_exp',\n",
       " '_inst',\n",
       " '_itertools',\n",
       " '_log',\n",
       " '_pi',\n",
       " '_random',\n",
       " '_sha512',\n",
       " '_sin',\n",
       " '_sqrt',\n",
       " '_test',\n",
       " '_test_generator',\n",
       " '_urandom',\n",
       " '_warn',\n",
       " 'betavariate',\n",
       " 'choice',\n",
       " 'choices',\n",
       " 'expovariate',\n",
       " 'gammavariate',\n",
       " 'gauss',\n",
       " 'getrandbits',\n",
       " 'getstate',\n",
       " 'lognormvariate',\n",
       " 'normalvariate',\n",
       " 'paretovariate',\n",
       " 'randint',\n",
       " 'random',\n",
       " 'randrange',\n",
       " 'sample',\n",
       " 'seed',\n",
       " 'setstate',\n",
       " 'shuffle',\n",
       " 'triangular',\n",
       " 'uniform',\n",
       " 'vonmisesvariate',\n",
       " 'weibullvariate']"
      ]
     },
     "execution_count": 16,
     "metadata": {},
     "output_type": "execute_result"
    }
   ],
   "source": [
    "import random\n",
    "dir(random)"
   ]
  },
  {
   "cell_type": "code",
   "execution_count": 39,
   "metadata": {},
   "outputs": [
    {
     "name": "stdout",
     "output_type": "stream",
     "text": [
      "[16.65777, 16.68937, 16.67603, 16.646649999999998, 16.65083, 16.67935]\n"
     ]
    }
   ],
   "source": [
    "import random\n",
    "\n",
    "\"\"\"Set up our probability slices.\"\"\"\n",
    "NUM_SIDES = 6\n",
    "ONE = 1/6\n",
    "TWO = 2/6\n",
    "THREE = 3/6\n",
    "FOUR = 4/6\n",
    "FIVE = 5/6\n",
    "\n",
    "def roll():\n",
    "    \"\"\"Roll a die and return the result.\"\"\"\n",
    "    rand_num = random.random()\n",
    "    if rand_num < ONE:\n",
    "        return 1\n",
    "    elif rand_num < TWO:\n",
    "        return 2\n",
    "    elif rand_num < THREE:\n",
    "        return 3\n",
    "    elif rand_num < FOUR:\n",
    "        return 4\n",
    "    elif rand_num < FIVE:\n",
    "        return 5\n",
    "    else:\n",
    "        return 6\n",
    "\n",
    "\n",
    "def main():\n",
    "    \"\"\"Play dice and record the results!\"\"\"\n",
    "    num_rolls = 10000000\n",
    "    results = [0]*NUM_SIDES\n",
    "    for i in range(num_rolls):\n",
    "        this_roll = roll()\n",
    "        results[this_roll-1] += 1\n",
    "    for i in range(NUM_SIDES):\n",
    "        results[i] = (results[i] / num_rolls) * 100.0\n",
    "    print(results)\n",
    "\n",
    "\n",
    "main()"
   ]
  },
  {
   "cell_type": "code",
   "execution_count": null,
   "metadata": {},
   "outputs": [],
   "source": []
  }
 ],
 "metadata": {
  "kernelspec": {
   "display_name": "Python 3",
   "language": "python",
   "name": "python3"
  },
  "language_info": {
   "codemirror_mode": {
    "name": "ipython",
    "version": 3
   },
   "file_extension": ".py",
   "mimetype": "text/x-python",
   "name": "python",
   "nbconvert_exporter": "python",
   "pygments_lexer": "ipython3",
   "version": "3.6.2"
  }
 },
 "nbformat": 4,
 "nbformat_minor": 4
}
