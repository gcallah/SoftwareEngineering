{
 "cells": [
  {
   "cell_type": "markdown",
   "metadata": {},
   "source": [
    "## Object-Oriented Programming"
   ]
  },
  {
   "cell_type": "markdown",
   "metadata": {},
   "source": [
    "We use classes to build our own types. The class defines what form the class's data takes and what operations can be performed on that data.\n",
    "\n",
    "We have been accessing object's methods all semester:"
   ]
  },
  {
   "cell_type": "code",
   "execution_count": null,
   "metadata": {},
   "outputs": [],
   "source": [
    "s = \"hello\"\n",
    "old_s = s\n",
    "s = s.capitalize()\n",
    "print(\"s = \", s)\n",
    "print(\"old_s = \", old_s)"
   ]
  },
  {
   "cell_type": "code",
   "execution_count": null,
   "metadata": {},
   "outputs": [],
   "source": [
    "s = \"Hello\"\n",
    "len(s)"
   ]
  },
  {
   "cell_type": "markdown",
   "metadata": {},
   "source": [
    "**Quiz**: What method did we access above?\n",
    "\n",
    "a) `s.length()`  \n",
    "b) `s.len()`  \n",
    "c) `s.__len__()`  \n",
    "d) `s._len()`  "
   ]
  },
  {
   "cell_type": "code",
   "execution_count": null,
   "metadata": {},
   "outputs": [],
   "source": [
    "# always write:\n",
    "print(len(s))\n",
    "# never write:\n",
    "print(s.__len__())"
   ]
  },
  {
   "cell_type": "markdown",
   "metadata": {},
   "source": [
    "Then, from those classes, we create objects to represent one instance of data that has the form of the class.\n",
    "\n",
    "A short definition: an *object* is some data and some code \"packaged\" together."
   ]
  },
  {
   "cell_type": "markdown",
   "metadata": {},
   "source": [
    "### Built-In Classes and Instances\n",
    "\n",
    "Data structures that are built into the language already are defined as a class:\n",
    "`list`, `tuple`, `dict`, `string`, etc.\n",
    "\n",
    "You can make an instance of these using the built-in constructors:"
   ]
  },
  {
   "cell_type": "code",
   "execution_count": null,
   "metadata": {},
   "outputs": [],
   "source": [
    "some_list = [1, 2, 3] \n",
    "some_dict = dict(food=1, beverage=2, desert=3)\n",
    "string = str(123.4)"
   ]
  },
  {
   "cell_type": "code",
   "execution_count": null,
   "metadata": {},
   "outputs": [],
   "source": [
    "print(type(some_list), type(some_dict), type(string))"
   ]
  },
  {
   "cell_type": "markdown",
   "metadata": {},
   "source": [
    "### Let's make our own class!\n",
    "\n",
    "We are going to create a simple (to start) class that defines a student.\n",
    "\n",
    "The first parameter to the methods below, `self`, is a special parameter that is the object a method is being called upon. (**Note**: Python **does not** require you name this parameter `self`. But *every* Python programmer does so! Don't call it anything else!)"
   ]
  },
  {
   "cell_type": "code",
   "execution_count": 50,
   "metadata": {},
   "outputs": [],
   "source": [
    "class Student():\n",
    "    '''\n",
    "    A simple Student class to represent a single student at NYU.\n",
    "    `__init__()`, `__str__()` and `__len__()`\n",
    "        are instances of *dunder* methods.\n",
    "    `__init__()` *initializes* the object.\n",
    "    '''\n",
    "    def __init__(self, first, last, nyu_id):   # initializer\n",
    "        print(\"In __init__()!\")\n",
    "        self.first_name = first\n",
    "        self.last_name = last\n",
    "        self.nyu_id = nyu_id\n",
    "        \n",
    "    def __str__(self):\n",
    "        '''Create a nice str rep of a student'''\n",
    "        return \"{} {}: ({})\".format(self.first_name,\n",
    "                                    self.last_name,\n",
    "                                    self.nyu_id)\n",
    "\n",
    "    def __len__(self):\n",
    "        '''\n",
    "        Let us make the len() of a student\n",
    "        be the len of first + len of last name\n",
    "        '''\n",
    "        return len(self.first_name) + len(self.last_name)"
   ]
  },
  {
   "cell_type": "markdown",
   "metadata": {},
   "source": [
    "Let's create some `Student` objects:"
   ]
  },
  {
   "cell_type": "code",
   "execution_count": 4,
   "metadata": {},
   "outputs": [
    {
     "name": "stdout",
     "output_type": "stream",
     "text": [
      "In __init__()!\n",
      "In __init__()!\n",
      "Porgie Tirebiter: (N23423)\n",
      "Porgie Tirebiter: (N23423)\n",
      "Porgie Tirebiter: (N23423)\n",
      "15\n",
      "2\n"
     ]
    }
   ],
   "source": [
    "new_student = Student(\"Porgie\", \"Tirebiter\", \"N23423\")\n",
    "another_student = Student(\"X\", \"Y\", \"N20099\")\n",
    "print(new_student)\n",
    "# we *could* write:\n",
    "s = new_student.__str__()\n",
    "print(s)\n",
    "# but instead we *should* write:\n",
    "s = str(new_student)\n",
    "print(s)\n",
    "print(len(new_student))\n",
    "print(len(another_student))"
   ]
  },
  {
   "cell_type": "markdown",
   "metadata": {},
   "source": [
    "Why should we use `str(new_student)`? It is easier to read!"
   ]
  },
  {
   "cell_type": "markdown",
   "metadata": {},
   "source": [
    "How does Python do use these \"magic\" methods?\n",
    "\n",
    "Let's make our own version of `len()` and call it `length()`:"
   ]
  },
  {
   "cell_type": "code",
   "execution_count": 5,
   "metadata": {},
   "outputs": [
    {
     "name": "stdout",
     "output_type": "stream",
     "text": [
      "15\n",
      "12\n"
     ]
    },
    {
     "ename": "TypeError",
     "evalue": "object of type <class 'int'> has no len()",
     "output_type": "error",
     "traceback": [
      "\u001b[0;31m---------------------------------------------------------------------------\u001b[0m",
      "\u001b[0;31mTypeError\u001b[0m                                 Traceback (most recent call last)",
      "\u001b[0;32m<ipython-input-5-cfa14eeb4513>\u001b[0m in \u001b[0;36m<module>\u001b[0;34m\u001b[0m\n\u001b[1;32m      7\u001b[0m \u001b[0mprint\u001b[0m\u001b[0;34m(\u001b[0m\u001b[0mlength\u001b[0m\u001b[0;34m(\u001b[0m\u001b[0mnew_student\u001b[0m\u001b[0;34m)\u001b[0m\u001b[0;34m)\u001b[0m\u001b[0;34m\u001b[0m\u001b[0;34m\u001b[0m\u001b[0m\n\u001b[1;32m      8\u001b[0m \u001b[0mprint\u001b[0m\u001b[0;34m(\u001b[0m\u001b[0mlength\u001b[0m\u001b[0;34m(\u001b[0m\u001b[0;34m\"Hello world!\"\u001b[0m\u001b[0;34m)\u001b[0m\u001b[0;34m)\u001b[0m\u001b[0;34m\u001b[0m\u001b[0;34m\u001b[0m\u001b[0m\n\u001b[0;32m----> 9\u001b[0;31m \u001b[0mprint\u001b[0m\u001b[0;34m(\u001b[0m\u001b[0mlength\u001b[0m\u001b[0;34m(\u001b[0m\u001b[0;36m100\u001b[0m\u001b[0;34m)\u001b[0m\u001b[0;34m)\u001b[0m\u001b[0;34m\u001b[0m\u001b[0;34m\u001b[0m\u001b[0m\n\u001b[0m\u001b[1;32m     10\u001b[0m \u001b[0;31m# print(len(100))\u001b[0m\u001b[0;34m\u001b[0m\u001b[0;34m\u001b[0m\u001b[0;34m\u001b[0m\u001b[0m\n",
      "\u001b[0;32m<ipython-input-5-cfa14eeb4513>\u001b[0m in \u001b[0;36mlength\u001b[0;34m(obj)\u001b[0m\n\u001b[1;32m      3\u001b[0m         \u001b[0;32mreturn\u001b[0m \u001b[0mobj\u001b[0m\u001b[0;34m.\u001b[0m\u001b[0m__len__\u001b[0m\u001b[0;34m(\u001b[0m\u001b[0;34m)\u001b[0m\u001b[0;34m\u001b[0m\u001b[0;34m\u001b[0m\u001b[0m\n\u001b[1;32m      4\u001b[0m     \u001b[0;32melse\u001b[0m\u001b[0;34m:\u001b[0m\u001b[0;34m\u001b[0m\u001b[0;34m\u001b[0m\u001b[0m\n\u001b[0;32m----> 5\u001b[0;31m         \u001b[0;32mraise\u001b[0m\u001b[0;34m(\u001b[0m\u001b[0mTypeError\u001b[0m\u001b[0;34m(\u001b[0m\u001b[0;34m\"object of type {} has no len()\"\u001b[0m\u001b[0;34m.\u001b[0m\u001b[0mformat\u001b[0m\u001b[0;34m(\u001b[0m\u001b[0mtype\u001b[0m\u001b[0;34m(\u001b[0m\u001b[0mobj\u001b[0m\u001b[0;34m)\u001b[0m\u001b[0;34m)\u001b[0m\u001b[0;34m)\u001b[0m\u001b[0;34m)\u001b[0m\u001b[0;34m\u001b[0m\u001b[0;34m\u001b[0m\u001b[0m\n\u001b[0m\u001b[1;32m      6\u001b[0m \u001b[0;34m\u001b[0m\u001b[0m\n\u001b[1;32m      7\u001b[0m \u001b[0mprint\u001b[0m\u001b[0;34m(\u001b[0m\u001b[0mlength\u001b[0m\u001b[0;34m(\u001b[0m\u001b[0mnew_student\u001b[0m\u001b[0;34m)\u001b[0m\u001b[0;34m)\u001b[0m\u001b[0;34m\u001b[0m\u001b[0;34m\u001b[0m\u001b[0m\n",
      "\u001b[0;31mTypeError\u001b[0m: object of type <class 'int'> has no len()"
     ]
    }
   ],
   "source": [
    "def length(obj):\n",
    "    if hasattr(obj, '__len__'):\n",
    "        return obj.__len__()\n",
    "    else:\n",
    "        raise(TypeError(\"object of type {} has no len()\".format(type(obj))))\n",
    "\n",
    "print(length(new_student))\n",
    "print(length(\"Hello world!\"))\n",
    "# print(length(100))\n",
    "# print(len(100))"
   ]
  },
  {
   "cell_type": "markdown",
   "metadata": {},
   "source": [
    "Objects have data attributes that are stored within the object.\n",
    "\n",
    "Objects can be interacted with via their methods, which may or may not change the attribute's values in the object.\n",
    "\n",
    "Think of a class as a blueprint for making objects.  A blueprint is a document that defines how to construct a building (house, etc.) You can make variations from that, but the blueprint can be used over and over again to make houses that have the same design (number of rooms, number of bathrooms, placement of windows), but different attribute values (color of front door, size of walkway, flooring material).\n",
    "\n",
    "`student_name` is a specific object that has been created and intialized (instantiated)."
   ]
  },
  {
   "cell_type": "code",
   "execution_count": null,
   "metadata": {},
   "outputs": [],
   "source": [
    "student_name = \"Anakin Skywalker\"\n",
    "revised_name = student_name.lower() \n",
    "print(revised_name)\n",
    "print(id(student_name), id(revised_name))"
   ]
  },
  {
   "cell_type": "markdown",
   "metadata": {},
   "source": [
    "`another_student` is a second string object:"
   ]
  },
  {
   "cell_type": "code",
   "execution_count": null,
   "metadata": {},
   "outputs": [],
   "source": [
    "another_student = \"Kylo Ren\"\n",
    "print(id(another_student))"
   ]
  },
  {
   "cell_type": "markdown",
   "metadata": {},
   "source": [
    "We can see the details of a class by calling the built-in `dir()` function:"
   ]
  },
  {
   "cell_type": "code",
   "execution_count": 51,
   "metadata": {},
   "outputs": [
    {
     "data": {
      "text/plain": [
       "['__class__',\n",
       " '__delattr__',\n",
       " '__dict__',\n",
       " '__dir__',\n",
       " '__doc__',\n",
       " '__eq__',\n",
       " '__format__',\n",
       " '__ge__',\n",
       " '__getattribute__',\n",
       " '__gt__',\n",
       " '__hash__',\n",
       " '__init__',\n",
       " '__init_subclass__',\n",
       " '__le__',\n",
       " '__len__',\n",
       " '__lt__',\n",
       " '__module__',\n",
       " '__ne__',\n",
       " '__new__',\n",
       " '__reduce__',\n",
       " '__reduce_ex__',\n",
       " '__repr__',\n",
       " '__setattr__',\n",
       " '__sizeof__',\n",
       " '__str__',\n",
       " '__subclasshook__',\n",
       " '__weakref__']"
      ]
     },
     "execution_count": 51,
     "metadata": {},
     "output_type": "execute_result"
    }
   ],
   "source": [
    "dir(Student)"
   ]
  },
  {
   "cell_type": "markdown",
   "metadata": {},
   "source": [
    "(All of that \"other stuff\" we didn't write comes from the default parent class `object`.)"
   ]
  },
  {
   "cell_type": "code",
   "execution_count": 52,
   "metadata": {},
   "outputs": [
    {
     "data": {
      "text/plain": [
       "['__class__',\n",
       " '__delattr__',\n",
       " '__dir__',\n",
       " '__doc__',\n",
       " '__eq__',\n",
       " '__format__',\n",
       " '__ge__',\n",
       " '__getattribute__',\n",
       " '__gt__',\n",
       " '__hash__',\n",
       " '__init__',\n",
       " '__init_subclass__',\n",
       " '__le__',\n",
       " '__lt__',\n",
       " '__ne__',\n",
       " '__new__',\n",
       " '__reduce__',\n",
       " '__reduce_ex__',\n",
       " '__repr__',\n",
       " '__setattr__',\n",
       " '__sizeof__',\n",
       " '__str__',\n",
       " '__subclasshook__']"
      ]
     },
     "execution_count": 52,
     "metadata": {},
     "output_type": "execute_result"
    }
   ],
   "source": [
    "dir(object)"
   ]
  },
  {
   "cell_type": "markdown",
   "metadata": {},
   "source": [
    "### Terminology Notes\n",
    "\n",
    "**Class**: class is a template for making a new object of a given type (like `int`, `string`, or your own type)\n",
    "\n",
    "**Instance**: an object made from a class is an *instance* of that class (student_name is a `str` instance).\n",
    "\n",
    "Class can \"stamp out\" instances (as many as we want), like a cookie cutter.\n",
    "\n",
    "<img src=\"https://upload.wikimedia.org/wikipedia/commons/thumb/1/14/Motlle_crespellines.jpg/440px-Motlle_crespellines.jpg\" width=\"30%\">\n",
    "\n",
    "The `int` type is a class which models the representation of an integer, which includes operations that can be performed on instances of the int type. "
   ]
  },
  {
   "cell_type": "markdown",
   "metadata": {},
   "source": [
    "### Dunder methods\n",
    "\n",
    "These are special methods for objects that have a *double underscore* to start and end the name of the method.\n",
    "\n",
    "We've already met `__init__()` and `__str__()`. There are many more. They allow our class to respond properly to built-in Python functions and operators."
   ]
  },
  {
   "cell_type": "code",
   "execution_count": null,
   "metadata": {},
   "outputs": [],
   "source": [
    "class FunnyString(object):\n",
    "    '''A ridiculously behaved class.'''\n",
    "    def __init__(self, value):\n",
    "        if not isinstance(value, str):\n",
    "            raise(ValueError(\"{} is not a str\".format(value)))\n",
    "        self.value = value\n",
    "\n",
    "    def __eq__(self, other):\n",
    "        # all FunnyStrings are unequal, even to themselves!\n",
    "        return False\n",
    "    \n",
    "    def __gt__(self, other):\n",
    "        # all FunnyStrings are greater than all others!\n",
    "        return True\n",
    "\n",
    "    def __str__(self):\n",
    "        return str(self.value)\n",
    "    \n",
    "    def __len__(self):\n",
    "        return 5000000\n",
    "    \n",
    "    def __add__(self, str2):\n",
    "#    str1 + str2 => str1.__add__(str2)\n",
    "        temp = self.value\n",
    "        self.value = str2.value\n",
    "        str2.value = temp\n",
    "\n",
    "    def __sub__(self, param2):\n",
    "        new_str = self.value\n",
    "        for c in param2.value:\n",
    "            new_str = new_str.replace(c, '')\n",
    "        return FunnyString(new_str)\n",
    "    \n",
    "    def __mul__(self, param2):\n",
    "        return 42\n",
    "    \n",
    "    def __call__(self):\n",
    "        return \"You called?\""
   ]
  },
  {
   "cell_type": "code",
   "execution_count": null,
   "metadata": {},
   "outputs": [],
   "source": [
    "the_string = \"DO NOT WRITE ON THE BACK OF ANY PAGE!\"\n",
    "print('The length of the string the_string is {}.'.format(len(the_string)))"
   ]
  },
  {
   "cell_type": "code",
   "execution_count": null,
   "metadata": {},
   "outputs": [],
   "source": [
    "a_string = FunnyString(the_string)\n",
    "print('The value of a_string is {}.'.format(a_string))\n",
    "print('The length of a_string is {}.'.format(len(a_string)))\n",
    "print(\"Is a_string equal to itself?\", a_string == a_string)\n",
    "print(\"Is a_string greater than itself?\", a_string > a_string)"
   ]
  },
  {
   "cell_type": "code",
   "execution_count": null,
   "metadata": {},
   "outputs": [],
   "source": [
    "b_string = FunnyString(\"RUTGERS\")\n",
    "print(\"Is b_string greater than a_string?\",\n",
    "      b_string > a_string)\n",
    "print(\"Is a_string greater than b_string?\",\n",
    "      a_string > b_string)\n",
    "result = a_string - b_string\n",
    "print(a_string)\n",
    "print(b_string)\n",
    "print(result)"
   ]
  },
  {
   "cell_type": "code",
   "execution_count": null,
   "metadata": {},
   "outputs": [],
   "source": [
    "print(type(result))\n",
    "print(a_string * b_string)"
   ]
  },
  {
   "cell_type": "code",
   "execution_count": null,
   "metadata": {},
   "outputs": [],
   "source": [
    "a_string()"
   ]
  },
  {
   "cell_type": "markdown",
   "metadata": {},
   "source": [
    "### Example: Let's Play Dice!\n",
    "\n",
    "First, we will create our `Die` object:"
   ]
  },
  {
   "cell_type": "code",
   "execution_count": 36,
   "metadata": {},
   "outputs": [],
   "source": [
    "import random\n",
    "\n",
    "DEF_FACES = 6\n",
    "\n",
    "class Die():\n",
    "    '''\n",
    "    A class to represent a die for playing games with.\n",
    "    Contains two data members:\n",
    "    num_faces: how many faces does this die have?\n",
    "    up_face: which face is up?\n",
    "    '''\n",
    "    def __init__(self, faces=DEF_FACES):\n",
    "        print(\"In init\")\n",
    "        if not isinstance(faces, int):\n",
    "            raise(TypeError(\"faces must be an integer\"))\n",
    "        if faces < 2:\n",
    "            raise(ValueError(\"faces must be > 1\"))\n",
    "        # num_faces = faces\n",
    "        self.num_faces = faces\n",
    "        self.up_face = None\n",
    "        self.has_rolled = False\n",
    "\n",
    "    def roll(self):\n",
    "        self.up_face = random.randint(1, self.num_faces)\n",
    "        self.has_rolled = True\n",
    "\n",
    "    def get_value(self):\n",
    "        if self.up_face is None:\n",
    "            raise(ValueError(\"Must roll before getting value!\"))\n",
    "        return self.up_face\n",
    "    \n",
    "    def __str__(self):\n",
    "        return \"{}-sided die with face value of {}\".format(self.num_faces, \n",
    "                                                           self.get_value())\n",
    "    \n",
    "    def __call__(self):\n",
    "        self.roll()"
   ]
  },
  {
   "cell_type": "code",
   "execution_count": 38,
   "metadata": {},
   "outputs": [
    {
     "name": "stdout",
     "output_type": "stream",
     "text": [
      "In init\n",
      "True\n",
      "new_die value =  4\n",
      "6-sided die with face value of 4\n",
      "In init\n",
      "unusual_die value =  18\n",
      "unusual_die value =  14\n"
     ]
    }
   ],
   "source": [
    "new_die = Die()\n",
    "new_die()\n",
    "print(new_die.has_rolled)\n",
    "print(\"new_die value = \", new_die.get_value())\n",
    "print(new_die)\n",
    "unusual_die = Die(faces=20)\n",
    "unusual_die()\n",
    "print(\"unusual_die value = \", unusual_die.get_value())\n",
    "unusual_die()\n",
    "print(\"unusual_die value = \", unusual_die.get_value())"
   ]
  },
  {
   "cell_type": "code",
   "execution_count": 24,
   "metadata": {},
   "outputs": [
    {
     "name": "stdout",
     "output_type": "stream",
     "text": [
      "['__annotations__', '__call__', '__class__', '__closure__', '__code__', '__defaults__', '__delattr__', '__dict__', '__dir__', '__doc__', '__eq__', '__format__', '__ge__', '__get__', '__getattribute__', '__globals__', '__gt__', '__hash__', '__init__', '__init_subclass__', '__kwdefaults__', '__le__', '__lt__', '__module__', '__name__', '__ne__', '__new__', '__qualname__', '__reduce__', '__reduce_ex__', '__repr__', '__setattr__', '__sizeof__', '__str__', '__subclasshook__']\n"
     ]
    },
    {
     "data": {
      "text/plain": [
       "function"
      ]
     },
     "execution_count": 24,
     "metadata": {},
     "output_type": "execute_result"
    }
   ],
   "source": [
    "def f(g):\n",
    "    return g ** 4\n",
    "\n",
    "print(dir(f))\n",
    "f.__class__"
   ]
  },
  {
   "cell_type": "markdown",
   "metadata": {},
   "source": [
    "<hr>\n",
    "<img src=\"https://upload.wikimedia.org/wikipedia/commons/thumb/c/c9/Lawoflargenumbers.svg/800px-Lawoflargenumbers.svg.png\" width=\"30%\">\n",
    "\n",
    "Now let's use our class to explore the [law of large numbers](https://en.wikipedia.org/wiki/Law_of_large_numbers):"
   ]
  },
  {
   "cell_type": "code",
   "execution_count": 23,
   "metadata": {},
   "outputs": [
    {
     "name": "stdout",
     "output_type": "stream",
     "text": [
      "  1:      97\n",
      "  2:      89\n",
      "  3:      97\n",
      "  4:     100\n",
      "  5:     104\n",
      "  6:     106\n",
      "  7:      91\n",
      "  8:      97\n",
      "  9:     121\n",
      " 10:      98\n"
     ]
    }
   ],
   "source": [
    "SAMPLE_SIZE = 1000\n",
    "FACES = 10\n",
    "rolls = [0]*(FACES+1)  # we waste slot 0!\n",
    "\n",
    "die = Die(FACES)\n",
    "for i in range(SAMPLE_SIZE):\n",
    "    die.roll()\n",
    "    rolls[die.get_value()] += 1\n",
    "\n",
    "for roll, count in enumerate(rolls):\n",
    "    if roll == 0:\n",
    "        continue\n",
    "    print(\"{:3d}: {:7d}\".format(roll, count))"
   ]
  },
  {
   "cell_type": "markdown",
   "metadata": {},
   "source": [
    "### A Playlist App\n",
    "\n",
    "This is another example of creating our own classes:"
   ]
  },
  {
   "cell_type": "code",
   "execution_count": 24,
   "metadata": {},
   "outputs": [],
   "source": [
    "class Song:\n",
    "    def __init__(self, artist, title, label=\"Unknown Label\",\n",
    "                 runtime=(0, 0), genre=None):\n",
    "        self.artist = artist\n",
    "        self.title = title\n",
    "        self.label = label\n",
    "        self.runtime = runtime\n",
    "        self.genre = genre\n",
    "    \n",
    "    def __str__(self):\n",
    "        return \"'{}' by {} ({}): {:d}:{:02d}, Genre: {}\".format(self.title,\n",
    "                                                     self.artist,\n",
    "                                                     self.label,\n",
    "                                                     self.runtime[0],\n",
    "                                                     self.runtime[1],\n",
    "                                                     self.genre)\n",
    "\n",
    "    # def __repr__(self):\n",
    "    #    return self.__str__()"
   ]
  },
  {
   "cell_type": "code",
   "execution_count": 25,
   "metadata": {},
   "outputs": [
    {
     "name": "stdout",
     "output_type": "stream",
     "text": [
      "'My Song' by Elton John (Unknown Label): 0:00, Genre: None\n"
     ]
    }
   ],
   "source": [
    "my_song = Song(\"Elton John\", \"My Song\")\n",
    "print(my_song)"
   ]
  },
  {
   "cell_type": "code",
   "execution_count": 44,
   "metadata": {},
   "outputs": [],
   "source": [
    "class Playlist:\n",
    "    def __init__(self, name, songs=[]):\n",
    "        self.name = name\n",
    "        self.songs = songs.copy()  # or deepcopy()?\n",
    "        # self.titles = {}\n",
    "\n",
    "    def add_song(self, artist, title, record_label=None,\n",
    "                 runtime=None, genre=None):\n",
    "        song = Song(artist, title, record_label, runtime, genre)\n",
    "        self.songs.append(song)\n",
    "        # let's make sure that self.titles[song.titles] is the *same*\n",
    "        # object as self.songs[-1]\n",
    "        # print(\"Are the objects stored on the list and dict the same?\",\n",
    "        #      self.titles[song.title] is self.songs[-1])\n",
    "\n",
    "    def __len__(self):\n",
    "        return len(self.songs)\n",
    "    \n",
    "    def get_total_runtime(self):\n",
    "        total_minutes = 0\n",
    "        total_seconds = 0\n",
    "        for songs in self.songs:\n",
    "            total_minutes += songs.runtime[0]\n",
    "            total_seconds += songs.runtime[1]\n",
    "        \n",
    "        total_minutes += total_seconds // 60\n",
    "        total_seconds = total_seconds % 60\n",
    "        return (total_minutes, total_seconds)\n",
    "\n",
    "    def __add__(self, other):\n",
    "        return Playlist(self.name + \" + \" + other.name, self.songs + other.songs)\n",
    "    \n",
    "    def __mul__(self, num_times):\n",
    "        return Playlist(self.name + \" * \" + str(num_times), self.songs * num_times)\n",
    "   \n",
    "    def __str__(self):\n",
    "        totmin, totsec = self.get_total_runtime()\n",
    "        result = \"{} (total run time of {:d}:{:02d})\\n\".format(self.name,\n",
    "                                                               totmin,\n",
    "                                                               totsec)\n",
    "        for song in self.songs:\n",
    "            result += \" \" * 5 + str(song) + \"\\n\"\n",
    "        return result\n",
    "    \n",
    "    # def __iter__(self):\n",
    "    #    return iter(self.songs)\n",
    "    \n",
    "    def __setitem__(self, index, value):\n",
    "        self.songs[index] = value\n",
    "    \n",
    "    def __getitem__(self, index):\n",
    "        return self.songs[index]"
   ]
  },
  {
   "cell_type": "code",
   "execution_count": 46,
   "metadata": {},
   "outputs": [
    {
     "name": "stdout",
     "output_type": "stream",
     "text": [
      "Top 100 - 4/10/20 (total run time of 15:12)\n",
      "     'Toosie Slide' by Drake (Republic): 3:04, Genre: Rap\n",
      "     'Blinding Lights' by The Weeknd (Republic): 3:11, Genre: None\n",
      "     'The Box' by Roddy Ricch (Atlantic Records): 2:59, Genre: None\n",
      "     'The Box' by Troddy Trich (None): 2:59, Genre: None\n",
      "     'Savage' by Megan Thee Stallion (None): 2:59, Genre: None\n",
      "\n"
     ]
    }
   ],
   "source": [
    "hits = Playlist(\"Top 100 - 4/10/20\")\n",
    "\n",
    "hits.add_song(\"Drake\", \"Toosie Slide\", \"Republic\", (3, 4), \"Rap\")\n",
    "hits.add_song(\"The Weeknd\", \"Blinding Lights\", \"Republic\", (3, 11))\n",
    "hits.add_song(\"Roddy Ricch\", \"The Box\", \"Atlantic Records\", (2, 59))\n",
    "hits.add_song(\"Troddy Trich\", \"The Box\", None, (2, 59))\n",
    "hits.add_song(\"Megan Thee Stallion\", \"Savage\", None, (2, 59))\n",
    "print(hits)\n",
    "# print(\"The Box?\", hits.find_title(\"The Box\"))\n",
    "# print(\"The Shoe Box?\", hits.find_title(\"The Shoe Box\"))\n",
    "# print(hits)"
   ]
  },
  {
   "cell_type": "code",
   "execution_count": 47,
   "metadata": {},
   "outputs": [
    {
     "name": "stdout",
     "output_type": "stream",
     "text": [
      "'Toosie Slide' by Drake (Republic): 3:04, Genre: Rap\n",
      "'Blinding Lights' by The Weeknd (Republic): 3:11, Genre: None\n",
      "'The Box' by Roddy Ricch (Atlantic Records): 2:59, Genre: None\n",
      "'The Box' by Troddy Trich (None): 2:59, Genre: None\n",
      "'Savage' by Megan Thee Stallion (None): 2:59, Genre: None\n",
      "\n",
      " 'The Box' by Roddy Ricch (Atlantic Records): 2:59, Genre: None\n",
      "5\n"
     ]
    },
    {
     "data": {
      "text/plain": [
       "['__add__',\n",
       " '__class__',\n",
       " '__delattr__',\n",
       " '__dict__',\n",
       " '__dir__',\n",
       " '__doc__',\n",
       " '__eq__',\n",
       " '__format__',\n",
       " '__ge__',\n",
       " '__getattribute__',\n",
       " '__getitem__',\n",
       " '__gt__',\n",
       " '__hash__',\n",
       " '__init__',\n",
       " '__init_subclass__',\n",
       " '__le__',\n",
       " '__len__',\n",
       " '__lt__',\n",
       " '__module__',\n",
       " '__mul__',\n",
       " '__ne__',\n",
       " '__new__',\n",
       " '__reduce__',\n",
       " '__reduce_ex__',\n",
       " '__repr__',\n",
       " '__setattr__',\n",
       " '__setitem__',\n",
       " '__sizeof__',\n",
       " '__str__',\n",
       " '__subclasshook__',\n",
       " '__weakref__',\n",
       " 'add_song',\n",
       " 'get_total_runtime',\n",
       " 'name',\n",
       " 'songs']"
      ]
     },
     "execution_count": 47,
     "metadata": {},
     "output_type": "execute_result"
    }
   ],
   "source": [
    "for song in hits:\n",
    "    print(song)\n",
    "\n",
    "print(\"\\n\", hits[2])\n",
    "hits[2] = my_song\n",
    "print(len(hits))\n",
    "# dir(hits)"
   ]
  },
  {
   "cell_type": "code",
   "execution_count": 49,
   "metadata": {
    "scrolled": true
   },
   "outputs": [
    {
     "name": "stdout",
     "output_type": "stream",
     "text": [
      "Fela * 4 (total run time of 111:12)\n",
      "     'Mr. Follow Follow' by Fela Kuti (Island): 12:04, Genre: Afrobeat\n",
      "     'I Be Lady' by Fela Kuti (Island): 15:44, Genre: Afrobeat\n",
      "     'Mr. Follow Follow' by Fela Kuti (Island): 12:04, Genre: Afrobeat\n",
      "     'I Be Lady' by Fela Kuti (Island): 15:44, Genre: Afrobeat\n",
      "     'Mr. Follow Follow' by Fela Kuti (Island): 12:04, Genre: Afrobeat\n",
      "     'I Be Lady' by Fela Kuti (Island): 15:44, Genre: Afrobeat\n",
      "     'Mr. Follow Follow' by Fela Kuti (Island): 12:04, Genre: Afrobeat\n",
      "     'I Be Lady' by Fela Kuti (Island): 15:44, Genre: Afrobeat\n",
      "\n",
      "Top 100 - 4/10/20 + Fela * 4 + Top 100 - 4/10/20 (total run time of 135:38)\n",
      "     'Toosie Slide' by Drake (Republic): 3:04, Genre: Rap\n",
      "     'Blinding Lights' by The Weeknd (Republic): 3:11, Genre: None\n",
      "     'My Song' by Elton John (Unknown Label): 0:00, Genre: None\n",
      "     'The Box' by Troddy Trich (None): 2:59, Genre: None\n",
      "     'Savage' by Megan Thee Stallion (None): 2:59, Genre: None\n",
      "     'Mr. Follow Follow' by Fela Kuti (Island): 12:04, Genre: Afrobeat\n",
      "     'I Be Lady' by Fela Kuti (Island): 15:44, Genre: Afrobeat\n",
      "     'Mr. Follow Follow' by Fela Kuti (Island): 12:04, Genre: Afrobeat\n",
      "     'I Be Lady' by Fela Kuti (Island): 15:44, Genre: Afrobeat\n",
      "     'Mr. Follow Follow' by Fela Kuti (Island): 12:04, Genre: Afrobeat\n",
      "     'I Be Lady' by Fela Kuti (Island): 15:44, Genre: Afrobeat\n",
      "     'Mr. Follow Follow' by Fela Kuti (Island): 12:04, Genre: Afrobeat\n",
      "     'I Be Lady' by Fela Kuti (Island): 15:44, Genre: Afrobeat\n",
      "     'Toosie Slide' by Drake (Republic): 3:04, Genre: Rap\n",
      "     'Blinding Lights' by The Weeknd (Republic): 3:11, Genre: None\n",
      "     'My Song' by Elton John (Unknown Label): 0:00, Genre: None\n",
      "     'The Box' by Troddy Trich (None): 2:59, Genre: None\n",
      "     'Savage' by Megan Thee Stallion (None): 2:59, Genre: None\n",
      "\n"
     ]
    },
    {
     "data": {
      "text/plain": [
       "1"
      ]
     },
     "execution_count": 49,
     "metadata": {},
     "output_type": "execute_result"
    }
   ],
   "source": [
    "fela = Playlist(\"Fela\", [])\n",
    "fela.add_song(\"Fela Kuti\", \"Mr. Follow Follow\", \"Island\", (12, 4), \"Afrobeat\")\n",
    "fela.add_song(\"Fela Kuti\", \"I Be Lady\", \"Island\", (15, 44), \"Afrobeat\")\n",
    "\n",
    "# print(fela)\n",
    "\n",
    "lots_of_fela = fela * 4\n",
    "print(lots_of_fela)\n",
    "\n",
    "combined_list = hits + lots_of_fela + hits\n",
    "\n",
    "print(combined_list)\n",
    "'''\n",
    "print(\"6th item in list:\", combined_list[5])\n",
    "'''\n",
    "1"
   ]
  },
  {
   "cell_type": "markdown",
   "metadata": {},
   "source": [
    "#### A Complex Number Class"
   ]
  },
  {
   "cell_type": "code",
   "execution_count": 17,
   "metadata": {},
   "outputs": [],
   "source": [
    "class Complex(object):\n",
    "    '''\n",
    "    A complex number class.\n",
    "    We will use lots of dunder methods here!\n",
    "    '''\n",
    "    def __init__(self, real=0.0, imag=0.0):\n",
    "        self.real = real\n",
    "        self.imag = imag\n",
    "\n",
    "    def __str__(self):\n",
    "        return str(self.real) + \" + \" + str(self.imag) + 'i'\n",
    "    \n",
    "    def __sub__(self, other):\n",
    "        return Complex(self.real - other.real,\n",
    "                       self.imag - other.imag)\n",
    "    \n",
    "    def __add__(self, other):\n",
    "        return Complex(self.real + other.real,\n",
    "                       self.imag + other.imag)\n",
    "\n",
    "    def __iadd__(self, other):\n",
    "        self.real += other.real\n",
    "        self.imag += other.imag\n",
    "        return self\n",
    "    \n",
    "    def __gt__(self, other):\n",
    "        return (self.real > other.real) and (self.imag > other.imag)\n",
    "    \n",
    "    def __eq__(self, other):\n",
    "        return (self.real == other.real) and (self.imag == other.imag)"
   ]
  },
  {
   "cell_type": "markdown",
   "metadata": {},
   "source": [
    "Having written our class, we should make sure it works:"
   ]
  },
  {
   "cell_type": "code",
   "execution_count": 18,
   "metadata": {},
   "outputs": [
    {
     "name": "stdout",
     "output_type": "stream",
     "text": [
      "2.0 + 2.0i\n",
      "1.0 + 1.0i\n",
      "complex_var before += 3.0 + 3.0i\n"
     ]
    }
   ],
   "source": [
    "two = Complex(2.0, 2.0)\n",
    "one = Complex(1.0, 1.0)\n",
    "other_four = Complex(4.0, 4.0)\n",
    "print(two)   # equivalent to print(str(zero))\n",
    "print(one)\n",
    "complex_var = two + one\n",
    "print(\"complex_var before +=\", complex_var)"
   ]
  },
  {
   "cell_type": "code",
   "execution_count": 19,
   "metadata": {},
   "outputs": [
    {
     "name": "stdout",
     "output_type": "stream",
     "text": [
      "complex_var after += 5.0 + 5.0i\n",
      "four =  4.0 + 4.0i\n",
      "four > one: True\n",
      "four == four: True\n",
      "four == other_four: True\n",
      "id(four), id(other_four): 140606501220608 140606501374320\n"
     ]
    }
   ],
   "source": [
    "complex_var += two\n",
    "print(\"complex_var after +=\", complex_var)\n",
    "four = complex_var - one\n",
    "print(\"four = \", four)\n",
    "print(\"four > one:\", four > one)\n",
    "print(\"four == four:\", four == four)\n",
    "print(\"four == other_four:\", four == other_four)\n",
    "print(\"id(four), id(other_four):\", id(four), id(other_four))"
   ]
  },
  {
   "cell_type": "markdown",
   "metadata": {},
   "source": [
    "#### Some Dunder Methods"
   ]
  },
  {
   "cell_type": "markdown",
   "metadata": {},
   "source": [
    "#### Math\n",
    "\n",
    "- `__add__()`: Addition --> x+y\n",
    "\n",
    "- `__sub__()`: Subtraction --> x-y\n",
    "\n",
    "- `__mul__()`: Multiplication --> x*y\n",
    "\n",
    "- `__div__()`: Division --> x/y\n",
    "\n",
    "- `__iadd__()`: +=\n",
    "\n",
    "- `__isub__()`: -=\n",
    "\n",
    "- `__imul__()`: *=\n",
    "\n",
    "- `__idiv__()`: /=\n",
    "\n",
    "\n",
    "\n",
    "#### Comparisons\n",
    "\n",
    "- `__eq__()`: Equality --> x == y\n",
    "\n",
    "- `__gt__()`: Greater Than --> x > y\n",
    "\n",
    "- `__ge__()`: Greater Than Or Equal --> x >= y\n",
    "\n",
    "- `__lt__()`: Less Than --> x < y\n",
    "\n",
    "- `__le__()`: Less Than Or Equal --> x <= y\n",
    "\n",
    "- `__ne__()`: Not Equal --> x != y\n",
    "\n",
    "\n",
    "#### Collections\n",
    "\n",
    "- `__len__()`: Length --> len(x)\n",
    "\n",
    "- `__contains__()`: Does the sequence x, contain y --> x in y\n",
    "\n",
    "- `__getitem__()`: Access element key of sequence x --> x[key]\n",
    "\n",
    "- `__setitem__()`: Set element key of sequence x to value y -> x[key]=y\n",
    "\n",
    "- `__iter__()`: Return an iterator over the collection.\n",
    "\n",
    "\n",
    "#### General methods\n",
    "\n",
    "- `__init__()`: Constructor --> x = MyClass()\n",
    "\n",
    "- `__str__()`: Convert to a readable string --> print(x), str(x)\n",
    "\n",
    "- `__repr__()`: returns a representation of x --> x.__repr__() or repr(x)"
   ]
  },
  {
   "cell_type": "code",
   "execution_count": null,
   "metadata": {},
   "outputs": [],
   "source": []
  }
 ],
 "metadata": {
  "kernelspec": {
   "display_name": "Python 3",
   "language": "python",
   "name": "python3"
  },
  "language_info": {
   "codemirror_mode": {
    "name": "ipython",
    "version": 3
   },
   "file_extension": ".py",
   "mimetype": "text/x-python",
   "name": "python",
   "nbconvert_exporter": "python",
   "pygments_lexer": "ipython3",
   "version": "3.9.0"
  }
 },
 "nbformat": 4,
 "nbformat_minor": 2
}
