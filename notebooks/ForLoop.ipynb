{
 "cells": [
  {
   "cell_type": "markdown",
   "metadata": {},
   "source": [
    "## For Loops\n",
    "\n",
    "Now let us look at looping in Python, so that we can repeatedly perform some action(s) without repeating the same lines of code many times. We will focus on `for` loops, although Python also has `while` loops.\n",
    "\n",
    "A flow diagram of a for loop looks like:\n",
    "\n",
    "<img src=\"https://upload.wikimedia.org/wikipedia/commons/0/06/For-loop-diagram.png\" width=\"20%\">"
   ]
  },
  {
   "cell_type": "markdown",
   "metadata": {},
   "source": [
    "### for each loops"
   ]
  },
  {
   "cell_type": "markdown",
   "metadata": {},
   "source": [
    "\"for each\" is a common name for this kind of loop, even though in Python the word \"each\" does not appear in the code. The name comes from the fact that this sort of loop repeats some code *for each* item in some *sequence*. So let's say you have a *list* (a type of sequence) of numbers (details on lists come a little later in this course, but the basic idea here should be pretty intuitive), and you want to square each one and print the result. You can do this:"
   ]
  },
  {
   "cell_type": "code",
   "execution_count": null,
   "metadata": {},
   "outputs": [],
   "source": [
    "l = [1, 2, 3, 4, 5, 6]\n",
    "for num in l:\n",
    "    print(num ** 2)"
   ]
  },
  {
   "cell_type": "markdown",
   "metadata": {},
   "source": [
    "### ranged for loops"
   ]
  },
  {
   "cell_type": "markdown",
   "metadata": {},
   "source": [
    "A ranged for loop allows us to loop a certain number of times, without needing an underlying data structure. In these loops, we use the `range()` built-in function to generate a sequence, similar to the list we used above. So, without a list, we could get the same result as the code above with:"
   ]
  },
  {
   "cell_type": "code",
   "execution_count": null,
   "metadata": {},
   "outputs": [],
   "source": [
    "for i in range(1, 7):  # same as range(1, 7, 1)\n",
    "    print(i**2)"
   ]
  },
  {
   "cell_type": "markdown",
   "metadata": {},
   "source": [
    "Notice that we had to say `range(1, 7)` to get the squares up to 6! `range` stops one *short* of its second argument.\n",
    "\n",
    "Notice that we could write the same code with a `while` loop, the sort of loop we learned while working with Karel:"
   ]
  },
  {
   "cell_type": "code",
   "execution_count": null,
   "metadata": {},
   "outputs": [],
   "source": [
    "i = 1\n",
    "while i < 7:\n",
    "    print(i**2)\n",
    "    i += 1"
   ]
  },
  {
   "cell_type": "markdown",
   "metadata": {},
   "source": [
    "Also, as is commonly the case, Python let's us skip arguments we don't need, because we are happy with the default choice: if we want to start looping at 0, we can write:"
   ]
  },
  {
   "cell_type": "code",
   "execution_count": null,
   "metadata": {},
   "outputs": [],
   "source": [
    "for i in range(7):  # same as range(0, 7)\n",
    "    print(i**2)"
   ]
  },
  {
   "cell_type": "markdown",
   "metadata": {},
   "source": [
    "What's more, even our first ranged-for was skipping an argument and accepting the default value: we can pass a *third* argument that lets us specify the jump to take between numbers."
   ]
  },
  {
   "cell_type": "code",
   "execution_count": null,
   "metadata": {},
   "outputs": [],
   "source": [
    "for i in range(0, 13, 2):\n",
    "    print(i ** 2)"
   ]
  },
  {
   "cell_type": "markdown",
   "metadata": {},
   "source": [
    "What numbers will the above loop print?\n",
    "\n",
    "a) 0, 1, 4, 9, 16, 25, 36, 49, 64, 81, 100, 121, 144  \n",
    "b) 0, 4, 16, 36, 64, 100, 144  \n",
    "c) 1, 9, 25, 49, 81, 121, 169  "
   ]
  },
  {
   "cell_type": "markdown",
   "metadata": {},
   "source": [
    "In fact, we can use that last argument to loop \"backwards,\" like this:"
   ]
  },
  {
   "cell_type": "code",
   "execution_count": 5,
   "metadata": {},
   "outputs": [
    {
     "name": "stdout",
     "output_type": "stream",
     "text": [
      "10\n",
      "7\n",
      "4\n",
      "1\n"
     ]
    }
   ],
   "source": [
    "for i in range(10, 0, -3):\n",
    "    print(i)"
   ]
  },
  {
   "cell_type": "markdown",
   "metadata": {},
   "source": [
    "Just because the above examples have just a single line of code \"inside\" the loop, don't think that's all we can do! We can put as many lines as we like inside; they just have to all be indented the same amount:"
   ]
  },
  {
   "cell_type": "code",
   "execution_count": null,
   "metadata": {},
   "outputs": [],
   "source": [
    "def loop_test(i):\n",
    "    for i in range(i):\n",
    "        print(i)\n",
    "        j = i ** 2\n",
    "        print(\"Square of i =\", j)\n",
    "        k = i ** .5\n",
    "        print(\"Square root of i =\", k)\n",
    "    print(\"In or out?\")\n",
    "    \n",
    "loop_test(4)"
   ]
  }
 ],
 "metadata": {
  "kernelspec": {
   "display_name": "Python 3",
   "language": "python",
   "name": "python3"
  },
  "language_info": {
   "codemirror_mode": {
    "name": "ipython",
    "version": 3
   },
   "file_extension": ".py",
   "mimetype": "text/x-python",
   "name": "python",
   "nbconvert_exporter": "python",
   "pygments_lexer": "ipython3",
   "version": "3.6.2"
  }
 },
 "nbformat": 4,
 "nbformat_minor": 2
}
