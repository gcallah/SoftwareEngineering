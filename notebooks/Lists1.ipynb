{
 "cells": [
  {
   "cell_type": "markdown",
   "metadata": {},
   "source": [
    "## Lists"
   ]
  },
  {
   "cell_type": "markdown",
   "metadata": {},
   "source": [
    "In Python, *lists* are the way to store a collection of items when you want to address the items by naming their position in the collection.  (What Python calls a list, other languages typically call and *array* or a *vector*.) Lists are a *sequence* type, like strings.\n",
    "\n",
    "Like many languages, Python starts counting from zero, so the \"first\" item is item 0, the second item 1, etc.\n",
    "\n",
    "Some notable features of lists:\n",
    "\n",
    " - Lists can contain a sequence of elements of any type (strings, ints, floats, other lists...)\n",
    " - Lists can even contain differently typed elements in the same list.\n",
    " - Lists are mutable - they can be modified after they are initially created.\n",
    "\n",
    "\n",
    "Here's how to create lists in Python:"
   ]
  },
  {
   "cell_type": "code",
   "execution_count": 2,
   "metadata": {},
   "outputs": [],
   "source": [
    "a_list = [1, 2, 'a', 'string', 3.14159]\n",
    "\n",
    "weekdays = ['Monday', 'Tuesday', 'Wednesday', 'Thursday', 'Friday']\n",
    "\n",
    "empty_list = []\n",
    "\n",
    "list_of_lists = [\n",
    "                  ['NYU', 'Columbia', 'CUNY'],  # 0\n",
    "                  ['BC', 'BU', 'Tufts'],  # 1 \n",
    "                  ['Penn', 'Drexel', 'Temple']  #2\n",
    "                ]\n"
   ]
  },
  {
   "cell_type": "code",
   "execution_count": 3,
   "metadata": {},
   "outputs": [
    {
     "data": {
      "text/plain": [
       "[]"
      ]
     },
     "execution_count": 3,
     "metadata": {},
     "output_type": "execute_result"
    }
   ],
   "source": [
    "empty_list"
   ]
  },
  {
   "cell_type": "code",
   "execution_count": 4,
   "metadata": {},
   "outputs": [
    {
     "data": {
      "text/plain": [
       "[1, 2, 'a', 'string', 3.14159]"
      ]
     },
     "execution_count": 4,
     "metadata": {},
     "output_type": "execute_result"
    }
   ],
   "source": [
    "a_list"
   ]
  },
  {
   "cell_type": "code",
   "execution_count": 8,
   "metadata": {},
   "outputs": [
    {
     "name": "stdout",
     "output_type": "stream",
     "text": [
      "The empty list is False.\n"
     ]
    }
   ],
   "source": [
    "if not empty_list:\n",
    "    print(\"The empty list is False.\")"
   ]
  },
  {
   "cell_type": "markdown",
   "metadata": {},
   "source": [
    "### Accessing lists\n",
    "\n",
    "You can access the entire list, one sepecific element, or a range of elements.\n",
    "\n",
    "`print()` can print the whole list for you:"
   ]
  },
  {
   "cell_type": "code",
   "execution_count": 9,
   "metadata": {},
   "outputs": [
    {
     "name": "stdout",
     "output_type": "stream",
     "text": [
      "[1, 2, 'a', 'string', 3.14159]\n"
     ]
    }
   ],
   "source": [
    "print(a_list)"
   ]
  },
  {
   "cell_type": "markdown",
   "metadata": {},
   "source": [
    "(Note: in general, a random collection of different types is probably not a good idea, but it is good to know that you *can* do it if you need to.)"
   ]
  },
  {
   "cell_type": "markdown",
   "metadata": {},
   "source": [
    "Access individual elements:"
   ]
  },
  {
   "cell_type": "code",
   "execution_count": 10,
   "metadata": {},
   "outputs": [
    {
     "name": "stdout",
     "output_type": "stream",
     "text": [
      "Monday Wednesday\n"
     ]
    }
   ],
   "source": [
    "print(weekdays[0], weekdays[2])"
   ]
  },
  {
   "cell_type": "markdown",
   "metadata": {},
   "source": [
    "Accessing a range of elements returns a *new* `list` that is a *slice* of the original list:"
   ]
  },
  {
   "cell_type": "code",
   "execution_count": 51,
   "metadata": {},
   "outputs": [
    {
     "name": "stdout",
     "output_type": "stream",
     "text": [
      "['Tuesday', 'Wednesday', 'Thursday']\n"
     ]
    }
   ],
   "source": [
    "weekdays = ['Monday', 'Tuesday', 'Wednesday', 'Thursday', 'Friday']\n",
    "midweek = weekdays[1:4]  # this makes a copy!\n",
    "days2 = weekdays  # this is like a new key to the same box\n",
    "print(midweek)"
   ]
  },
  {
   "cell_type": "code",
   "execution_count": 52,
   "metadata": {},
   "outputs": [
    {
     "name": "stdout",
     "output_type": "stream",
     "text": [
      "Midweek: ['Tuesday', 'Wednesday', 'Thursday']\n",
      "Weekdays: ['Monday', 'Tuesday', 'Odinsday', 'Thorsday', 'Thursday', 'Friday']\n",
      "days2: ['Monday', 'Tuesday', 'Odinsday', 'Thorsday', 'Thursday', 'Friday']\n"
     ]
    }
   ],
   "source": [
    "weekdays[2] = \"Odinsday\"\n",
    "weekdays.insert(3, \"Thorsday\")\n",
    "print(\"Midweek:\", midweek)\n",
    "print(\"Weekdays:\", weekdays)\n",
    "print(\"days2:\", days2)"
   ]
  },
  {
   "cell_type": "markdown",
   "metadata": {},
   "source": [
    "Note that the *range* 1:4 returns *three* elements: this is a half-open range!\n",
    "\n",
    "When we have a list of lists, each element in the top-level list is itself a list:"
   ]
  },
  {
   "cell_type": "code",
   "execution_count": 44,
   "metadata": {},
   "outputs": [
    {
     "name": "stdout",
     "output_type": "stream",
     "text": [
      "NYC slice: [['NYU', 'Columbia', 'CUNY']]\n",
      "NYC: ['Tandon']\n",
      "NYC slice: [\"St. John's\"]\n",
      "NYC not a copy: ['Tandon', 'Columbia', 'CUNY']\n",
      "list_of_lists: [['Tandon', 'Columbia', 'CUNY'], ['BC', 'BU', 'Tufts'], ['Penn', 'Drexel', 'Temple']]\n"
     ]
    }
   ],
   "source": [
    "list_of_lists = [\n",
    "                  ['NYU', 'Columbia', 'CUNY'],  # 0\n",
    "                  ['BC', 'BU', 'Tufts'],  # 1 \n",
    "                  ['Penn', 'Drexel', 'Temple']  #2\n",
    "                ]\n",
    "nyc_slice = list_of_lists[0:1]  # this makes a copy!\n",
    "print(\"NYC slice:\", nyc_slice)\n",
    "nyc_not_a_copy = list_of_lists[0]  # this doesn't\n",
    "print(\"NYC:\", nyc)\n",
    "nyc_not_a_copy[0] = \"Tandon\"\n",
    "nyc_slice[0] = \"St. John's\"\n",
    "print(\"NYC slice:\", nyc_slice)\n",
    "print(\"NYC not a copy:\", nyc_not_a_copy)\n",
    "print(\"list_of_lists:\", list_of_lists)"
   ]
  },
  {
   "cell_type": "code",
   "execution_count": 45,
   "metadata": {},
   "outputs": [
    {
     "name": "stdout",
     "output_type": "stream",
     "text": [
      "philly: [['Penn', 'Drexel', 'Temple']]\n",
      "philadelphia: ['Penn', 'Drexel', 'Temple']\n"
     ]
    }
   ],
   "source": [
    "philly = list_of_lists[2:]\n",
    "philadelphia = list_of_lists[2]\n",
    "print(\"philly:\", philly)\n",
    "print(\"philadelphia:\", philadelphia)\n",
    "# print(philly[1])"
   ]
  },
  {
   "cell_type": "code",
   "execution_count": 39,
   "metadata": {},
   "outputs": [
    {
     "name": "stdout",
     "output_type": "stream",
     "text": [
      "Philly is Philadelphia? False\n",
      "4700052744 4447563976\n"
     ]
    }
   ],
   "source": [
    "print(\"Philly is Philadelphia?\", philly is philadelphia)\n",
    "print(id(philly), id(philadelphia))"
   ]
  },
  {
   "cell_type": "markdown",
   "metadata": {},
   "source": [
    "We can see all of the data and method attributes of a list with `dir()`:"
   ]
  },
  {
   "cell_type": "code",
   "execution_count": null,
   "metadata": {},
   "outputs": [],
   "source": [
    "dir(empty_list)"
   ]
  },
  {
   "cell_type": "markdown",
   "metadata": {},
   "source": [
    "### List Modification"
   ]
  },
  {
   "cell_type": "markdown",
   "metadata": {},
   "source": [
    "Unlike strings, lists are *mutable*."
   ]
  },
  {
   "cell_type": "code",
   "execution_count": 54,
   "metadata": {},
   "outputs": [
    {
     "name": "stdout",
     "output_type": "stream",
     "text": [
      "List as initialized: ['Number 1', 'Uhura']\n"
     ]
    }
   ],
   "source": [
    "list_a = ['Number 1', 'Uhura']\n",
    "print(\"List as initialized:\", list_a)"
   ]
  },
  {
   "cell_type": "code",
   "execution_count": 55,
   "metadata": {},
   "outputs": [
    {
     "name": "stdout",
     "output_type": "stream",
     "text": [
      "Replace 2nd item in list: ['Number 1', 'Data']\n"
     ]
    }
   ],
   "source": [
    "list_a[1] = 'Data'\n",
    "print(\"Replace 2nd item in list:\", list_a)"
   ]
  },
  {
   "cell_type": "markdown",
   "metadata": {},
   "source": [
    "#### Growing a list\n",
    "\n",
    "Note: we can't grow a list by saying `list[1000000] = \"new value\"`."
   ]
  },
  {
   "cell_type": "code",
   "execution_count": 56,
   "metadata": {},
   "outputs": [
    {
     "ename": "IndexError",
     "evalue": "list assignment index out of range",
     "output_type": "error",
     "traceback": [
      "\u001b[0;31m---------------------------------------------------------------------------\u001b[0m",
      "\u001b[0;31mIndexError\u001b[0m                                Traceback (most recent call last)",
      "\u001b[0;32m<ipython-input-56-a1a9dfb5bf28>\u001b[0m in \u001b[0;36m<module>\u001b[0;34m()\u001b[0m\n\u001b[0;32m----> 1\u001b[0;31m \u001b[0mlist_a\u001b[0m\u001b[0;34m[\u001b[0m\u001b[0;36m2\u001b[0m\u001b[0;34m]\u001b[0m \u001b[0;34m=\u001b[0m \u001b[0;34m[\u001b[0m\u001b[0;34m'Geordie'\u001b[0m\u001b[0;34m,\u001b[0m \u001b[0;34m'Crusher'\u001b[0m\u001b[0;34m]\u001b[0m  \u001b[0;31m# fails, can't append like this.\u001b[0m\u001b[0;34m\u001b[0m\u001b[0m\n\u001b[0m",
      "\u001b[0;31mIndexError\u001b[0m: list assignment index out of range"
     ]
    }
   ],
   "source": [
    "list_a.append(['Geordie', 'Crusher'])\n",
    "\n",
    "list_a[2] = ['Geordie', 'Crusher']  # fails, can't append like this."
   ]
  },
  {
   "cell_type": "code",
   "execution_count": 61,
   "metadata": {},
   "outputs": [
    {
     "name": "stdout",
     "output_type": "stream",
     "text": [
      "Add a list to the end: ['Number 1', 'Data', 'Scotty', 'Crusher', ['Geordie', 'Crusher'], 'Scotty', 'Geordie', 'Crusher']\n"
     ]
    }
   ],
   "source": [
    "list_a.append(['Geordie', 'Crusher'])\n",
    "list_a.append('Scotty')\n",
    "list_a.append('Geordie')\n",
    "list_a.append('Crusher')\n",
    "\n",
    "print(\"Add a list to the end:\", list_a)"
   ]
  },
  {
   "cell_type": "markdown",
   "metadata": {},
   "source": [
    "#### Removing items from a list"
   ]
  },
  {
   "cell_type": "code",
   "execution_count": 63,
   "metadata": {},
   "outputs": [
    {
     "ename": "ValueError",
     "evalue": "list.remove(x): x not in list",
     "output_type": "error",
     "traceback": [
      "\u001b[0;31m---------------------------------------------------------------------------\u001b[0m",
      "\u001b[0;31mValueError\u001b[0m                                Traceback (most recent call last)",
      "\u001b[0;32m<ipython-input-63-638fd81e2aa5>\u001b[0m in \u001b[0;36m<module>\u001b[0;34m()\u001b[0m\n\u001b[0;32m----> 1\u001b[0;31m \u001b[0mlist_a\u001b[0m\u001b[0;34m.\u001b[0m\u001b[0mremove\u001b[0m\u001b[0;34m(\u001b[0m\u001b[0;34m[\u001b[0m\u001b[0;34m'Geordie'\u001b[0m\u001b[0;34m,\u001b[0m \u001b[0;34m'Crusher'\u001b[0m\u001b[0;34m]\u001b[0m\u001b[0;34m)\u001b[0m\u001b[0;34m\u001b[0m\u001b[0m\n\u001b[0m\u001b[1;32m      2\u001b[0m \u001b[0mlist_a\u001b[0m\u001b[0;34m.\u001b[0m\u001b[0mremove\u001b[0m\u001b[0;34m(\u001b[0m\u001b[0;34m'Geordie'\u001b[0m\u001b[0;34m)\u001b[0m\u001b[0;34m\u001b[0m\u001b[0m\n\u001b[1;32m      3\u001b[0m \u001b[0mprint\u001b[0m\u001b[0;34m(\u001b[0m\u001b[0;34m\"After remove, the list is:\"\u001b[0m\u001b[0;34m,\u001b[0m \u001b[0mlist_a\u001b[0m\u001b[0;34m)\u001b[0m\u001b[0;34m\u001b[0m\u001b[0m\n",
      "\u001b[0;31mValueError\u001b[0m: list.remove(x): x not in list"
     ]
    }
   ],
   "source": [
    "list_a.remove(['Geordie', 'Crusher'])\n",
    "list_a.remove('Geordie')\n",
    "print(\"After remove, the list is:\", list_a)"
   ]
  },
  {
   "cell_type": "code",
   "execution_count": 60,
   "metadata": {},
   "outputs": [
    {
     "ename": "ValueError",
     "evalue": "list.remove(x): x not in list",
     "output_type": "error",
     "traceback": [
      "\u001b[0;31m---------------------------------------------------------------------------\u001b[0m",
      "\u001b[0;31mValueError\u001b[0m                                Traceback (most recent call last)",
      "\u001b[0;32m<ipython-input-60-7275679ab373>\u001b[0m in \u001b[0;36m<module>\u001b[0;34m()\u001b[0m\n\u001b[0;32m----> 1\u001b[0;31m \u001b[0mlist_a\u001b[0m\u001b[0;34m.\u001b[0m\u001b[0mremove\u001b[0m\u001b[0;34m(\u001b[0m\u001b[0;34m'Uhura'\u001b[0m\u001b[0;34m)\u001b[0m \u001b[0;31m# Error, item not in list\u001b[0m\u001b[0;34m\u001b[0m\u001b[0m\n\u001b[0m",
      "\u001b[0;31mValueError\u001b[0m: list.remove(x): x not in list"
     ]
    }
   ],
   "source": [
    "list_a.remove('Uhura') # Error, item not in list"
   ]
  },
  {
   "cell_type": "markdown",
   "metadata": {},
   "source": [
    "#### Inserting using slicing"
   ]
  },
  {
   "cell_type": "code",
   "execution_count": 64,
   "metadata": {},
   "outputs": [
    {
     "name": "stdout",
     "output_type": "stream",
     "text": [
      "['S', 'o', 'm', 'e', 't', 'h', 'i', 'n', 'g', ' ', 'e', 'l', 's', 'e', 'Scotty', 'Crusher', 'Scotty', 'Crusher']\n"
     ]
    }
   ],
   "source": [
    "list_a[:2] = 'Something else'\n",
    "print(list_a)"
   ]
  },
  {
   "cell_type": "code",
   "execution_count": 65,
   "metadata": {},
   "outputs": [
    {
     "name": "stdout",
     "output_type": "stream",
     "text": [
      "['Something', 'else', 'Scotty', 'Crusher', 'Scotty', 'Crusher']\n"
     ]
    }
   ],
   "source": [
    "list_a[:14] = ['Something', 'else']\n",
    "print(list_a)"
   ]
  },
  {
   "cell_type": "code",
   "execution_count": 66,
   "metadata": {},
   "outputs": [
    {
     "name": "stdout",
     "output_type": "stream",
     "text": [
      "Replace: ['alpha', 'beta', 'gamma']\n"
     ]
    }
   ],
   "source": [
    "list_a[:6] = ['alpha', 'beta', 'gamma']\n",
    "print(\"Replace:\", list_a)"
   ]
  },
  {
   "cell_type": "markdown",
   "metadata": {},
   "source": [
    "#### Some list functions and methods"
   ]
  },
  {
   "cell_type": "code",
   "execution_count": 67,
   "metadata": {},
   "outputs": [],
   "source": [
    "list_a = ['Hamlet', 'Ophelia', 'Laertes', 'Polonius']"
   ]
  },
  {
   "cell_type": "code",
   "execution_count": 68,
   "metadata": {},
   "outputs": [
    {
     "name": "stdout",
     "output_type": "stream",
     "text": [
      "Length of list_a is 4\n"
     ]
    }
   ],
   "source": [
    "print(\"Length of list_a is\", len(list_a))"
   ]
  },
  {
   "cell_type": "code",
   "execution_count": 69,
   "metadata": {},
   "outputs": [
    {
     "name": "stdout",
     "output_type": "stream",
     "text": [
      "Reversed: ['Polonius', 'Laertes', 'Ophelia', 'Hamlet']\n"
     ]
    }
   ],
   "source": [
    "list_a.reverse()\n",
    "print(\"Reversed:\", list_a)"
   ]
  },
  {
   "cell_type": "code",
   "execution_count": 70,
   "metadata": {},
   "outputs": [
    {
     "name": "stdout",
     "output_type": "stream",
     "text": [
      "Popped element: Hamlet\n",
      "length: 3\n",
      "The list: ['Polonius', 'Laertes', 'Ophelia']\n"
     ]
    }
   ],
   "source": [
    "element = list_a.pop()   # removes element at the end of the list\n",
    "print(\"Popped element:\", element)\n",
    "print(\"length:\", len(list_a))\n",
    "print(\"The list:\", list_a)"
   ]
  },
  {
   "cell_type": "code",
   "execution_count": 72,
   "metadata": {},
   "outputs": [
    {
     "ename": "ValueError",
     "evalue": "'Hamlet' is not in list",
     "output_type": "error",
     "traceback": [
      "\u001b[0;31m---------------------------------------------------------------------------\u001b[0m",
      "\u001b[0;31mValueError\u001b[0m                                Traceback (most recent call last)",
      "\u001b[0;32m<ipython-input-72-9fe518a17f23>\u001b[0m in \u001b[0;36m<module>\u001b[0;34m()\u001b[0m\n\u001b[0;32m----> 1\u001b[0;31m \u001b[0mprint\u001b[0m\u001b[0;34m(\u001b[0m\u001b[0;34m\"Index of 'Ophelia':\"\u001b[0m\u001b[0;34m,\u001b[0m \u001b[0mlist_a\u001b[0m\u001b[0;34m.\u001b[0m\u001b[0mindex\u001b[0m\u001b[0;34m(\u001b[0m\u001b[0;34m'Hamlet'\u001b[0m\u001b[0;34m)\u001b[0m\u001b[0;34m)\u001b[0m\u001b[0;34m\u001b[0m\u001b[0m\n\u001b[0m",
      "\u001b[0;31mValueError\u001b[0m: 'Hamlet' is not in list"
     ]
    }
   ],
   "source": [
    "print(\"Index of 'Ophelia':\", list_a.index('Ophelia'))"
   ]
  },
  {
   "cell_type": "code",
   "execution_count": 73,
   "metadata": {},
   "outputs": [
    {
     "name": "stdout",
     "output_type": "stream",
     "text": [
      "Count of 0s: 4\n"
     ]
    }
   ],
   "source": [
    "print(\"Count of 0s:\", [1, 0, 1, 0, 1, 1, 1, 1, 0, 0, 10].count(0))"
   ]
  },
  {
   "cell_type": "code",
   "execution_count": 74,
   "metadata": {},
   "outputs": [
    {
     "name": "stdout",
     "output_type": "stream",
     "text": [
      "insert 'a' at 1 [1, 'a', 0, 1, 0, 1, 1, 1, 1, 0, 0, 10]\n",
      "insert 'x' at 15 [1, 'a', 0, 1, 0, 1, 1, 1, 1, 0, 0, 10, 'x']\n",
      "insert '2nd to last' at -1 [1, 'a', 0, 1, 0, 1, 1, 1, 1, 0, 0, 10, '2nd to last', 'x']\n"
     ]
    }
   ],
   "source": [
    "new_list = [1, 0, 1, 0, 1, 1, 1, 1, 0, 0, 10] # 11 values\n",
    "new_list.insert(1, 'a')\n",
    "print(\"insert 'a' at 1\", new_list)\n",
    "new_list.insert(15, 'x')\n",
    "print(\"insert 'x' at 15\", new_list)\n",
    "new_list.insert(-1, '2nd to last')\n",
    "print(\"insert '2nd to last' at -1\", new_list)"
   ]
  },
  {
   "cell_type": "markdown",
   "metadata": {},
   "source": [
    "(We don't need to insert at the end, because we have `append()` for that.)"
   ]
  },
  {
   "cell_type": "markdown",
   "metadata": {},
   "source": [
    "#### List Operators"
   ]
  },
  {
   "cell_type": "code",
   "execution_count": 76,
   "metadata": {},
   "outputs": [],
   "source": [
    "list_a = ['MacBeth', 'Duncan']\n",
    "list_b = ['Macduff', 'Malcolm']"
   ]
  },
  {
   "cell_type": "markdown",
   "metadata": {},
   "source": [
    "You can use both the addition and multiplication operators with lists."
   ]
  },
  {
   "cell_type": "code",
   "execution_count": 77,
   "metadata": {},
   "outputs": [
    {
     "name": "stdout",
     "output_type": "stream",
     "text": [
      "list addition: ['MacBeth', 'Duncan', 'Macduff', 'Malcolm']\n",
      "list multiplication: ['Macduff', 'Malcolm', 'Macduff', 'Malcolm', 'Macduff', 'Malcolm']\n"
     ]
    }
   ],
   "source": [
    "list_c = list_a + list_b\n",
    "list_d = list_b * 3\n",
    "print('list addition:', list_c)\n",
    "print('list multiplication:', list_d)"
   ]
  },
  {
   "cell_type": "markdown",
   "metadata": {},
   "source": [
    "You can use >, <, ==, <=, >=, != operators on lists:"
   ]
  },
  {
   "cell_type": "code",
   "execution_count": 78,
   "metadata": {},
   "outputs": [
    {
     "name": "stdout",
     "output_type": "stream",
     "text": [
      "list comparison (>): True\n",
      "list comparison (==): False\n",
      "list comparison (<): False\n",
      "list comparison (>=): True\n"
     ]
    }
   ],
   "source": [
    "comparison_result = [1, 3, 5] > [1, 3, 3, 9, 12] # first diff at index 3: 5 !< 3\n",
    "print('list comparison (>):', comparison_result)\n",
    "\n",
    "print('list comparison (==):', [1] == [1, 2])\n",
    "print('list comparison (<):', [1] < [1])\n",
    "print('list comparison (>=):', ['Foo'] >= ['Bar'])"
   ]
  },
  {
   "cell_type": "markdown",
   "metadata": {},
   "source": [
    "What will this code evaluate to?"
   ]
  },
  {
   "cell_type": "code",
   "execution_count": null,
   "metadata": {},
   "outputs": [],
   "source": [
    "[5, 2, 8, 9, 12, 456, 5687] > [5, 2, 8, 10]"
   ]
  },
  {
   "cell_type": "markdown",
   "metadata": {},
   "source": [
    "a) True  \n",
    "b) False  \n",
    "c) 12  \n",
    "d) [5, 2, 8, 9, 12, 456, 5687]  "
   ]
  },
  {
   "cell_type": "code",
   "execution_count": null,
   "metadata": {},
   "outputs": [],
   "source": [
    "len([5, 2, 8, 9, 12, 456, 5687]) > len([5, 2, 8, 10])"
   ]
  },
  {
   "cell_type": "markdown",
   "metadata": {},
   "source": [
    "### `in`"
   ]
  },
  {
   "cell_type": "markdown",
   "metadata": {},
   "source": [
    "You can test for list membership using the boolean operand `in`."
   ]
  },
  {
   "cell_type": "code",
   "execution_count": 79,
   "metadata": {},
   "outputs": [
    {
     "name": "stdout",
     "output_type": "stream",
     "text": [
      "1. membership of a in word list: False\n",
      "2. membership of a in letter list: True\n"
     ]
    }
   ],
   "source": [
    "print('1. membership of a in word list:', 'a' in ['alpha'])\n",
    "print('2. membership of a in letter list:', 'a' in ['b', 'c', 'd', 'e', 'a'])"
   ]
  },
  {
   "cell_type": "markdown",
   "metadata": {},
   "source": [
    "For the following list:"
   ]
  },
  {
   "cell_type": "code",
   "execution_count": null,
   "metadata": {},
   "outputs": [],
   "source": [
    "hellene = ['alpha', 'beta', 'gamma', ['1st aorist', '2nd aorist'], 12, [19, 20]]\n",
    "'alpha' in hellene\n",
    "'1st aorist' in hellene"
   ]
  },
  {
   "cell_type": "markdown",
   "metadata": {},
   "source": [
    "a) 'alpha' is a member and so is '1st aorist'  \n",
    "b) 'alpha' is a member but '1st aorist' is not  \n",
    "c) 'alpha' is not a member but '1st aorist' is.  \n",
    "d) neither are list members  "
   ]
  },
  {
   "cell_type": "markdown",
   "metadata": {},
   "source": [
    "### Traversing a list"
   ]
  },
  {
   "cell_type": "markdown",
   "metadata": {},
   "source": [
    "We can *traverse* a list with the `for` control structure:"
   ]
  },
  {
   "cell_type": "code",
   "execution_count": 80,
   "metadata": {},
   "outputs": [
    {
     "name": "stdout",
     "output_type": "stream",
     "text": [
      "Just retrieved 5 from list\n",
      "Just retrieved 3 from list\n",
      "Just retrieved 45 from list\n",
      "Just retrieved 7 from list\n",
      "Just retrieved 8 from list\n",
      "Just retrieved 1 from list\n",
      "The sum of the list elements is: 69\n"
     ]
    }
   ],
   "source": [
    "int_list = [5, 3, 45, 7, 8, 1]\n",
    "total = 0\n",
    "for num in int_list:\n",
    "    print(\"Just retrieved\", num, \"from list\")\n",
    "    total += num\n",
    "print(\"The sum of the list elements is:\", total)"
   ]
  },
  {
   "cell_type": "markdown",
   "metadata": {},
   "source": [
    "**Exercise:** Write code using a for loop to assemble these words into a single string:"
   ]
  },
  {
   "cell_type": "code",
   "execution_count": null,
   "metadata": {},
   "outputs": [],
   "source": [
    "ulysses_opening = [\"Stately\", \"plump\", \"Buck\", \"Mulligan\"]"
   ]
  },
  {
   "cell_type": "markdown",
   "metadata": {},
   "source": [
    "\n",
    "\n",
    "\n",
    "\n",
    "\n",
    "\n",
    "\n",
    "\n",
    "\n",
    "\n",
    "\n",
    "\n",
    "\n"
   ]
  },
  {
   "cell_type": "code",
   "execution_count": null,
   "metadata": {},
   "outputs": [],
   "source": [
    "quote = \"\"\n",
    "for word in ulysses_opening:\n",
    "    quote += word + \" \"\n",
    "print(quote)"
   ]
  }
 ],
 "metadata": {
  "kernelspec": {
   "display_name": "Python 3",
   "language": "python",
   "name": "python3"
  },
  "language_info": {
   "codemirror_mode": {
    "name": "ipython",
    "version": 3
   },
   "file_extension": ".py",
   "mimetype": "text/x-python",
   "name": "python",
   "nbconvert_exporter": "python",
   "pygments_lexer": "ipython3",
   "version": "3.9.0"
  }
 },
 "nbformat": 4,
 "nbformat_minor": 4
}
