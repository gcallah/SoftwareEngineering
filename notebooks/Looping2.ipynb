{
 "cells": [
  {
   "cell_type": "markdown",
   "metadata": {},
   "source": [
    "## Looping Part 2"
   ]
  },
  {
   "cell_type": "markdown",
   "metadata": {},
   "source": [
    "### Loop Examples"
   ]
  },
  {
   "cell_type": "markdown",
   "metadata": {},
   "source": [
    "#### Factorial"
   ]
  },
  {
   "cell_type": "code",
   "execution_count": null,
   "metadata": {},
   "outputs": [],
   "source": [
    "n = 6\n",
    "result = 1\n",
    "for i in range(n, 1, -1):\n",
    "    result *= i\n",
    "print(n, \" factorial = \", result)"
   ]
  },
  {
   "cell_type": "markdown",
   "metadata": {},
   "source": [
    "#### Change a password\n",
    "\n",
    "This program transforms and existing password.\n",
    "\n",
    "`ord()` returns the ASCII value of a character:"
   ]
  },
  {
   "cell_type": "code",
   "execution_count": null,
   "metadata": {},
   "outputs": [],
   "source": [
    "ord('A')"
   ]
  },
  {
   "cell_type": "code",
   "execution_count": null,
   "metadata": {},
   "outputs": [],
   "source": [
    "user_input = input (\"Gimme your password: \" )\n",
    "\n",
    "new_password = \"\"\n",
    "for char in user_input:\n",
    "    print(char)\n",
    "    \n",
    "    new_char = ord(char) + 5\n",
    "    new_password = new_password + chr(new_char)\n",
    "\n",
    "print(\"Your new password is: \", new_password)"
   ]
  },
  {
   "cell_type": "markdown",
   "metadata": {},
   "source": [
    "#### for... else\n",
    "\n",
    "Show the use of `else` with a `for` loop."
   ]
  },
  {
   "cell_type": "code",
   "execution_count": null,
   "metadata": {},
   "outputs": [],
   "source": [
    "for value in range(10, -1, -2):\n",
    "    print (value, end=' ')\n",
    "    if value == 5:\n",
    "        break\n",
    "else:        \n",
    "    print()\n",
    "    print(\"Blast off!\")\n",
    "\n",
    "print(\"The end...\")"
   ]
  },
  {
   "cell_type": "markdown",
   "metadata": {},
   "source": [
    "#### string indexing\n",
    "\n",
    "Strings can be indexed, just like lists!"
   ]
  },
  {
   "cell_type": "code",
   "execution_count": 1,
   "metadata": {},
   "outputs": [
    {
     "name": "stdout",
     "output_type": "stream",
     "text": [
      "string_value is 37 characters long.\n",
      "0:s\t\t1:o\t\t2:m\t\t3:e\t\t4: \t\t\n",
      "5:s\t\t6:t\t\t7:r\t\t8:i\t\t9:n\t\t\n",
      "10:g\t\t11: \t\t12:t\t\t13:h\t\t14:a\t\t\n",
      "15:t\t\t16: \t\t17:c\t\t18:o\t\t19:n\t\t\n",
      "20:t\t\t21:a\t\t22:i\t\t23:n\t\t24:s\t\t\n",
      "25: \t\t26:c\t\t27:h\t\t28:a\t\t29:r\t\t\n",
      "30:a\t\t31:c\t\t32:t\t\t33:e\t\t34:r\t\t\n",
      "35:s\t\t36:.\t\t"
     ]
    }
   ],
   "source": [
    "string_value = 'some string that contains characters.'\n",
    "string_length = len(string_value)\n",
    "print('string_value is', string_length, 'characters long.')\n",
    "\n",
    "for index in range(string_length):\n",
    "    print(index, string_value[index], sep=':', end='\\t\\t')\n",
    "    \n",
    "    if index % 5 == 4:\n",
    "        print()"
   ]
  },
  {
   "cell_type": "markdown",
   "metadata": {},
   "source": [
    "#### count vowels\n",
    "\n",
    "Count the vowels in an input string."
   ]
  },
  {
   "cell_type": "code",
   "execution_count": 2,
   "metadata": {},
   "outputs": [
    {
     "name": "stdout",
     "output_type": "stream",
     "text": [
      "Enter a string and I'll count the frequency of each vowel: i tell a tale of arms and men\n",
      "Summary:  4 a, 3 e, 1 i, 1 o, 0 u.\n"
     ]
    }
   ],
   "source": [
    "my_string = input(\"Enter a string and I'll count the frequency of each vowel: \")\n",
    "\n",
    "num_a = num_e = num_i = num_o = num_u = 0\n",
    "\n",
    "# Parse the string and count the number of each vowel\n",
    "for char in my_string:\n",
    "    if char == 'a':\n",
    "        num_a += 1\n",
    "    elif char == 'e':\n",
    "        num_e += 1\n",
    "    elif char == 'i':\n",
    "        num_i += 1\n",
    "    elif char == 'o':\n",
    "        num_o += 1\n",
    "    elif char == 'u':\n",
    "        num_u += 1\n",
    "\n",
    "print(\"Summary: \", num_a, 'a,', num_e, 'e,', num_i, 'i,', num_o, 'o,', \\\n",
    "      num_u, 'u.')"
   ]
  },
  {
   "cell_type": "markdown",
   "metadata": {},
   "source": [
    "#### vowel histogram\n",
    "\n",
    "A histogram is a visual display of the number of times various data points occur."
   ]
  },
  {
   "cell_type": "code",
   "execution_count": 3,
   "metadata": {},
   "outputs": [
    {
     "name": "stdout",
     "output_type": "stream",
     "text": [
      "Enter a string and I'll count the frequency of each vowel: to be or not to be that is the question\n",
      "Summary:  1 as, 4 es, 2 is, 5 os, 1 us.\n",
      "a  *\n",
      "e  ****\n",
      "i  **\n",
      "o  *****\n",
      "u  *\n"
     ]
    }
   ],
   "source": [
    "my_string = input(\"Enter a string and I'll count the frequency of each vowel: \")\n",
    "\n",
    "num_a = num_e = num_i = num_o = num_u = 0\n",
    "\n",
    "# Parse the string and count the number of each vowel\n",
    "for char in my_string:\n",
    "    if char == 'a':\n",
    "        num_a += 1\n",
    "    elif char == 'e':\n",
    "        num_e += 1\n",
    "    elif char == 'i':\n",
    "        num_i += 1\n",
    "    elif char == 'o':\n",
    "        num_o += 1\n",
    "    elif char == 'u':\n",
    "        num_u += 1\n",
    "\n",
    "print(\"Summary: \", num_a, 'as,', num_e, 'es,', num_i, 'is,', num_o, 'os,', \\\n",
    "      num_u, 'us.')\n",
    "\n",
    "# Create a histogram for each vowel count\n",
    "for vowel in 'aeiou':\n",
    "    histogram = ''\n",
    "    if vowel=='a':\n",
    "        histogram = '*' * num_a\n",
    "        \n",
    "    elif vowel=='e':\n",
    "        histogram = '*' * num_e\n",
    "        \n",
    "    elif vowel=='i':\n",
    "        histogram = '*' * num_i\n",
    "        \n",
    "    elif vowel=='o':\n",
    "        histogram = '*' * num_o\n",
    "    \n",
    "    elif vowel=='u':\n",
    "        histogram = '*' * num_u\n",
    "        \n",
    "    print (vowel, histogram, sep='  ')"
   ]
  },
  {
   "cell_type": "markdown",
   "metadata": {},
   "source": [
    "#### nested for loop"
   ]
  },
  {
   "cell_type": "code",
   "execution_count": 4,
   "metadata": {},
   "outputs": [
    {
     "name": "stdout",
     "output_type": "stream",
     "text": [
      "a: 1 2 3 4 5 \n",
      "b: 1 2 3 4 5 \n",
      "c: 1 2 3 4 5 \n",
      "d: 1 2 3 4 5 \n",
      "e: 1 2 3 4 5 \n",
      "f: 1 2 3 4 5 \n",
      "g: 1 2 3 4 5 \n",
      "h: 1 2 3 4 5 \n",
      "i: 1 2 3 4 5 \n",
      "j: 1 2 3 4 5 \n",
      "k: 1 2 3 4 5 \n",
      "l: 1 2 3 4 5 \n",
      "m: 1 2 3 4 5 \n",
      "n: 1 2 3 4 5 \n",
      "o: 1 2 3 4 5 \n",
      "p: 1 2 3 4 5 \n",
      "q: 1 2 3 4 5 \n",
      "r: 1 2 3 4 5 \n",
      "s: 1 2 3 4 5 \n",
      "t: 1 2 3 4 5 \n",
      "u: 1 2 3 4 5 \n",
      "v: 1 2 3 4 5 \n",
      "w: 1 2 3 4 5 \n",
      "x: 1 2 3 4 5 \n",
      "y: 1 2 3 4 5 \n",
      "z: 1 2 3 4 5 \n"
     ]
    }
   ],
   "source": [
    "for letter in 'abcdefghijklmnopqrstuvwxyz':\n",
    "    print (letter, end=': ')\n",
    "\n",
    "    for number in range(1, 6):\n",
    "        print (number, end=' ')\n",
    "\n",
    "    print()"
   ]
  },
  {
   "cell_type": "markdown",
   "metadata": {},
   "source": [
    "#### nested loop 2"
   ]
  },
  {
   "cell_type": "code",
   "execution_count": null,
   "metadata": {},
   "outputs": [],
   "source": [
    "for outer_val in range(1, 11):\n",
    "    \n",
    "    print(outer_val, end=': ')\n",
    "    \n",
    "    for inner_val in range(8 - outer_val, 3 * outer_val):\n",
    "        \n",
    "        print(inner_val, end='\\t')\n",
    "        \n",
    "    print()"
   ]
  },
  {
   "cell_type": "markdown",
   "metadata": {},
   "source": [
    "#### testing primality\n",
    "\n",
    "Calculate if a positive number, N, is prime, using a `for` loop.\n",
    "Add ability to print the divisor.\n",
    "\n"
   ]
  },
  {
   "cell_type": "code",
   "execution_count": 8,
   "metadata": {},
   "outputs": [
    {
     "name": "stdout",
     "output_type": "stream",
     "text": [
      "Enter a positive integer: 121\n",
      "121 is prime: False\n",
      "121 is divisable by 11\n"
     ]
    }
   ],
   "source": [
    "import math\n",
    "\n",
    "target = int(input(\"Enter a positive integer: \"))\n",
    "\n",
    "sqrt_target = int(math.sqrt(target))\n",
    "failed_at = None\n",
    "\n",
    "is_prime = True\n",
    "for divisor in range(2, sqrt_target + 1):\n",
    "    if target % divisor == 0:\n",
    "        failed_at = divisor\n",
    "        is_prime = False\n",
    "        break\n",
    "\n",
    "print(target, 'is prime:', is_prime)\n",
    "if not is_prime:\n",
    "    print(target, \"is divisable by\", failed_at)"
   ]
  },
  {
   "cell_type": "markdown",
   "metadata": {},
   "source": [
    "#### Sieve of Eratosthenes\n",
    "\n",
    "One of the world's oldest algorithms.\n",
    "\n",
    "![title](https://upload.wikimedia.org/wikipedia/commons/b/b9/Sieve_of_Eratosthenes_animation.gif)"
   ]
  },
  {
   "cell_type": "code",
   "execution_count": null,
   "metadata": {},
   "outputs": [],
   "source": [
    "import math\n",
    "\n",
    "n = int(input(\"Calculate all primes before: \"))\n",
    "\n",
    "sqrt_n = int(math.sqrt(n)) + 1\n",
    "\n",
    "is_prime = [False, False]  # 0 and 1 are not prime\n",
    "for i in range(2, n + 1):\n",
    "    is_prime.append(True)\n",
    "    \n",
    "    \n",
    "    \n",
    "for i in range(2, n + 1):\n",
    "    if is_prime[i]:\n",
    "        for j in range(i + i, n + 1, i):\n",
    "            is_prime[j] = False\n",
    "    \n",
    "for i in range(2, n + 1):\n",
    "    if is_prime[i]:\n",
    "        print(i, \"is prime\")\n"
   ]
  },
  {
   "cell_type": "code",
   "execution_count": null,
   "metadata": {},
   "outputs": [],
   "source": []
  }
 ],
 "metadata": {
  "kernelspec": {
   "display_name": "Python 3",
   "language": "python",
   "name": "python3"
  },
  "language_info": {
   "codemirror_mode": {
    "name": "ipython",
    "version": 3
   },
   "file_extension": ".py",
   "mimetype": "text/x-python",
   "name": "python",
   "nbconvert_exporter": "python",
   "pygments_lexer": "ipython3",
   "version": "3.6.8"
  }
 },
 "nbformat": 4,
 "nbformat_minor": 2
}
