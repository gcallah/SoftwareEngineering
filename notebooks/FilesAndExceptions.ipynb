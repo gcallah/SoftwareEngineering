{
 "cells": [
  {
   "cell_type": "markdown",
   "metadata": {},
   "source": [
    "## Exceptions and More File I/O"
   ]
  },
  {
   "cell_type": "markdown",
   "metadata": {},
   "source": [
    "Error handling is a trick issue in software. Common solutions, like print statements and error codes, have serious problems.\n",
    "\n",
    "[Exceptions](https://en.wikipedia.org/wiki/Exception_handling) are a solution to some error-handling problems... and they create some problems!\n",
    "\n",
    "So far, if we hit an error, like bad input, we could:\n",
    "\n",
    "1. Return an error code; or\n",
    "2. Print an error message.\n",
    "\n",
    "The problems? Error code returns can be ignored, and for 'headless' programs, there is no one there to read the message.\n",
    "\n",
    "Problem one:"
   ]
  },
  {
   "cell_type": "code",
   "execution_count": null,
   "metadata": {},
   "outputs": [],
   "source": [
    "# we expect format s1:\n",
    "s1 = \"(347)882-8881\"\n",
    "i = s1.find(')')\n",
    "area_code = s1[1:i]\n",
    "print(\"s1 area code:\", area_code)"
   ]
  },
  {
   "cell_type": "markdown",
   "metadata": {},
   "source": [
    "What will happen if we get s2?"
   ]
  },
  {
   "cell_type": "code",
   "execution_count": null,
   "metadata": {},
   "outputs": [],
   "source": [
    "s2 = \"347-882-8881\"\n",
    "i = s2.find(')')\n",
    "print(\"i =\", i)\n",
    "area_code = s2[1:i]\n",
    "print(\"s2 area code:\", area_code)"
   ]
  },
  {
   "cell_type": "markdown",
   "metadata": {},
   "source": [
    "What will go wrong?\n",
    "\n",
    "a) `i` is not a valid index  \n",
    "b) `find()` doesn't work on strings  \n",
    "c) the programmer ignored the error return from `find()`  \n",
    "d) Syntax error"
   ]
  },
  {
   "cell_type": "markdown",
   "metadata": {},
   "source": [
    "Or consider the following code running on the chip in your car's braking system:"
   ]
  },
  {
   "cell_type": "code",
   "execution_count": null,
   "metadata": {},
   "outputs": [],
   "source": [
    "def brakes_failing():\n",
    "    # some code\n",
    "    return True\n",
    "\n",
    "if brakes_failing():\n",
    "    # turn_on_brake_emergency_light()\n",
    "    print(\"Caution: failure in automatic braking system!\")\n"
   ]
  },
  {
   "cell_type": "markdown",
   "metadata": {},
   "source": [
    "<img src=\"https://upload.wikimedia.org/wikipedia/commons/thumb/c/cc/Drum_brake_testrender.jpg/440px-Drum_brake_testrender.jpg\" width=\"20%\">\n",
    "\n",
    "Who is going to see that message? Do you see anyone inside that brake above looking at a monitor?"
   ]
  },
  {
   "cell_type": "markdown",
   "metadata": {},
   "source": [
    "### The Solution: Exceptions\n",
    "\n",
    "Exceptions were developed to handle these problems, as well as the issue of centralizing error handling.\n",
    "\n",
    "In Python, exceptions are a type of Python object, one that encapsulates an error.\n",
    "\n",
    "In Python we *raise* an exception when something goes wrong in our code. An unhandled exception will rise up the *call stack* until it is *handled*. \n",
    "\n",
    "<img src=\"https://upload.wikimedia.org/wikipedia/commons/thumb/d/d3/Call_stack_layout.svg/684px-Call_stack_layout.svg.png\" width=\"33%\">\n",
    "\n",
    "\n",
    "We can *handle* the exception with a `try` block. Or, if there is no handler, the exception terminates our program."
   ]
  },
  {
   "cell_type": "code",
   "execution_count": null,
   "metadata": {},
   "outputs": [],
   "source": [
    "some_string = \"Week 10 of the NFL slate is stacked with great matchups.\"\n",
    "\n",
    "# some_index = int(input(\"Which character do you want (by index)? \"))\n",
    "# print(\"The char is: {}\".format(some_string[some_index]))\n",
    "\n",
    "good_input = False\n",
    "while not good_input:\n",
    "    try:\n",
    "        some_index = int(input(\"Which index character do you want? \"))\n",
    "        print(\"The char is: {}\".format(some_string[some_index]))\n",
    "        good_input = True\n",
    "    except ValueError:\n",
    "        print(\"The value inputted is not an int.\")\n",
    "    except IndexError:\n",
    "        print(\"The value you entered is not a valid index into the string.\")\n",
    "\n",
    "print(\"Still in control!\")"
   ]
  },
  {
   "cell_type": "markdown",
   "metadata": {},
   "source": [
    "### Python Builtin Exceptions\n",
    "\n",
    "`ModuleNotFoundError` is thrown when an imported module can not be found.\n",
    "\n",
    "(`seaborn` is a popular Python graphing package.)"
   ]
  },
  {
   "cell_type": "code",
   "execution_count": 2,
   "metadata": {},
   "outputs": [
    {
     "name": "stdout",
     "output_type": "stream",
     "text": [
      "No graphics package: graphics will be turned off!\n",
      "Done with graphics check.\n",
      "Do we get here?\n",
      "Sorry, seaborn package not installed.\n"
     ]
    }
   ],
   "source": [
    "# import seaborn\n",
    "\n",
    "graphics = False\n",
    "try:\n",
    "    import seaborn  # this is a Python graphics package\n",
    "except ModuleNotFoundError:\n",
    "    print(\"No graphics package: graphics will be turned off!\")\n",
    "else:\n",
    "    graphics = True\n",
    "    print(\"Graphics capabilities are turned on!\")\n",
    "finally:\n",
    "    print(\"Done with graphics check.\")\n",
    "\n",
    "print(\"Do we get here?\")\n",
    "\n",
    "# later, the user tries to graph a function...\n",
    "if graphics:\n",
    "    # do something fancy on the screen\n",
    "    print(\"Do fancy graphics!\")\n",
    "else:\n",
    "    print(\"Sorry, seaborn package not installed.\")"
   ]
  },
  {
   "cell_type": "markdown",
   "metadata": {},
   "source": [
    "`ImportError` is thrown when a specified name can not be found."
   ]
  },
  {
   "cell_type": "code",
   "execution_count": 4,
   "metadata": {},
   "outputs": [
    {
     "ename": "ImportError",
     "evalue": "cannot import name 'SGDFhjdgfhjsdgf' from 'random' (/Library/Frameworks/Python.framework/Versions/3.9/lib/python3.9/random.py)",
     "output_type": "error",
     "traceback": [
      "\u001b[0;31m---------------------------------------------------------------------------\u001b[0m",
      "\u001b[0;31mImportError\u001b[0m                               Traceback (most recent call last)",
      "\u001b[0;32m<ipython-input-4-45ef8786ebfd>\u001b[0m in \u001b[0;36m<module>\u001b[0;34m\u001b[0m\n\u001b[1;32m      1\u001b[0m \u001b[0;31m# from random import shuffle\u001b[0m\u001b[0;34m\u001b[0m\u001b[0;34m\u001b[0m\u001b[0;34m\u001b[0m\u001b[0m\n\u001b[0;32m----> 2\u001b[0;31m \u001b[0;32mfrom\u001b[0m \u001b[0mrandom\u001b[0m \u001b[0;32mimport\u001b[0m \u001b[0mSGDFhjdgfhjsdgf\u001b[0m\u001b[0;34m\u001b[0m\u001b[0;34m\u001b[0m\u001b[0m\n\u001b[0m",
      "\u001b[0;31mImportError\u001b[0m: cannot import name 'SGDFhjdgfhjsdgf' from 'random' (/Library/Frameworks/Python.framework/Versions/3.9/lib/python3.9/random.py)"
     ]
    }
   ],
   "source": [
    "# from random import shuffle\n",
    "from random import SGDFhjdgfhjsdgf"
   ]
  },
  {
   "cell_type": "markdown",
   "metadata": {},
   "source": [
    "`TypeError` is thrown when an operation or function is applied to an object\n",
    "of an inappropriate type."
   ]
  },
  {
   "cell_type": "code",
   "execution_count": 7,
   "metadata": {},
   "outputs": [
    {
     "ename": "TypeError",
     "evalue": "can only concatenate str (not \"int\") to str",
     "output_type": "error",
     "traceback": [
      "\u001b[0;31m---------------------------------------------------------------------------\u001b[0m",
      "\u001b[0;31mTypeError\u001b[0m                                 Traceback (most recent call last)",
      "\u001b[0;32m<ipython-input-7-d2b23a1db757>\u001b[0m in \u001b[0;36m<module>\u001b[0;34m\u001b[0m\n\u001b[0;32m----> 1\u001b[0;31m \u001b[0;34m'2'\u001b[0m \u001b[0;34m+\u001b[0m \u001b[0;36m2\u001b[0m\u001b[0;34m\u001b[0m\u001b[0;34m\u001b[0m\u001b[0m\n\u001b[0m",
      "\u001b[0;31mTypeError\u001b[0m: can only concatenate str (not \"int\") to str"
     ]
    }
   ],
   "source": [
    "'2' + 2"
   ]
  },
  {
   "cell_type": "markdown",
   "metadata": {},
   "source": [
    "`ValueError` is thrown when a function's argument is of an inappropriate type."
   ]
  },
  {
   "cell_type": "code",
   "execution_count": 11,
   "metadata": {},
   "outputs": [
    {
     "name": "stdout",
     "output_type": "stream",
     "text": [
      "ValueError bomb defused!\n",
      "Does the program continue?\n"
     ]
    }
   ],
   "source": [
    "# int('Not a number!')\n",
    "try:\n",
    "    int('Not a number!')\n",
    "except ValueError:\n",
    "    print(\"ValueError bomb defused!\")\n",
    "print(\"Does the program continue?\")"
   ]
  },
  {
   "cell_type": "markdown",
   "metadata": {},
   "source": [
    "`ZeroDivisionError` is thrown when the second operator in the division is zero."
   ]
  },
  {
   "cell_type": "code",
   "execution_count": 12,
   "metadata": {},
   "outputs": [
    {
     "ename": "ZeroDivisionError",
     "evalue": "division by zero",
     "output_type": "error",
     "traceback": [
      "\u001b[0;31m---------------------------------------------------------------------------\u001b[0m",
      "\u001b[0;31mZeroDivisionError\u001b[0m                         Traceback (most recent call last)",
      "\u001b[0;32m<ipython-input-12-bbe761e74a70>\u001b[0m in \u001b[0;36m<module>\u001b[0;34m\u001b[0m\n\u001b[0;32m----> 1\u001b[0;31m \u001b[0;36m100\u001b[0m\u001b[0;34m/\u001b[0m\u001b[0;36m0\u001b[0m\u001b[0;34m\u001b[0m\u001b[0;34m\u001b[0m\u001b[0m\n\u001b[0m",
      "\u001b[0;31mZeroDivisionError\u001b[0m: division by zero"
     ]
    }
   ],
   "source": [
    "100/0"
   ]
  },
  {
   "cell_type": "markdown",
   "metadata": {},
   "source": [
    "`KeyboardInterrupt` is thrown when the user hits the interrupt key (normally Control-C) during the execution of the program. **NOTE**: This works from the command line, but **not** inside a notebook!"
   ]
  },
  {
   "cell_type": "code",
   "execution_count": 14,
   "metadata": {},
   "outputs": [
    {
     "name": "stdout",
     "output_type": "stream",
     "text": [
      "**********************************************************************************************************************************************************************************************************************************************************************************************************************************************************************************************************************************************************************************************************************************************************************************************************************************************************************************************************************************************************************************************************************************************************************************************************************************************************************************************************************************************************************************************************************************************************************************************************************************************************************************************************************************************************************************************************************************************************************************************************************************************************************************************************************************************************************************************************************************************************************************************************************************************************************************************************************************************************************************************************************************************************************************************************************************************************************************************************************************************************************************************************************************************************************************************************************************************************************************************************************************************************************************************************************************************************************************************************************************************************************************************************************************************************************************************************************************************************************************************************************************************************************************************************************************************************************************************************************************************************************************************************************************************************************************************************************************************************************************************************************************************************************************************************************************************************************************************************************************************************************************************************************************************************************************************************************************************************************************************************************************************************************************************************************************************************************************************************************************************************************************************************************************************************************************************************************************************************************************************************************************************************************************************************************************************************************************************************************************************************************************************************************************************************************************************************************************************************************************************************************************************************************************************************************************************************************************************************************************************************************************************************************************************************************************************************************************************************************************************************************************************************************************************************************************************************************************************************************************************************************************************************************************************************************************************************************************************************************************************************************************************************************************************************************************************************************************************************************************************************************************************************************************************************************************************************************************************************************************************************************************************************************************************************************************************************************************************************************************************************************************************************************************************************************************************************************************************************************************************************************************************************************************************************************************************************************************************************************************************************************************************************************************************************************************************************************************************************************************************************************************************************************************************************************************************************************************************************************************************************************************************************************************************************************************************************************************************************************************************************************************************************************************************************************************************************************************************************************************************************************************************************************************************************************************************************************************************************************************************************************************************************************************************************************************************************************************************"
     ]
    },
    {
     "name": "stdout",
     "output_type": "stream",
     "text": [
      "**************************************************************************************************************************************************************************************************************************************************************************************************************************************************************************************************************************************************************************************************************************************************************************************************************************************************************************************************************************************************************************************************************************************************************************************************************************************************************************************************************************************************************************************************************************************************************************************************************************************************************************************************************************************************************************************************************************************************************************************************************************************************************************************************************************************************************************************************************************************************************************************************************************************************************************************************************************************************************************************************************************************************************************************************************************************************************************************************************************************************************************************************************************************************************************************************************************************************************************************************************************************************************************************************************************************************************************************************************************************************************************************************************************************************************************************************************************************************************************************************************************************************************************************************************************************************************************************************************************************************************************************************************************************************************************************************************************************************************************************************************************************************************************************************************************************************************************************************************************************************************************************************************************************************************************************************************************************************************************************************************************************************************************************************************************************************************\n",
      "Program terminated by user.\n"
     ]
    }
   ],
   "source": [
    "try:\n",
    "    while True:\n",
    "        print(\"*\", end='')\n",
    "\n",
    "except KeyboardInterrupt:\n",
    "    print(\"\\nProgram terminated by user.\")"
   ]
  },
  {
   "cell_type": "markdown",
   "metadata": {},
   "source": [
    "### Exceptions and Files"
   ]
  },
  {
   "cell_type": "markdown",
   "metadata": {},
   "source": [
    "Here is a common pattern:\n",
    "\n",
    "1. Ask the user for some input.\n",
    "2. Try something with the input.\n",
    "3. Catch any exception and ask the user again.\n",
    "4. No exception: go on to next task!"
   ]
  },
  {
   "cell_type": "code",
   "execution_count": 1,
   "metadata": {},
   "outputs": [
    {
     "name": "stdout",
     "output_type": "stream",
     "text": [
      "Enter file name: input.txt\n",
      "That last name was OK!\n"
     ]
    }
   ],
   "source": [
    "# input_file = open(\"jhsjkdfhsdgfj.txt\", \"r\")\n",
    "\n",
    "file_name = input(\"Enter file name: \")\n",
    "file_opened = False\n",
    "while not file_opened:\n",
    "    try:\n",
    "        input_file = open(file_name, \"r\")\n",
    "    except FileNotFoundError:\n",
    "        print(\"File \", file_name, \"not found; try again!\")\n",
    "        file_name = input(\"Enter file name: \")\n",
    "    except PermissionError:\n",
    "        print(\"You don't have permission to read file \", file_name, \"; try again!\")\n",
    "        file_name = input(\"Enter file name: \")        \n",
    "    else:\n",
    "        file_opened = True\n",
    "print(\"That last name was OK!\")\n",
    "input_file.close()"
   ]
  },
  {
   "cell_type": "markdown",
   "metadata": {},
   "source": [
    "What goes above to handle no read permission?\n",
    "\n",
    "a) finally:  \n",
    "b) else:  \n",
    "c) except PermissionError:  \n",
    "d) except ValueError:  "
   ]
  },
  {
   "cell_type": "code",
   "execution_count": null,
   "metadata": {},
   "outputs": [],
   "source": [
    "file_name = input(\"What file do you want to open? \")\n",
    "line_num_str = input(\"What line of the file do you want to see? \")\n",
    "\n",
    "try:\n",
    "    input_file = open(file_name, \"r\")\n",
    "    find_line = int(line_num_str)\n",
    "\n",
    "    for line_num, line_str in enumerate(input_file):\n",
    "        if line_num == find_line:\n",
    "            print(\"Line {} of file {} is: {}\".format(line_num,\n",
    "                                                     file_name,\n",
    "                                                     line_str))\n",
    "            break\n",
    "    else:\n",
    "        print(\"Line {} of file {} not found.\".format(find_line,\n",
    "                                                     file_name))\n",
    "\n",
    "    input_file.close()\n",
    "\n",
    "except FileNotFoundError:\n",
    "    print(\"File {} not found.\".format(input_file))\n",
    "except ValueError:\n",
    "    print(\"Line {} isn't a legal line number.\".format(line_num_str))\n",
    "\n",
    "print(\"End of program\")"
   ]
  },
  {
   "cell_type": "markdown",
   "metadata": {},
   "source": [
    "### Try-Except-Else-Finally"
   ]
  },
  {
   "cell_type": "code",
   "execution_count": 3,
   "metadata": {},
   "outputs": [
    {
     "name": "stdout",
     "output_type": "stream",
     "text": [
      "All done!\n"
     ]
    },
    {
     "ename": "AttributeError",
     "evalue": "'str' object has no attribute 'write'",
     "output_type": "error",
     "traceback": [
      "\u001b[0;31m---------------------------------------------------------------------------\u001b[0m",
      "\u001b[0;31mFileNotFoundError\u001b[0m                         Traceback (most recent call last)",
      "\u001b[0;32m<ipython-input-3-abc7b4fae350>\u001b[0m in \u001b[0;36m<module>\u001b[0;34m\u001b[0m\n\u001b[1;32m      2\u001b[0m \u001b[0;32mtry\u001b[0m\u001b[0;34m:\u001b[0m\u001b[0;34m\u001b[0m\u001b[0;34m\u001b[0m\u001b[0m\n\u001b[0;32m----> 3\u001b[0;31m     \u001b[0minput_file\u001b[0m \u001b[0;34m=\u001b[0m \u001b[0mopen\u001b[0m\u001b[0;34m(\u001b[0m\u001b[0mfile_name\u001b[0m\u001b[0;34m)\u001b[0m\u001b[0;34m\u001b[0m\u001b[0;34m\u001b[0m\u001b[0m\n\u001b[0m\u001b[1;32m      4\u001b[0m \u001b[0;32mexcept\u001b[0m \u001b[0mFileNotFoundError\u001b[0m\u001b[0;34m:\u001b[0m\u001b[0;34m\u001b[0m\u001b[0;34m\u001b[0m\u001b[0m\n",
      "\u001b[0;31mFileNotFoundError\u001b[0m: [Errno 2] No such file or directory: 'grudes.txt'",
      "\nDuring handling of the above exception, another exception occurred:\n",
      "\u001b[0;31mAttributeError\u001b[0m                            Traceback (most recent call last)",
      "\u001b[0;32m<ipython-input-3-abc7b4fae350>\u001b[0m in \u001b[0;36m<module>\u001b[0;34m\u001b[0m\n\u001b[1;32m      3\u001b[0m     \u001b[0minput_file\u001b[0m \u001b[0;34m=\u001b[0m \u001b[0mopen\u001b[0m\u001b[0;34m(\u001b[0m\u001b[0mfile_name\u001b[0m\u001b[0;34m)\u001b[0m\u001b[0;34m\u001b[0m\u001b[0;34m\u001b[0m\u001b[0m\n\u001b[1;32m      4\u001b[0m \u001b[0;32mexcept\u001b[0m \u001b[0mFileNotFoundError\u001b[0m\u001b[0;34m:\u001b[0m\u001b[0;34m\u001b[0m\u001b[0;34m\u001b[0m\u001b[0m\n\u001b[0;32m----> 5\u001b[0;31m     \u001b[0mprint\u001b[0m\u001b[0;34m(\u001b[0m\u001b[0;34m\"File does not exist:\"\u001b[0m\u001b[0;34m,\u001b[0m \u001b[0mfile_name\u001b[0m\u001b[0;34m,\u001b[0m \u001b[0mfile\u001b[0m\u001b[0;34m=\u001b[0m\u001b[0;34m\"kajhsdkjh/ajshdjkasdh/jkahsdjh\"\u001b[0m\u001b[0;34m)\u001b[0m\u001b[0;34m\u001b[0m\u001b[0;34m\u001b[0m\u001b[0m\n\u001b[0m\u001b[1;32m      6\u001b[0m \u001b[0;32melse\u001b[0m\u001b[0;34m:\u001b[0m\u001b[0;34m\u001b[0m\u001b[0;34m\u001b[0m\u001b[0m\n\u001b[1;32m      7\u001b[0m     \u001b[0;31m# executed if try block is error-free\u001b[0m\u001b[0;34m\u001b[0m\u001b[0;34m\u001b[0m\u001b[0;34m\u001b[0m\u001b[0m\n",
      "\u001b[0;31mAttributeError\u001b[0m: 'str' object has no attribute 'write'"
     ]
    }
   ],
   "source": [
    "file_name = \"grudes.txt\"\n",
    "try:\n",
    "    input_file = open(file_name)\n",
    "except FileNotFoundError:\n",
    "    print(\"File does not exist:\", file_name, file=\"kajhsdkjh/ajshdjkasdh/jkahsdjh\")\n",
    "else:\n",
    "    # executed if try block is error-free\n",
    "    print(\"Processing\", file_name)\n",
    "finally:\n",
    "    # executed irrespective of exception occured or not\n",
    "    print(\"All done!\")\n",
    "    \n",
    "print(\"We never get here!\")"
   ]
  },
  {
   "cell_type": "markdown",
   "metadata": {},
   "source": [
    "### Raising an exception\n",
    "\n",
    "We can *raise* (or *throw*) a new exception ourselves. Let's see how:"
   ]
  },
  {
   "cell_type": "code",
   "execution_count": null,
   "metadata": {},
   "outputs": [],
   "source": [
    "# pattern: prefer data to logic:\n",
    "VALID_PHONE_CHARS = [' ', '0', '1', '2', '3', '4', '5',\n",
    "                     '6', '7', '8', '9', '0', '-', '(',\n",
    "                     ')', '#']\n",
    "def validate_phone_num(number):\n",
    "    for char in number:\n",
    "        if char not in VALID_PHONE_CHARS:\n",
    "            raise(ValueError(\"{} is not valid in a phone number\".format(char)))\n",
    "    return True\n",
    "\n",
    "good_num = False\n",
    "phone_num = input(\"Please enter your phone number:\")\n",
    "\n",
    "while not good_num:\n",
    "    try:\n",
    "        validate_phone_num(phone_num)\n",
    "    except ValueError as val_err:\n",
    "        print(\"-\"*40)\n",
    "        print(\"Bad phone #: {}\".format(val_err))\n",
    "        print(\"-\"*40)\n",
    "        # ask again:\n",
    "        phone_num = input(\"Please enter your phone number:\")\n",
    "    else:\n",
    "        good_num = True\n",
    "\n",
    "print(\"Phone number is:\", phone_num)"
   ]
  },
  {
   "cell_type": "markdown",
   "metadata": {},
   "source": [
    "### Problems with exceptions\n",
    "\n",
    "1. They terminate the program if not handled. The Mars Rover coding standards *forbid* throwing exceptions.\n",
    "2. They transfer control non-locally."
   ]
  },
  {
   "cell_type": "code",
   "execution_count": null,
   "metadata": {},
   "outputs": [],
   "source": []
  }
 ],
 "metadata": {
  "kernelspec": {
   "display_name": "Python 3",
   "language": "python",
   "name": "python3"
  },
  "language_info": {
   "codemirror_mode": {
    "name": "ipython",
    "version": 3
   },
   "file_extension": ".py",
   "mimetype": "text/x-python",
   "name": "python",
   "nbconvert_exporter": "python",
   "pygments_lexer": "ipython3",
   "version": "3.9.0"
  }
 },
 "nbformat": 4,
 "nbformat_minor": 2
}
