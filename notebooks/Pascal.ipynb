{
 "cells": [
  {
   "cell_type": "markdown",
   "metadata": {},
   "source": [
    "## Pascal's Triangle\n",
    "\n",
    "This is a beautiful and interesting mathematical object, important in understanding probability theory, among other things. For more on the triangle, [see here](https://en.wikipedia.org/wiki/Pascal%27s_triangle).\n",
    "\n",
    "In this notebook, we will construct a program to print lines of Pascal's Triangle."
   ]
  },
  {
   "cell_type": "code",
   "execution_count": 1,
   "metadata": {},
   "outputs": [
    {
     "name": "stdout",
     "output_type": "stream",
     "text": [
      "How many lines of the triangle would you like? 10\n",
      "[[1], [1, 1], [1, 2, 1], [1, 3, 3, 1], [1, 4, 6, 4, 1], [1, 5, 10, 10, 5, 1], [1, 6, 15, 20, 15, 6, 1], [1, 7, 21, 35, 35, 21, 7, 1], [1, 8, 28, 56, 70, 56, 28, 8, 1], [1, 9, 36, 84, 126, 126, 84, 36, 9, 1]]\n"
     ]
    }
   ],
   "source": [
    "\n",
    "def make_tree(num):\n",
    "    tree = [[1]]\n",
    "    for x in range(1, num):  # builds rows\n",
    "        row = [1]\n",
    "        for y in range(1, x):  # builds current row\n",
    "            row.append(tree[x-1][y-1] + tree[x-1][y])\n",
    "        row.append(1)\n",
    "        tree.append(row)\n",
    "    return tree\n",
    "\n",
    "\n",
    "def main():\n",
    "    num_lines = int(input(\"How many lines of the triangle would you like? \"))\n",
    "    result_tree = make_tree(num_lines)\n",
    "    print(result_tree)\n",
    "\n",
    "main()"
   ]
  },
  {
   "cell_type": "code",
   "execution_count": null,
   "metadata": {},
   "outputs": [],
   "source": []
  }
 ],
 "metadata": {
  "kernelspec": {
   "display_name": "Python 3",
   "language": "python",
   "name": "python3"
  },
  "language_info": {
   "codemirror_mode": {
    "name": "ipython",
    "version": 3
   },
   "file_extension": ".py",
   "mimetype": "text/x-python",
   "name": "python",
   "nbconvert_exporter": "python",
   "pygments_lexer": "ipython3",
   "version": "3.6.2"
  }
 },
 "nbformat": 4,
 "nbformat_minor": 2
}
