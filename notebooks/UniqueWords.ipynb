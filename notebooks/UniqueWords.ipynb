{
 "cells": [
  {
   "cell_type": "markdown",
   "metadata": {},
   "source": [
    "## List Unique Words in Some Text\n",
    "\n",
    "Let's look at a longer program using lists.\n",
    "\n",
    "First we will create our text:"
   ]
  },
  {
   "cell_type": "code",
   "execution_count": 1,
   "metadata": {},
   "outputs": [],
   "source": [
    "ulysses = '''\n",
    "Stately, plump Buck Mulligan came from the stairhead, bearing a bowl of lather on which a mirror and a razor lay crossed. A yellow dressinggown, ungirdled, was sustained gently behind him on the mild morning air. He held the bowl aloft and intoned:\n",
    "--Introibo ad altare Dei.\n",
    "Halted, he peered down the dark winding stairs and called out coarsely:\n",
    "--Come up, Kinch! Come up, you fearful jesuit!\n",
    "Solemnly he came forward and mounted the round gunrest. He faced about and blessed gravely thrice the tower, the surrounding land and the awaking mountains. Then, catching sight of Stephen Dedalus, he bent towards him and made rapid crosses in the air, gurgling in his throat and shaking his head. Stephen Dedalus, displeased and sleepy, leaned his arms on the top of the staircase and looked coldly at the shaking gurgling face that blessed him, equine in its length, and at the light untonsured hair, grained and hued like pale oak.\n",
    "Buck Mulligan peeped an instant under the mirror and then covered the bowl smartly.\n",
    "--Back to barracks! he said sternly.\n",
    "'''\n"
   ]
  },
  {
   "cell_type": "code",
   "execution_count": 2,
   "metadata": {},
   "outputs": [
    {
     "name": "stdout",
     "output_type": "stream",
     "text": [
      "\n",
      "Stately, plump Buck Mulligan came from the stairhead, bearing a bowl of lather on which a mirror and a razor lay crossed. A yellow dressinggown, ungirdled, was sustained gently behind him on the mild morning air. He held the bowl aloft and intoned:\n",
      "--Introibo ad altare Dei.\n",
      "Halted, he peered down the dark winding stairs and called out coarsely:\n",
      "--Come up, Kinch! Come up, you fearful jesuit!\n",
      "Solemnly he came forward and mounted the round gunrest. He faced about and blessed gravely thrice the tower, the surrounding land and the awaking mountains. Then, catching sight of Stephen Dedalus, he bent towards him and made rapid crosses in the air, gurgling in his throat and shaking his head. Stephen Dedalus, displeased and sleepy, leaned his arms on the top of the staircase and looked coldly at the shaking gurgling face that blessed him, equine in its length, and at the light untonsured hair, grained and hued like pale oak.\n",
      "Buck Mulligan peeped an instant under the mirror and then covered the bowl smartly.\n",
      "--Back to barracks! he said sternly.\n",
      "\n"
     ]
    }
   ],
   "source": [
    "print(ulysses)"
   ]
  },
  {
   "cell_type": "code",
   "execution_count": 14,
   "metadata": {},
   "outputs": [],
   "source": [
    "def prepare_text(text):\n",
    "    # Replaces punctuation characters in the specified text\n",
    "    # sig: string -> String\n",
    "    text = text.lower()\n",
    "    text = text.replace('-', ' ')\n",
    "    text = text.replace('-', ' ')\n",
    "    text = text.replace('!', ' ')\n",
    "    text = text.replace('&', ' ')\n",
    "    text = text.replace(',', ' ')\n",
    "    text = text.replace(';', ' ')\n",
    "    text = text.replace('.', ' ')\n",
    "    text = text.replace(':', ' ')\n",
    "    return text"
   ]
  },
  {
   "cell_type": "code",
   "execution_count": 6,
   "metadata": {},
   "outputs": [],
   "source": [
    "def make_word_list(text):\n",
    "    # Creates a list of words from a string, filtering out empty words\n",
    "    # sig: string -> list\n",
    "    word_list = []\n",
    "\n",
    "    text_list = text.split() # turns a string into a list of elements (words)\n",
    "\n",
    "    for word in text_list:\n",
    "        if len(word) != 0:\n",
    "            word_list.append(word)\n",
    "    return word_list"
   ]
  },
  {
   "cell_type": "code",
   "execution_count": null,
   "metadata": {},
   "outputs": [],
   "source": [
    "def make_unique_list(word_list):\n",
    "    # Creates a list of unique words from a list of words\n",
    "    # sig: list -> list\n",
    "    unique_list = []\n",
    "    for word in word_list:\n",
    "        if word not in unique_list:\n",
    "            unique_list.append(word)\n",
    "    return unique_list"
   ]
  },
  {
   "cell_type": "code",
   "execution_count": 7,
   "metadata": {},
   "outputs": [],
   "source": [
    "def print_results(title, w_list, u_list):\n",
    "    # Prints our results\n",
    "    # sig: list, list -> None\n",
    "    print(\"Number of words:\", len(w_list))\n",
    "    print(\"Number of unique words:\", len(u_list))\n",
    "\n",
    "    header = \"Unique words of \" + title + \":\"\n",
    "    print(header)\n",
    "    print(\"-\" * len(header))\n",
    "    print(u_list)\n",
    "\n",
    "    print(\"The list of unique words sorted...\")\n",
    "    print(sorted(u_list))  # the built-in sorted function, for a sorted list"
   ]
  },
  {
   "cell_type": "code",
   "execution_count": 15,
   "metadata": {},
   "outputs": [
    {
     "name": "stdout",
     "output_type": "stream",
     "text": [
      "Number of words: 178\n",
      "Number of unique words: 118\n",
      "Unique words of Ulysses:\n",
      "------------------------\n",
      "['stately', 'plump', 'buck', 'mulligan', 'came', 'from', 'the', 'stairhead', 'bearing', 'a', 'bowl', 'of', 'lather', 'on', 'which', 'mirror', 'and', 'razor', 'lay', 'crossed', 'yellow', 'dressinggown', 'ungirdled', 'was', 'sustained', 'gently', 'behind', 'him', 'mild', 'morning', 'air', 'he', 'held', 'aloft', 'intoned', 'introibo', 'ad', 'altare', 'dei', 'halted', 'peered', 'down', 'dark', 'winding', 'stairs', 'called', 'out', 'coarsely', 'come', 'up', 'kinch', 'you', 'fearful', 'jesuit', 'solemnly', 'forward', 'mounted', 'round', 'gunrest', 'faced', 'about', 'blessed', 'gravely', 'thrice', 'tower', 'surrounding', 'land', 'awaking', 'mountains', 'then', 'catching', 'sight', 'stephen', 'dedalus', 'bent', 'towards', 'made', 'rapid', 'crosses', 'in', 'gurgling', 'his', 'throat', 'shaking', 'head', 'displeased', 'sleepy', 'leaned', 'arms', 'top', 'staircase', 'looked', 'coldly', 'at', 'face', 'that', 'equine', 'its', 'length', 'light', 'untonsured', 'hair', 'grained', 'hued', 'like', 'pale', 'oak', 'peeped', 'an', 'instant', 'under', 'covered', 'smartly', 'back', 'to', 'barracks', 'said', 'sternly']\n",
      "The list of unique words sorted...\n",
      "['a', 'about', 'ad', 'air', 'aloft', 'altare', 'an', 'and', 'arms', 'at', 'awaking', 'back', 'barracks', 'bearing', 'behind', 'bent', 'blessed', 'bowl', 'buck', 'called', 'came', 'catching', 'coarsely', 'coldly', 'come', 'covered', 'crossed', 'crosses', 'dark', 'dedalus', 'dei', 'displeased', 'down', 'dressinggown', 'equine', 'face', 'faced', 'fearful', 'forward', 'from', 'gently', 'grained', 'gravely', 'gunrest', 'gurgling', 'hair', 'halted', 'he', 'head', 'held', 'him', 'his', 'hued', 'in', 'instant', 'intoned', 'introibo', 'its', 'jesuit', 'kinch', 'land', 'lather', 'lay', 'leaned', 'length', 'light', 'like', 'looked', 'made', 'mild', 'mirror', 'morning', 'mountains', 'mounted', 'mulligan', 'oak', 'of', 'on', 'out', 'pale', 'peeped', 'peered', 'plump', 'rapid', 'razor', 'round', 'said', 'shaking', 'sight', 'sleepy', 'smartly', 'solemnly', 'staircase', 'stairhead', 'stairs', 'stately', 'stephen', 'sternly', 'surrounding', 'sustained', 'that', 'the', 'then', 'thrice', 'throat', 'to', 'top', 'towards', 'tower', 'under', 'ungirdled', 'untonsured', 'up', 'was', 'which', 'winding', 'yellow', 'you']\n"
     ]
    }
   ],
   "source": [
    "def main():\n",
    "    cleaned_doc = prepare_text(ulysses)\n",
    "    word_list = make_word_list(cleaned_doc)\n",
    "    unique_list = make_unique_list(word_list)\n",
    "    print_results(\"Ulysses\", word_list, unique_list)\n",
    "    \n",
    "main()"
   ]
  },
  {
   "cell_type": "code",
   "execution_count": null,
   "metadata": {},
   "outputs": [],
   "source": []
  }
 ],
 "metadata": {
  "kernelspec": {
   "display_name": "Python 3",
   "language": "python",
   "name": "python3"
  },
  "language_info": {
   "codemirror_mode": {
    "name": "ipython",
    "version": 3
   },
   "file_extension": ".py",
   "mimetype": "text/x-python",
   "name": "python",
   "nbconvert_exporter": "python",
   "pygments_lexer": "ipython3",
   "version": "3.6.2"
  }
 },
 "nbformat": 4,
 "nbformat_minor": 2
}
