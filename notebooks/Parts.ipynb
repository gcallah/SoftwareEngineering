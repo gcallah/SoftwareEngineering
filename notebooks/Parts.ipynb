{
 "cells": [
  {
   "cell_type": "markdown",
   "metadata": {},
   "source": [
    "## The Parts of a Program"
   ]
  },
  {
   "cell_type": "markdown",
   "metadata": {},
   "source": [
    "### Modules"
   ]
  },
  {
   "cell_type": "markdown",
   "metadata": {},
   "source": [
    "A *module* is a bunch of Python code collected together, hopefully around some unifying idea, that we can pull into our program. For instance, the `sys` module provides a number of functions and variables that help us deal with whatever system our Python code is running on. We use the `import` statement to pull such \"helper\" code into our program."
   ]
  },
  {
   "cell_type": "markdown",
   "metadata": {},
   "source": [
    "### Statements and Expressions"
   ]
  },
  {
   "cell_type": "markdown",
   "metadata": {},
   "source": [
    "A *statement* is some Python code that performs some task but does not return a value. So if we write:"
   ]
  },
  {
   "cell_type": "code",
   "execution_count": 1,
   "metadata": {},
   "outputs": [],
   "source": [
    "x = 3 + 4"
   ]
  },
  {
   "cell_type": "markdown",
   "metadata": {},
   "source": [
    "We don't see any result in our notebook. That is because Python considers `x = 3 + 4` to be a *statement*. And statements don't return values. But if we now write:"
   ]
  },
  {
   "cell_type": "code",
   "execution_count": 2,
   "metadata": {},
   "outputs": [
    {
     "data": {
      "text/plain": [
       "7"
      ]
     },
     "execution_count": 2,
     "metadata": {},
     "output_type": "execute_result"
    }
   ],
   "source": [
    "x"
   ]
  },
  {
   "cell_type": "markdown",
   "metadata": {},
   "source": [
    "*Now* we see a value! That is because Python considers `x` to be an expression.\n",
    "\n",
    "Let's try this with `if`:"
   ]
  },
  {
   "cell_type": "code",
   "execution_count": 3,
   "metadata": {},
   "outputs": [],
   "source": [
    "if (x == 2):\n",
    "    x = 3\n",
    "else:\n",
    "    x = 4"
   ]
  },
  {
   "cell_type": "markdown",
   "metadata": {},
   "source": [
    "OK, and let's see one more expression:"
   ]
  },
  {
   "cell_type": "code",
   "execution_count": 4,
   "metadata": {},
   "outputs": [
    {
     "data": {
      "text/plain": [
       "1186.4"
      ]
     },
     "execution_count": 4,
     "metadata": {},
     "output_type": "execute_result"
    }
   ],
   "source": [
    "x + 7 * 13 ** 2 - 3 / 5"
   ]
  },
  {
   "cell_type": "markdown",
   "metadata": {},
   "source": [
    "We *could* assign the result of evaluating the above expression to a variable; we can't do that with `print` or `if`:"
   ]
  },
  {
   "cell_type": "code",
   "execution_count": 6,
   "metadata": {},
   "outputs": [
    {
     "data": {
      "text/plain": [
       "1186.4"
      ]
     },
     "execution_count": 6,
     "metadata": {},
     "output_type": "execute_result"
    }
   ],
   "source": [
    "y = x + 7 * 13 ** 2 - 3 / 5\n",
    "y"
   ]
  },
  {
   "cell_type": "markdown",
   "metadata": {},
   "source": [
    "The following won't work as `if` is a statement:"
   ]
  },
  {
   "cell_type": "code",
   "execution_count": 10,
   "metadata": {},
   "outputs": [
    {
     "ename": "SyntaxError",
     "evalue": "invalid syntax (<ipython-input-10-5e541bf49f7c>, line 1)",
     "output_type": "error",
     "traceback": [
      "\u001b[0;36m  File \u001b[0;32m\"<ipython-input-10-5e541bf49f7c>\"\u001b[0;36m, line \u001b[0;32m1\u001b[0m\n\u001b[0;31m    y = if (x < 7):\u001b[0m\n\u001b[0m         ^\u001b[0m\n\u001b[0;31mSyntaxError\u001b[0m\u001b[0;31m:\u001b[0m invalid syntax\n"
     ]
    }
   ],
   "source": [
    "y = if (x < 7):\n",
    "    print(\"Hello\")"
   ]
  },
  {
   "cell_type": "markdown",
   "metadata": {},
   "source": [
    "### Whitespace"
   ]
  },
  {
   "cell_type": "markdown",
   "metadata": {},
   "source": [
    "*Whitespace* means those \"characters\" we might type that don't have a visible representation, except that they shift around where other, visible, characters should appear. For instance, if you hit the `return` key while typing some text, there is no visual reprentation of that keystroke other than the text you type afterwards appearing on a new line."
   ]
  },
  {
   "cell_type": "markdown",
   "metadata": {},
   "source": [
    "Python is different from most programming languages in that whitespace is an important part of the control structure of a program. The control structures of a programming language determine whether some piece of code will be executed or not, or how many times it will be executed. For instance, in the following code, the `print` statements must be indented. The standard indentation is four spaces for each new control structure:"
   ]
  },
  {
   "cell_type": "code",
   "execution_count": 21,
   "metadata": {},
   "outputs": [
    {
     "name": "stdout",
     "output_type": "stream",
     "text": [
      "No seven!\n",
      "This print happens whatever the value of x is!\n"
     ]
    }
   ],
   "source": [
    "x = 3\n",
    "if (x == 7):\n",
    "    print(\"Hello seven!\")\n",
    "    x = 5\n",
    "else:\n",
    "    print(\"No seven!\")\n",
    "print(\"This print happens whatever the value of x is!\")"
   ]
  },
  {
   "cell_type": "markdown",
   "metadata": {},
   "source": [
    "### Comments\n",
    "Comments are lines in your code file that don't *do* anything, at least not to the computer. They are intended for the programmers who will read your code after you. **Note:** Most professional code is read far more often than it is written."
   ]
  },
  {
   "cell_type": "code",
   "execution_count": 22,
   "metadata": {},
   "outputs": [],
   "source": [
    "# this line is a comment... and so is the next one:\n",
    "# x = 8"
   ]
  },
  {
   "cell_type": "markdown",
   "metadata": {},
   "source": [
    "Notice `x` didn't change:"
   ]
  },
  {
   "cell_type": "code",
   "execution_count": 23,
   "metadata": {},
   "outputs": [
    {
     "data": {
      "text/plain": [
       "3"
      ]
     },
     "execution_count": 23,
     "metadata": {},
     "output_type": "execute_result"
    }
   ],
   "source": [
    "x"
   ]
  },
  {
   "cell_type": "markdown",
   "metadata": {},
   "source": [
    "### Special Reserved Tokens\n",
    "Python has **lots** of these: *keywords*, *operators*, and *delimiters*.\n",
    "#### Keywords\n",
    "**Examples:** `and`, `or`, `not`, `if`, `while`, and many more.\n",
    "They do something special in the language, and we will learn them a few at a time. *You can't use these words as names of variables of functions in your programs.*\n",
    "#### Operators\n",
    "**Examples:** `+`, `-`, `/`, `*`, and many more.\n",
    "These are largely used in arithmetic expressions. Once again, we'll tackle them a few at a time.\n",
    "#### Punctuators and Delimiters\n",
    "**Examples:** `[`, `]`, `\"` `,` and lots of others.\n",
    "These separate the parts of a program."
   ]
  },
  {
   "cell_type": "code",
   "execution_count": 24,
   "metadata": {},
   "outputs": [
    {
     "ename": "SyntaxError",
     "evalue": "invalid syntax (<ipython-input-24-2f5bf3468bf8>, line 1)",
     "output_type": "error",
     "traceback": [
      "\u001b[0;36m  File \u001b[0;32m\"<ipython-input-24-2f5bf3468bf8>\"\u001b[0;36m, line \u001b[0;32m1\u001b[0m\n\u001b[0;31m    and = 7\u001b[0m\n\u001b[0m      ^\u001b[0m\n\u001b[0;31mSyntaxError\u001b[0m\u001b[0;31m:\u001b[0m invalid syntax\n"
     ]
    }
   ],
   "source": [
    "and = 7"
   ]
  },
  {
   "cell_type": "markdown",
   "metadata": {},
   "source": [
    "### Naming Objects\n",
    "\n",
    "The names in your programs are for the benefit of **people**: the computer would be fine dealing solely with memory addresses. So pick names that make clear what you have stored in some location!\n",
    "Python has some rules for names:\n",
    "1. They must begin with a letter or underscore `_`.\n",
    "2. After that, you can also use numbers.\n",
    "3. Names can be as long as you want.\n",
    "4. Names are *case sensitive*: `Callahan` is a different name than `cALLAHAN`.\n",
    "\n",
    "Typically, in Python, you should start your names with a lowercase letter, and use underscores to separate \"words.\" So a variable intended to hold information about this course should be called `intro_to_python`.\n"
   ]
  },
  {
   "cell_type": "code",
   "execution_count": null,
   "metadata": {},
   "outputs": [],
   "source": []
  }
 ],
 "metadata": {
  "kernelspec": {
   "display_name": "Python 3",
   "language": "python",
   "name": "python3"
  },
  "language_info": {
   "codemirror_mode": {
    "name": "ipython",
    "version": 3
   },
   "file_extension": ".py",
   "mimetype": "text/x-python",
   "name": "python",
   "nbconvert_exporter": "python",
   "pygments_lexer": "ipython3",
   "version": "3.6.8"
  }
 },
 "nbformat": 4,
 "nbformat_minor": 2
}
