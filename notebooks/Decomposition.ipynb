{
 "cells": [
  {
   "cell_type": "markdown",
   "metadata": {},
   "source": [
    "# Program Decomposition"
   ]
  },
  {
   "cell_type": "markdown",
   "metadata": {},
   "source": [
    "<img src=\"https://upload.wikimedia.org/wikipedia/commons/thumb/c/ca/6_Decomposition_Structure.svg/186px-6_Decomposition_Structure.svg.png\">\n",
    "\n",
    "Let's develop a short program by writing program stubs and then filling them in:\n",
    "\n",
    "Our goal is to have a program, `square_root`, that takes in a number from the user and returns its square root. Of course, in one sense this program is \"silly\": since all of our calculators can tell us the square root of a number, why would we write a program to do this?\n",
    "\n",
    "But the point of this code is to demonstrate top-down design using [decomposition](https://en.wikipedia.org/wiki/Decomposition_(computer_science%29), not to write an original program that will become a best-seller.\n",
    "\n",
    "We will begin by writing a [*pseudo-code*](https://en.wikipedia.org/wiki/Pseudocode) sketch of the [*milestones*](https://en.wikipedia.org/wiki/Milestone_(project_management%29) of our program (the major things it must do), putting the pseudo-code in comments:"
   ]
  },
  {
   "cell_type": "code",
   "execution_count": null,
   "metadata": {},
   "outputs": [],
   "source": [
    "\"\"\"Program to calculate square roots.\"\"\"\n",
    "\n",
    "def main():\n",
    "    \"\"\"This program must:\n",
    "    1. Get a (positive) number from the user.\n",
    "    2. Calculate the square root.\n",
    "    3. Output the result.\n",
    "    \"\"\"\n",
    "    pass"
   ]
  },
  {
   "cell_type": "markdown",
   "metadata": {},
   "source": [
    "Now we know what our milestones are, let us write each of them as a [*stub*](https://en.wikipedia.org/wiki/Method_stub):"
   ]
  },
  {
   "cell_type": "code",
   "execution_count": 3,
   "metadata": {},
   "outputs": [],
   "source": [
    "def get_input():\n",
    "    \"\"\"Gets the user's input for our program.\n",
    "       Pre-condition: user is alive and able to input data.\n",
    "       Post-condition: we have captured the user's input.\n",
    "    \"\"\"\n",
    "    pass"
   ]
  },
  {
   "cell_type": "code",
   "execution_count": 4,
   "metadata": {},
   "outputs": [],
   "source": [
    "def calc_square_root(num):\n",
    "    \"\"\"Calculates square root of its input.\n",
    "       Pre-condition: positive numeric input.\n",
    "       Post-condition: the square root of the input\n",
    "           is calculated.\n",
    "    \"\"\"\n",
    "    pass"
   ]
  },
  {
   "cell_type": "code",
   "execution_count": 5,
   "metadata": {},
   "outputs": [],
   "source": [
    "def output_result(result):\n",
    "    \"\"\"Outputs our result.\n",
    "       Pre-condition: we have calculated a square root.\n",
    "       Post-condition: the square root has been shown\n",
    "           to the user.\n",
    "    \"\"\"\n",
    "    pass"
   ]
  },
  {
   "cell_type": "markdown",
   "metadata": {},
   "source": [
    "Now let's rewrite `main()` to use these stubs:"
   ]
  },
  {
   "cell_type": "code",
   "execution_count": 6,
   "metadata": {},
   "outputs": [],
   "source": [
    "def main():\n",
    "    \"\"\"This program must:\n",
    "    1. Get a (positive) number from the user.\n",
    "    2. Calculate the square root.\n",
    "    3. Output the result.\n",
    "    \"\"\"\n",
    "    get_input()\n",
    "    calc_square_root(4)\n",
    "    output_result(2)"
   ]
  },
  {
   "cell_type": "markdown",
   "metadata": {},
   "source": [
    "Notice that we used some \"fake\" numbers as inputs to `calc_square_root()` and `output_result()`: this is so we can actually see if our program runs -- without the inputs these functions need, Python would complain! Here is our first code run:"
   ]
  },
  {
   "cell_type": "code",
   "execution_count": 7,
   "metadata": {},
   "outputs": [],
   "source": [
    "main()"
   ]
  },
  {
   "cell_type": "markdown",
   "metadata": {},
   "source": [
    "Well, no complaints, but we also don't see *much* evidence things are working! Let's improve that with some actual output:"
   ]
  },
  {
   "cell_type": "code",
   "execution_count": 8,
   "metadata": {},
   "outputs": [],
   "source": [
    "def output_result(result):\n",
    "    \"\"\"Outputs our result.\n",
    "       Pre-condition: we have calculated a square root.\n",
    "       Post-condition: the square root has been shown\n",
    "           to the user.\n",
    "    \"\"\"\n",
    "    print(\"The answer is:\", result)"
   ]
  },
  {
   "cell_type": "markdown",
   "metadata": {},
   "source": [
    "And test again:"
   ]
  },
  {
   "cell_type": "code",
   "execution_count": 9,
   "metadata": {},
   "outputs": [
    {
     "name": "stdout",
     "output_type": "stream",
     "text": [
      "The answer is: 2\n"
     ]
    }
   ],
   "source": [
    "main()"
   ]
  },
  {
   "cell_type": "markdown",
   "metadata": {},
   "source": [
    "Hey! Now we have some feedback, and can see our program \"works,\" at least so far. Well, now let's fill out the stub for `calc_square_root()`:"
   ]
  },
  {
   "cell_type": "code",
   "execution_count": 10,
   "metadata": {},
   "outputs": [],
   "source": [
    "def calc_square_root(num):\n",
    "    \"\"\"Calculates square root of its input.\n",
    "       Pre-condition: positive numeric input.\n",
    "       Post-condition: the square root of the input\n",
    "           is calculated.\n",
    "    \"\"\"\n",
    "    return num ** .5  # raising num to 1/2 gets its square root"
   ]
  },
  {
   "cell_type": "markdown",
   "metadata": {},
   "source": [
    "Let's test our improved function... the ability to test *parts* of our program as we go along is a major advantage of decomposition:"
   ]
  },
  {
   "cell_type": "code",
   "execution_count": 11,
   "metadata": {},
   "outputs": [
    {
     "data": {
      "text/plain": [
       "5.0"
      ]
     },
     "execution_count": 11,
     "metadata": {},
     "output_type": "execute_result"
    }
   ],
   "source": [
    "calc_square_root(25)"
   ]
  },
  {
   "cell_type": "code",
   "execution_count": 12,
   "metadata": {},
   "outputs": [
    {
     "data": {
      "text/plain": [
       "8.0"
      ]
     },
     "execution_count": 12,
     "metadata": {},
     "output_type": "execute_result"
    }
   ],
   "source": [
    "calc_square_root(64)"
   ]
  },
  {
   "cell_type": "markdown",
   "metadata": {},
   "source": [
    "Those results look good!\n",
    "Next we will have to rewrite `main()` so that the output function actually uses this result."
   ]
  },
  {
   "cell_type": "code",
   "execution_count": 13,
   "metadata": {},
   "outputs": [],
   "source": [
    "def main():\n",
    "    \"\"\"This program must:\n",
    "    1. Get a (positive) number from the user.\n",
    "    2. Calculate the square root.\n",
    "    3. Output the result.\n",
    "    \"\"\"\n",
    "    get_input()\n",
    "    sqr_root = calc_square_root(64)\n",
    "    output_result(sqr_root)"
   ]
  },
  {
   "cell_type": "code",
   "execution_count": 21,
   "metadata": {},
   "outputs": [
    {
     "name": "stdout",
     "output_type": "stream",
     "text": [
      "The answer is: 8.0\n"
     ]
    }
   ],
   "source": [
    "main()"
   ]
  },
  {
   "cell_type": "markdown",
   "metadata": {},
   "source": [
    "We're almost there! Now let's connect our input to the rest of the program... we still don't have to write the full input function: our stub can just pretend it got some input:"
   ]
  },
  {
   "cell_type": "code",
   "execution_count": 24,
   "metadata": {},
   "outputs": [],
   "source": [
    "def get_input():\n",
    "    \"\"\"Gets the user's input for our program.\n",
    "       Pre-condition: user is alive and able to input data.\n",
    "       Post-condition: we have captured the user's input.\n",
    "    \"\"\"\n",
    "    return 49\n",
    "\n",
    "def main():\n",
    "    \"\"\"This program must:\n",
    "    1. Get a (positive) number from the user.\n",
    "    2. Calculate the square root.\n",
    "    3. Output the result.\n",
    "    \"\"\"\n",
    "    num = get_input()\n",
    "    sqr_root = calc_square_root(num)\n",
    "    output_result(sqr_root)"
   ]
  },
  {
   "cell_type": "code",
   "execution_count": null,
   "metadata": {},
   "outputs": [],
   "source": [
    "main()"
   ]
  },
  {
   "cell_type": "markdown",
   "metadata": {},
   "source": [
    "Everything is working, except `get_input()` is returning a 'mocked\" value, instead of really getting input from the user. Let's finish off that function... don't worry if you don't understand the details of the following code, since it uses some concepts taught later in your course!"
   ]
  },
  {
   "cell_type": "code",
   "execution_count": 26,
   "metadata": {},
   "outputs": [],
   "source": [
    "def get_input():\n",
    "    \"\"\"Gets the user's input for our program.\n",
    "       Pre-condition: user is alive and able to input data.\n",
    "       Post-condition: we have captured the user's input.\n",
    "    \"\"\"\n",
    "    return float(input(\"Enter a positive number to see its square root:\"))"
   ]
  },
  {
   "cell_type": "markdown",
   "metadata": {},
   "source": [
    "OK, we're ready to try the \"whole thing\":"
   ]
  },
  {
   "cell_type": "code",
   "execution_count": 27,
   "metadata": {},
   "outputs": [
    {
     "name": "stdout",
     "output_type": "stream",
     "text": [
      "Enter a positive number to see its square root:33\n",
      "The answer is: 5.744562646538029\n"
     ]
    }
   ],
   "source": [
    "main()"
   ]
  },
  {
   "cell_type": "markdown",
   "metadata": {},
   "source": [
    "Our program works! To *really* finish it off, we'd have to add code to check for bad input like -1 or \"Hello world\"... but error handling will come later in your course."
   ]
  }
 ],
 "metadata": {
  "kernelspec": {
   "display_name": "Python 3",
   "language": "python",
   "name": "python3"
  },
  "language_info": {
   "codemirror_mode": {
    "name": "ipython",
    "version": 3
   },
   "file_extension": ".py",
   "mimetype": "text/x-python",
   "name": "python",
   "nbconvert_exporter": "python",
   "pygments_lexer": "ipython3",
   "version": "3.6.2"
  }
 },
 "nbformat": 4,
 "nbformat_minor": 2
}
