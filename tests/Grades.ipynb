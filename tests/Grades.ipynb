{
 "cells": [
  {
   "cell_type": "markdown",
   "metadata": {},
   "source": [
    "# Move grades from Gradescope to NYU Classes\n",
    "\n",
    "We will use the data package `pandas` for this."
   ]
  },
  {
   "cell_type": "code",
   "execution_count": null,
   "metadata": {},
   "outputs": [],
   "source": [
    "import pandas as pd\n",
    "# view all columns:\n",
    "pd.set_option('display.max_columns', None)\n",
    "grades = pd.read_csv(\"grades.csv\")  # your file name here!\n",
    "grades.head(2)"
   ]
  },
  {
   "cell_type": "markdown",
   "metadata": {},
   "source": [
    "Drop some unneeded cols -- we will keep \"Max Points\" for now."
   ]
  },
  {
   "cell_type": "code",
   "execution_count": null,
   "metadata": {},
   "outputs": [],
   "source": [
    "grades.drop(\"Email\", axis=1,  inplace=True)\n",
    "grades.drop(\"section_name\", axis=1,  inplace=True)\n",
    "grades.drop(grades.columns[grades.columns.str.contains('Submission Time')],\n",
    "            axis=1, inplace=True)\n",
    "grades.drop(grades.columns[grades.columns.str.contains('Lateness')],\n",
    "            axis=1, inplace=True)\n",
    "grades.drop(grades.columns[grades.columns.str.contains('Mock')],\n",
    "            axis=1, inplace=True)\n",
    "grades.head(2)"
   ]
  },
  {
   "cell_type": "markdown",
   "metadata": {},
   "source": [
    "Save an intermediate version:"
   ]
  },
  {
   "cell_type": "code",
   "execution_count": null,
   "metadata": {},
   "outputs": [],
   "source": [
    "grades.to_csv(\"grades2.csv\")"
   ]
  },
  {
   "cell_type": "code",
   "execution_count": null,
   "metadata": {},
   "outputs": [],
   "source": [
    "# I think this could be done with a reg exp, but...\n",
    "# we do have to add points!\n",
    "grades.rename(columns =\n",
    "              {'Assignment 0 - Getting Started': 'Asg0 [5]'},\n",
    "              inplace = True)\n",
    "grades.rename(columns =\n",
    "              {'Assignment 1 - Karel the Robot': 'Asg1 [19]'},\n",
    "              inplace = True)\n",
    "grades.rename(columns =\n",
    "              {'Assignment 2 - Calculator and Text Analyzer': 'Asg2 [20]'},\n",
    "              inplace = True)\n",
    "grades.rename(columns =\n",
    "              {'Assignment 3 - Blackjack': 'Asg3 [16]'},\n",
    "              inplace = True)\n",
    "grades.rename(columns =\n",
    "              {'Assignment 4 - Guessing Game': 'Asg4 [19]'},\n",
    "              inplace = True)\n",
    "grades.rename(columns =\n",
    "              {'Assignment 5 - Tic-tac-toe': 'Asg5 [45]'},\n",
    "              inplace = True)\n",
    "grades.head(2)"
   ]
  },
  {
   "cell_type": "code",
   "execution_count": null,
   "metadata": {},
   "outputs": [],
   "source": [
    "grades.drop(grades.columns[grades.columns.str.contains('Max Points')], axis=1, inplace=True)\n",
    "grades.rename(columns = {'Midterm 1': 'Mid1'}, inplace = True)\n",
    "grades.rename(columns = {'Midterm 2': 'Mid2'}, inplace = True)\n",
    "grades.head(2)"
   ]
  },
  {
   "cell_type": "markdown",
   "metadata": {},
   "source": [
    "Save intermediate version:"
   ]
  },
  {
   "cell_type": "code",
   "execution_count": null,
   "metadata": {},
   "outputs": [],
   "source": [
    "grades.to_csv(\"grades3.csv\")"
   ]
  },
  {
   "cell_type": "markdown",
   "metadata": {},
   "source": [
    "Move SID to first col:"
   ]
  },
  {
   "cell_type": "code",
   "execution_count": null,
   "metadata": {},
   "outputs": [],
   "source": [
    "cols = list(grades.columns)\n",
    "cols = cols[2:3] + cols[0:2] + cols[3:]\n",
    "print(cols)"
   ]
  },
  {
   "cell_type": "code",
   "execution_count": null,
   "metadata": {},
   "outputs": [],
   "source": [
    "grades = grades[cols]\n",
    "grades.head(2)"
   ]
  },
  {
   "cell_type": "markdown",
   "metadata": {},
   "source": [
    "Combine first and last name into just name:"
   ]
  },
  {
   "cell_type": "code",
   "execution_count": null,
   "metadata": {},
   "outputs": [],
   "source": [
    "pd.options.mode.chained_assignment = None\n",
    "grades[\"Name\"] = grades[['First Name', 'Last Name']].apply(lambda x: ' '.join(x),\n",
    "                                                           axis=1)\n",
    "grades.head(3)"
   ]
  },
  {
   "cell_type": "markdown",
   "metadata": {},
   "source": [
    "Move name to 2nd column, as Classes demands, and git rid of first and last:"
   ]
  },
  {
   "cell_type": "code",
   "execution_count": null,
   "metadata": {},
   "outputs": [],
   "source": [
    "cols = list(grades.columns)\n",
    "cols = cols[0:1] + cols[-1:] + cols[3:-2]\n",
    "print(cols)\n",
    "\n",
    "grades = grades[cols]\n",
    "grades.head(3)"
   ]
  },
  {
   "cell_type": "markdown",
   "metadata": {},
   "source": [
    "Assign points for labs and midterms:"
   ]
  },
  {
   "cell_type": "code",
   "execution_count": null,
   "metadata": {},
   "outputs": [],
   "source": [
    "grades.rename(columns =\n",
    "              {'Lab 01': 'Lab1 [10]'},\n",
    "              inplace = True)\n",
    "grades.rename(columns =\n",
    "              {'Lab 02': 'Lab2 [10]'},\n",
    "              inplace = True)\n",
    "grades.rename(columns =\n",
    "              {'Lab 03': 'Lab3 [10]'},\n",
    "              inplace = True)\n",
    "grades.rename(columns =\n",
    "              {'Lab 04': 'Lab4 [10]'},\n",
    "              inplace = True)\n",
    "grades.rename(columns =\n",
    "              {'Lab 05': 'Lab5 [10]'},\n",
    "              inplace = True)\n",
    "grades.rename(columns =\n",
    "              {'Lab 06': 'Lab6 [10]'},\n",
    "              inplace = True)\n",
    "grades.rename(columns =\n",
    "              {'Lab 07': 'Lab7 [10]'},\n",
    "              inplace = True)\n",
    "grades.rename(columns =\n",
    "              {'Lab 08': 'Lab8 [10]'},\n",
    "              inplace = True)\n",
    "grades.rename(columns =\n",
    "              {'Lab 09': 'Lab9 [10]'},\n",
    "              inplace = True)\n",
    "grades.rename(columns =\n",
    "              {'Lab 10': 'Lab10 [10]'},\n",
    "              inplace = True)\n",
    "grades.head()"
   ]
  },
  {
   "cell_type": "code",
   "execution_count": null,
   "metadata": {},
   "outputs": [],
   "source": [
    "grades.rename(columns =\n",
    "              {'Mid1': 'Mid1 [100]'},\n",
    "              inplace = True)\n",
    "grades.rename(columns =\n",
    "              {'Mid2': 'Mid2 [100]'},\n",
    "              inplace = True)\n",
    "grades.head()"
   ]
  },
  {
   "cell_type": "markdown",
   "metadata": {},
   "source": [
    "Save intermediate version:"
   ]
  },
  {
   "cell_type": "code",
   "execution_count": null,
   "metadata": {},
   "outputs": [],
   "source": [
    "grades.to_csv(\"grades4.csv\")"
   ]
  },
  {
   "cell_type": "markdown",
   "metadata": {},
   "source": [
    "Oops, just realized mid2 isn't fully graded! Better drop it:"
   ]
  },
  {
   "cell_type": "code",
   "execution_count": null,
   "metadata": {},
   "outputs": [],
   "source": [
    "grades.drop('Mid2 [100]', axis=1,  inplace=True)\n",
    "grades.head()"
   ]
  },
  {
   "cell_type": "markdown",
   "metadata": {},
   "source": [
    "For import to Classes, we don't need 'Total': Classes will total for us!\n",
    "But if you want to calc it, do this:"
   ]
  },
  {
   "cell_type": "code",
   "execution_count": null,
   "metadata": {},
   "outputs": [],
   "source": [
    "# cols = list(grades.columns)\n",
    "# del cols[0]\n",
    "# del cols[1]\n",
    "# grades['Total'] = grades[cols].sum(axis=1)\n",
    "# grades[\"Total\"].describe(percentiles=[0, 0.2, 0.4, 0.6, 0.8, 1.0])"
   ]
  },
  {
   "cell_type": "markdown",
   "metadata": {},
   "source": [
    "We want to see all the rows we ask for, not just '...':"
   ]
  },
  {
   "cell_type": "code",
   "execution_count": null,
   "metadata": {},
   "outputs": [],
   "source": [
    "pd.set_option('display.max_rows', None)"
   ]
  },
  {
   "cell_type": "code",
   "execution_count": null,
   "metadata": {},
   "outputs": [],
   "source": [
    "grades.head(40)"
   ]
  },
  {
   "cell_type": "markdown",
   "metadata": {},
   "source": [
    "Replace all of those `Nan`s:"
   ]
  },
  {
   "cell_type": "code",
   "execution_count": null,
   "metadata": {},
   "outputs": [],
   "source": [
    "grades.fillna(0, inplace=True)\n",
    "grades.head(40)"
   ]
  },
  {
   "cell_type": "markdown",
   "metadata": {},
   "source": [
    "Classes says the first two cols should be 'Student ID' and 'Student Name'... not sure if the exact col name matters, but what the hey..."
   ]
  },
  {
   "cell_type": "code",
   "execution_count": null,
   "metadata": {},
   "outputs": [],
   "source": [
    "grades.rename(columns =\n",
    "              {'SID': 'Student ID'},\n",
    "              inplace = True)\n",
    "grades.rename(columns =\n",
    "              {'Name': 'Student Name'},\n",
    "              inplace = True)\n",
    "grades.head()"
   ]
  },
  {
   "cell_type": "markdown",
   "metadata": {},
   "source": [
    "And now we have a file we can import to NYU Classes... we set `index=False` to eliminate the first column of row numbers, which will make the import to Classes fail:"
   ]
  },
  {
   "cell_type": "code",
   "execution_count": null,
   "metadata": {},
   "outputs": [],
   "source": [
    "grades.to_csv(\"grades4classes.csv\", index=False)"
   ]
  },
  {
   "cell_type": "code",
   "execution_count": null,
   "metadata": {},
   "outputs": [],
   "source": []
  },
  {
   "cell_type": "code",
   "execution_count": null,
   "metadata": {},
   "outputs": [],
   "source": []
  }
 ],
 "metadata": {
  "kernelspec": {
   "display_name": "Python 3",
   "language": "python",
   "name": "python3"
  },
  "language_info": {
   "codemirror_mode": {
    "name": "ipython",
    "version": 3
   },
   "file_extension": ".py",
   "mimetype": "text/x-python",
   "name": "python",
   "nbconvert_exporter": "python",
   "pygments_lexer": "ipython3",
   "version": "3.9.0"
  }
 },
 "nbformat": 4,
 "nbformat_minor": 4
}
